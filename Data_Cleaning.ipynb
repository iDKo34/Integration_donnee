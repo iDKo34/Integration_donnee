{
  "cells": [
    {
      "cell_type": "markdown",
      "metadata": {
        "id": "RHGsJCTw3wTb"
      },
      "source": [
        "# <font color=\"#114b98\">Conception d'une application permettant de génrer un menu en fonction du régime suivi</font>\n",
        "\n",
        "\n",
        "\n",
        "L'application génère des menus hebdomadaires personnalisés en fonction du régime suivi (végétarien, céto, etc.), avec des recettes adaptées aux préférences et restrictions de l'utilisateur. Elle simplifie la planification des repas, en proposant des idées variées pour chaque jour de la semaine.\n",
        "\n",
        "Nous allons dans un premier temps **traiter le jeu de données afin de repérer des variables pertinentes** pour les traitements à venir et **automatiser ces traitements** pour éviter de répéter ces opérations."
      ]
    },
    {
      "cell_type": "markdown",
      "metadata": {
        "id": "b-Utm5bW3wTc"
      },
      "source": [
        "## <font color=\"#00afe6\">Sommaire</font>\n",
        "[1.1. Colonnes et lignes vides / Doublons](#section_1)     \n",
        "[1.2. Variables redondantes](#section_2)     \n",
        "[1.3. Les pays de l'analyse](#section_3)     \n",
        "[1.4. Les catégories de produits](#section_4)          \n",
        "[1.5. Compléter les valeurs manquantes ou aberrantes](#section_5)     \n",
        "[1.6. Calcul des Nutri-Scores manquants](#section_6)     "
      ]
    },
    {
      "cell_type": "markdown",
      "metadata": {
        "id": "3U6AfEVp3wTd"
      },
      "source": [
        "## <font color=\"#00afe6\">1. Nettoyage des données</font>"
      ]
    },
    {
      "cell_type": "code",
      "execution_count": 3,
      "metadata": {
        "_cell_guid": "b1076dfc-b9ad-4769-8c92-a6c4dae69d19",
        "_uuid": "8f2839f25d086af736a60e9eeb907d3b93b6e0e5",
        "colab": {
          "base_uri": "https://localhost:8080/"
        },
        "id": "gwqFnXZ23wTd",
        "outputId": "74b0c3fd-c79f-4ee1-f6e3-9d3c847490e8",
        "trusted": true
      },
      "outputs": [
        {
          "name": "stdout",
          "output_type": "stream",
          "text": [
            "Path to dataset files: C:\\Users\\calvy\\.cache\\kagglehub\\datasets\\openfoodfacts\\world-food-facts\\versions\\5\n"
          ]
        }
      ],
      "source": [
        "import numpy as np # linear algebra\n",
        "import pandas as pd # data processing, CSV file I/O (e.g. pd.read_csv)\n",
        "import matplotlib.pyplot as plt\n",
        "import seaborn as sns\n",
        "import kagglehub\n",
        "import os\n",
        "# Download latest version\n",
        "path = kagglehub.dataset_download(\"openfoodfacts/world-food-facts\")\n",
        "print(\"Path to dataset files:\", path)\n",
        "\n",
        "\n",
        "\n"
      ]
    },
    {
      "cell_type": "markdown",
      "metadata": {
        "id": "r3khdcWZ3wTd"
      },
      "source": [
        "Le jeu de données téléchargé en CSV sur le site [Open Food Facts](https://world.openfoodfacts.org/) est importé dans le Notebook via la méthode `read_csv` de la librairie `pandas`"
      ]
    },
    {
      "cell_type": "code",
      "execution_count": 8,
      "metadata": {
        "id": "CAFdubE93wTd",
        "trusted": true
      },
      "outputs": [],
      "source": [
        "datas = pd.read_csv(\"C:\\\\Users\\\\calvy\\\\Downloads\\\\en.openfoodfacts.org.products.csv\\\\en.openfoodfacts.org.products.csv\", \n",
        "                    sep='\\t', low_memory=False)\n"
      ]
    },
    {
      "cell_type": "markdown",
      "metadata": {
        "id": "lQ7B5on83wTe"
      },
      "source": [
        "Affichons à présent quelques lignes au hasard du dataset puis regardons sa `shape`"
      ]
    },
    {
      "cell_type": "code",
      "execution_count": 9,
      "metadata": {
        "colab": {
          "base_uri": "https://localhost:8080/",
          "height": 260
        },
        "id": "EmfLjEqN3wTe",
        "outputId": "ba24d0e8-c4e6-4d4e-c382-aefb3301b5e7",
        "trusted": true
      },
      "outputs": [
        {
          "data": {
            "text/html": [
              "<div>\n",
              "<style scoped>\n",
              "    .dataframe tbody tr th:only-of-type {\n",
              "        vertical-align: middle;\n",
              "    }\n",
              "\n",
              "    .dataframe tbody tr th {\n",
              "        vertical-align: top;\n",
              "    }\n",
              "\n",
              "    .dataframe thead th {\n",
              "        text-align: right;\n",
              "    }\n",
              "</style>\n",
              "<table border=\"1\" class=\"dataframe\">\n",
              "  <thead>\n",
              "    <tr style=\"text-align: right;\">\n",
              "      <th></th>\n",
              "      <th>code</th>\n",
              "      <th>url</th>\n",
              "      <th>creator</th>\n",
              "      <th>created_t</th>\n",
              "      <th>created_datetime</th>\n",
              "      <th>last_modified_t</th>\n",
              "      <th>last_modified_datetime</th>\n",
              "      <th>product_name</th>\n",
              "      <th>abbreviated_product_name</th>\n",
              "      <th>generic_name</th>\n",
              "      <th>...</th>\n",
              "      <th>carbon-footprint-from-meat-or-fish_100g</th>\n",
              "      <th>nutrition-score-fr_100g</th>\n",
              "      <th>nutrition-score-uk_100g</th>\n",
              "      <th>glycemic-index_100g</th>\n",
              "      <th>water-hardness_100g</th>\n",
              "      <th>choline_100g</th>\n",
              "      <th>phylloquinone_100g</th>\n",
              "      <th>beta-glucan_100g</th>\n",
              "      <th>inositol_100g</th>\n",
              "      <th>carnitine_100g</th>\n",
              "    </tr>\n",
              "  </thead>\n",
              "  <tbody>\n",
              "    <tr>\n",
              "      <th>48336</th>\n",
              "      <td>0024842217440</td>\n",
              "      <td>http://world-en.openfoodfacts.org/product/0024...</td>\n",
              "      <td>org-database-usda</td>\n",
              "      <td>1587655197</td>\n",
              "      <td>2020-04-23T15:19:57Z</td>\n",
              "      <td>1587655197</td>\n",
              "      <td>2020-04-23T15:19:57Z</td>\n",
              "      <td>Herb chicken tortellini with chicken, seasoned...</td>\n",
              "      <td>NaN</td>\n",
              "      <td>NaN</td>\n",
              "      <td>...</td>\n",
              "      <td>NaN</td>\n",
              "      <td>2.0</td>\n",
              "      <td>NaN</td>\n",
              "      <td>NaN</td>\n",
              "      <td>NaN</td>\n",
              "      <td>NaN</td>\n",
              "      <td>NaN</td>\n",
              "      <td>NaN</td>\n",
              "      <td>NaN</td>\n",
              "      <td>NaN</td>\n",
              "    </tr>\n",
              "    <tr>\n",
              "      <th>590058</th>\n",
              "      <td>2644682012142</td>\n",
              "      <td>http://world-en.openfoodfacts.org/product/2644...</td>\n",
              "      <td>kiliweb</td>\n",
              "      <td>1552126138</td>\n",
              "      <td>2019-03-09T10:08:58Z</td>\n",
              "      <td>1611783316</td>\n",
              "      <td>2021-01-27T21:35:16Z</td>\n",
              "      <td>Pain d'epeautre bio</td>\n",
              "      <td>NaN</td>\n",
              "      <td>NaN</td>\n",
              "      <td>...</td>\n",
              "      <td>NaN</td>\n",
              "      <td>NaN</td>\n",
              "      <td>NaN</td>\n",
              "      <td>NaN</td>\n",
              "      <td>NaN</td>\n",
              "      <td>NaN</td>\n",
              "      <td>NaN</td>\n",
              "      <td>NaN</td>\n",
              "      <td>NaN</td>\n",
              "      <td>NaN</td>\n",
              "    </tr>\n",
              "    <tr>\n",
              "      <th>521512</th>\n",
              "      <td>2211018065204</td>\n",
              "      <td>http://world-en.openfoodfacts.org/product/2211...</td>\n",
              "      <td>kiliweb</td>\n",
              "      <td>1523112611</td>\n",
              "      <td>2018-04-07T14:50:11Z</td>\n",
              "      <td>1542729986</td>\n",
              "      <td>2018-11-20T16:06:26Z</td>\n",
              "      <td>Saucisse de canard brasse</td>\n",
              "      <td>NaN</td>\n",
              "      <td>NaN</td>\n",
              "      <td>...</td>\n",
              "      <td>NaN</td>\n",
              "      <td>13.0</td>\n",
              "      <td>NaN</td>\n",
              "      <td>NaN</td>\n",
              "      <td>NaN</td>\n",
              "      <td>NaN</td>\n",
              "      <td>NaN</td>\n",
              "      <td>NaN</td>\n",
              "      <td>NaN</td>\n",
              "      <td>NaN</td>\n",
              "    </tr>\n",
              "    <tr>\n",
              "      <th>782834</th>\n",
              "      <td>3350030145248</td>\n",
              "      <td>http://world-en.openfoodfacts.org/product/3350...</td>\n",
              "      <td>openfoodfacts-contributors</td>\n",
              "      <td>1493559428</td>\n",
              "      <td>2017-04-30T13:37:08Z</td>\n",
              "      <td>1611155291</td>\n",
              "      <td>2021-01-20T15:08:11Z</td>\n",
              "      <td>La Tendresse aux framboises</td>\n",
              "      <td>NaN</td>\n",
              "      <td>Patisserie aux framboises</td>\n",
              "      <td>...</td>\n",
              "      <td>NaN</td>\n",
              "      <td>12.0</td>\n",
              "      <td>NaN</td>\n",
              "      <td>NaN</td>\n",
              "      <td>NaN</td>\n",
              "      <td>NaN</td>\n",
              "      <td>NaN</td>\n",
              "      <td>NaN</td>\n",
              "      <td>NaN</td>\n",
              "      <td>NaN</td>\n",
              "    </tr>\n",
              "    <tr>\n",
              "      <th>1029024</th>\n",
              "      <td>4006195006434</td>\n",
              "      <td>http://world-en.openfoodfacts.org/product/4006...</td>\n",
              "      <td>kiliweb</td>\n",
              "      <td>1560335834</td>\n",
              "      <td>2019-06-12T10:37:14Z</td>\n",
              "      <td>1560335836</td>\n",
              "      <td>2019-06-12T10:37:16Z</td>\n",
              "      <td>Pumpkin Cocos Soup</td>\n",
              "      <td>NaN</td>\n",
              "      <td>NaN</td>\n",
              "      <td>...</td>\n",
              "      <td>NaN</td>\n",
              "      <td>NaN</td>\n",
              "      <td>NaN</td>\n",
              "      <td>NaN</td>\n",
              "      <td>NaN</td>\n",
              "      <td>NaN</td>\n",
              "      <td>NaN</td>\n",
              "      <td>NaN</td>\n",
              "      <td>NaN</td>\n",
              "      <td>NaN</td>\n",
              "    </tr>\n",
              "  </tbody>\n",
              "</table>\n",
              "<p>5 rows × 184 columns</p>\n",
              "</div>"
            ],
            "text/plain": [
              "                  code                                                url  \\\n",
              "48336    0024842217440  http://world-en.openfoodfacts.org/product/0024...   \n",
              "590058   2644682012142  http://world-en.openfoodfacts.org/product/2644...   \n",
              "521512   2211018065204  http://world-en.openfoodfacts.org/product/2211...   \n",
              "782834   3350030145248  http://world-en.openfoodfacts.org/product/3350...   \n",
              "1029024  4006195006434  http://world-en.openfoodfacts.org/product/4006...   \n",
              "\n",
              "                            creator   created_t      created_datetime  \\\n",
              "48336             org-database-usda  1587655197  2020-04-23T15:19:57Z   \n",
              "590058                      kiliweb  1552126138  2019-03-09T10:08:58Z   \n",
              "521512                      kiliweb  1523112611  2018-04-07T14:50:11Z   \n",
              "782834   openfoodfacts-contributors  1493559428  2017-04-30T13:37:08Z   \n",
              "1029024                     kiliweb  1560335834  2019-06-12T10:37:14Z   \n",
              "\n",
              "         last_modified_t last_modified_datetime  \\\n",
              "48336         1587655197   2020-04-23T15:19:57Z   \n",
              "590058        1611783316   2021-01-27T21:35:16Z   \n",
              "521512        1542729986   2018-11-20T16:06:26Z   \n",
              "782834        1611155291   2021-01-20T15:08:11Z   \n",
              "1029024       1560335836   2019-06-12T10:37:16Z   \n",
              "\n",
              "                                              product_name  \\\n",
              "48336    Herb chicken tortellini with chicken, seasoned...   \n",
              "590058                                 Pain d'epeautre bio   \n",
              "521512                           Saucisse de canard brasse   \n",
              "782834                         La Tendresse aux framboises   \n",
              "1029024                                 Pumpkin Cocos Soup   \n",
              "\n",
              "        abbreviated_product_name               generic_name  ...  \\\n",
              "48336                        NaN                        NaN  ...   \n",
              "590058                       NaN                        NaN  ...   \n",
              "521512                       NaN                        NaN  ...   \n",
              "782834                       NaN  Patisserie aux framboises  ...   \n",
              "1029024                      NaN                        NaN  ...   \n",
              "\n",
              "        carbon-footprint-from-meat-or-fish_100g nutrition-score-fr_100g  \\\n",
              "48336                                       NaN                     2.0   \n",
              "590058                                      NaN                     NaN   \n",
              "521512                                      NaN                    13.0   \n",
              "782834                                      NaN                    12.0   \n",
              "1029024                                     NaN                     NaN   \n",
              "\n",
              "        nutrition-score-uk_100g glycemic-index_100g water-hardness_100g  \\\n",
              "48336                       NaN                 NaN                 NaN   \n",
              "590058                      NaN                 NaN                 NaN   \n",
              "521512                      NaN                 NaN                 NaN   \n",
              "782834                      NaN                 NaN                 NaN   \n",
              "1029024                     NaN                 NaN                 NaN   \n",
              "\n",
              "        choline_100g phylloquinone_100g beta-glucan_100g inositol_100g  \\\n",
              "48336            NaN                NaN              NaN           NaN   \n",
              "590058           NaN                NaN              NaN           NaN   \n",
              "521512           NaN                NaN              NaN           NaN   \n",
              "782834           NaN                NaN              NaN           NaN   \n",
              "1029024          NaN                NaN              NaN           NaN   \n",
              "\n",
              "        carnitine_100g  \n",
              "48336              NaN  \n",
              "590058             NaN  \n",
              "521512             NaN  \n",
              "782834             NaN  \n",
              "1029024            NaN  \n",
              "\n",
              "[5 rows x 184 columns]"
            ]
          },
          "execution_count": 9,
          "metadata": {},
          "output_type": "execute_result"
        }
      ],
      "source": [
        "datas.sample(5)"
      ]
    },
    {
      "cell_type": "code",
      "execution_count": 10,
      "metadata": {
        "colab": {
          "base_uri": "https://localhost:8080/"
        },
        "id": "FUMGHEJb3wTe",
        "outputId": "3bff8d4b-5462-458f-8446-a78474f2947f",
        "trusted": true
      },
      "outputs": [
        {
          "name": "stdout",
          "output_type": "stream",
          "text": [
            "Le dataset compte 1701965 lignes et 184 variables\n"
          ]
        }
      ],
      "source": [
        "print (\"Le dataset compte {} lignes et {} variables\".format(datas.shape[0], datas.shape[1]))"
      ]
    },
    {
      "cell_type": "markdown",
      "metadata": {
        "id": "WdUI11W33wTe"
      },
      "source": [
        "### <font color=\"#ea1c60\" id=\"section_1\">1.1. Colonnes et lignes vides / Doublons</font>\n",
        "Regardons à présent les **variables qui comptent le plus de valeurs null**:"
      ]
    },
    {
      "cell_type": "code",
      "execution_count": 11,
      "metadata": {
        "id": "WblFLT0Y3wTe",
        "trusted": true
      },
      "outputs": [],
      "source": [
        "def null_factor(df, tx_threshold=50):\n",
        "  null_rate = ((datas.isnull().sum() / datas.shape[0])*100).sort_values(ascending=False).reset_index()\n",
        "  null_rate.columns = ['Variable','Taux_de_Null']\n",
        "  high_null_rate = null_rate[null_rate.Taux_de_Null >= tx_threshold]\n",
        "  return high_null_rate"
      ]
    },
    {
      "cell_type": "code",
      "execution_count": 12,
      "metadata": {
        "id": "PJJoU4fU3wTe",
        "trusted": true
      },
      "outputs": [
        {
          "data": {
            "text/html": [
              "<div>\n",
              "<style scoped>\n",
              "    .dataframe tbody tr th:only-of-type {\n",
              "        vertical-align: middle;\n",
              "    }\n",
              "\n",
              "    .dataframe tbody tr th {\n",
              "        vertical-align: top;\n",
              "    }\n",
              "\n",
              "    .dataframe thead th {\n",
              "        text-align: right;\n",
              "    }\n",
              "</style>\n",
              "<table border=\"1\" class=\"dataframe\">\n",
              "  <thead>\n",
              "    <tr style=\"text-align: right;\">\n",
              "      <th></th>\n",
              "      <th>Variable</th>\n",
              "      <th>Taux_de_Null</th>\n",
              "    </tr>\n",
              "  </thead>\n",
              "  <tbody>\n",
              "    <tr>\n",
              "      <th>0</th>\n",
              "      <td>allergens_en</td>\n",
              "      <td>100.0</td>\n",
              "    </tr>\n",
              "    <tr>\n",
              "      <th>1</th>\n",
              "      <td>no_nutriments</td>\n",
              "      <td>100.0</td>\n",
              "    </tr>\n",
              "    <tr>\n",
              "      <th>2</th>\n",
              "      <td>cities</td>\n",
              "      <td>100.0</td>\n",
              "    </tr>\n",
              "    <tr>\n",
              "      <th>3</th>\n",
              "      <td>ingredients_that_may_be_from_palm_oil</td>\n",
              "      <td>100.0</td>\n",
              "    </tr>\n",
              "    <tr>\n",
              "      <th>4</th>\n",
              "      <td>ingredients_from_palm_oil</td>\n",
              "      <td>100.0</td>\n",
              "    </tr>\n",
              "    <tr>\n",
              "      <th>5</th>\n",
              "      <td>additives</td>\n",
              "      <td>100.0</td>\n",
              "    </tr>\n",
              "    <tr>\n",
              "      <th>6</th>\n",
              "      <td>nutrition-score-uk_100g</td>\n",
              "      <td>100.0</td>\n",
              "    </tr>\n",
              "    <tr>\n",
              "      <th>7</th>\n",
              "      <td>water-hardness_100g</td>\n",
              "      <td>100.0</td>\n",
              "    </tr>\n",
              "  </tbody>\n",
              "</table>\n",
              "</div>"
            ],
            "text/plain": [
              "                                Variable  Taux_de_Null\n",
              "0                           allergens_en         100.0\n",
              "1                          no_nutriments         100.0\n",
              "2                                 cities         100.0\n",
              "3  ingredients_that_may_be_from_palm_oil         100.0\n",
              "4              ingredients_from_palm_oil         100.0\n",
              "5                              additives         100.0\n",
              "6                nutrition-score-uk_100g         100.0\n",
              "7                    water-hardness_100g         100.0"
            ]
          },
          "execution_count": 12,
          "metadata": {},
          "output_type": "execute_result"
        }
      ],
      "source": [
        "full_null_rate = null_factor(datas, 100)\n",
        "full_null_rate"
      ]
    },
    {
      "cell_type": "markdown",
      "metadata": {
        "id": "DwW-hzYU3wTf"
      },
      "source": [
        "Nous allons regarder le taux de remplissage des variables graphiquement et fixer un **seuil de suppression à 30% de taux de remplissage. Nous considérons que ce qui est en dessous de 30% n'est pas utilisable et donc la colonne doit être supprimée :"
      ]
    },
    {
      "cell_type": "code",
      "execution_count": 35,
      "metadata": {
        "id": "o2d7fFIg3wTf",
        "trusted": true
      },
      "outputs": [
        {
          "name": "stderr",
          "output_type": "stream",
          "text": [
            "C:\\Users\\calvy\\AppData\\Local\\Temp\\ipykernel_3876\\1576561398.py:16: FutureWarning: \n",
            "\n",
            "Passing `palette` without assigning `hue` is deprecated and will be removed in v0.14.0. Assign the `y` variable to `hue` and set `legend=False` for the same effect.\n",
            "\n",
            "  sns.barplot(x=\"Taux_de_Null\", y=\"Variable\", data=filling_features, palette=\"flare\")\n"
          ]
        },
        {
          "data": {
            "image/png": "[encoded data removed]",
            "text/plain": [
              "<Figure size 2000x3500 with 1 Axes>"
            ]
          },
          "metadata": {},
          "output_type": "display_data"
        }
      ],
      "source": [
        "filling_features = null_factor(datas, 0)\n",
        "filling_features[\"Taux_de_Null\"] = 100-filling_features[\"Taux_de_Null\"]\n",
        "filling_features = filling_features.sort_values(\"Taux_de_Null\", ascending=False)\n",
        "\n",
        "#Seuil de suppression\n",
        "sup_threshold = 30\n",
        "\n",
        "fig = plt.figure(figsize=(20, 35))\n",
        "\n",
        "font_title = {'family': 'serif',\n",
        "              'color':  '#114b98',\n",
        "              'weight': 'bold',\n",
        "              'size': 18,\n",
        "             }\n",
        "\n",
        "sns.barplot(x=\"Taux_de_Null\", y=\"Variable\", data=filling_features, palette=\"flare\")\n",
        "#Seuil pour suppression des varaibles\n",
        "plt.axvline(x=sup_threshold, linewidth=2, color = 'r')\n",
        "plt.text(sup_threshold+2, 65, 'Seuil de suppression des variables', fontsize = 16, color = 'r')\n",
        "\n",
        "plt.title(\"Taux de remplissage des variables dans le jeu de données (%)\", fontdict=font_title)\n",
        "plt.xlabel(\"Taux de remplissage (%)\")\n",
        "plt.show()"
      ]
    },
    {
      "cell_type": "markdown",
      "metadata": {},
      "source": [
        "Nous conservons toutes les colonnes qui sont supérieures à 30% de remplissage au sein du dataset."
      ]
    },
    {
      "cell_type": "code",
      "execution_count": 36,
      "metadata": {
        "id": "nAAQIPVW3wTf",
        "trusted": true
      },
      "outputs": [
        {
          "data": {
            "text/html": [
              "<div>\n",
              "<style scoped>\n",
              "    .dataframe tbody tr th:only-of-type {\n",
              "        vertical-align: middle;\n",
              "    }\n",
              "\n",
              "    .dataframe tbody tr th {\n",
              "        vertical-align: top;\n",
              "    }\n",
              "\n",
              "    .dataframe thead th {\n",
              "        text-align: right;\n",
              "    }\n",
              "</style>\n",
              "<table border=\"1\" class=\"dataframe\">\n",
              "  <thead>\n",
              "    <tr style=\"text-align: right;\">\n",
              "      <th></th>\n",
              "      <th>saturated-fat_100g</th>\n",
              "      <th>created_datetime</th>\n",
              "      <th>nutrition-score-fr_100g</th>\n",
              "      <th>code</th>\n",
              "      <th>energy-kcal_100g</th>\n",
              "      <th>created_t</th>\n",
              "      <th>states_en</th>\n",
              "      <th>url</th>\n",
              "      <th>last_modified_t</th>\n",
              "      <th>states</th>\n",
              "      <th>...</th>\n",
              "      <th>categories</th>\n",
              "      <th>ingredients_that_may_be_from_palm_oil_n</th>\n",
              "      <th>ingredients_from_palm_oil_n</th>\n",
              "      <th>additives_n</th>\n",
              "      <th>ingredients_text</th>\n",
              "      <th>nutriscore_score</th>\n",
              "      <th>nutriscore_grade</th>\n",
              "      <th>nova_group</th>\n",
              "      <th>image_ingredients_small_url</th>\n",
              "      <th>image_ingredients_url</th>\n",
              "    </tr>\n",
              "  </thead>\n",
              "  <tbody>\n",
              "    <tr>\n",
              "      <th>1226456</th>\n",
              "      <td>2.10</td>\n",
              "      <td>2017-02-27T17:25:42Z</td>\n",
              "      <td>0.0</td>\n",
              "      <td>5412158024732</td>\n",
              "      <td>391.0</td>\n",
              "      <td>1488216342</td>\n",
              "      <td>To be completed,Nutrition facts completed,Ingr...</td>\n",
              "      <td>http://world-en.openfoodfacts.org/product/5412...</td>\n",
              "      <td>1552057918</td>\n",
              "      <td>en:to-be-completed, en:nutrition-facts-complet...</td>\n",
              "      <td>...</td>\n",
              "      <td>NaN</td>\n",
              "      <td>NaN</td>\n",
              "      <td>NaN</td>\n",
              "      <td>NaN</td>\n",
              "      <td>NaN</td>\n",
              "      <td>NaN</td>\n",
              "      <td>NaN</td>\n",
              "      <td>NaN</td>\n",
              "      <td>https://static.openfoodfacts.org/images/produc...</td>\n",
              "      <td>https://static.openfoodfacts.org/images/produc...</td>\n",
              "    </tr>\n",
              "    <tr>\n",
              "      <th>123048</th>\n",
              "      <td>4.72</td>\n",
              "      <td>2020-04-23T10:08:30Z</td>\n",
              "      <td>12.0</td>\n",
              "      <td>0043695071436</td>\n",
              "      <td>244.0</td>\n",
              "      <td>1587636510</td>\n",
              "      <td>To be completed,Nutrition facts completed,Ingr...</td>\n",
              "      <td>http://world-en.openfoodfacts.org/product/0043...</td>\n",
              "      <td>1611528807</td>\n",
              "      <td>en:to-be-completed, en:nutrition-facts-complet...</td>\n",
              "      <td>...</td>\n",
              "      <td>Frozen foods</td>\n",
              "      <td>0.0</td>\n",
              "      <td>0.0</td>\n",
              "      <td>8.0</td>\n",
              "      <td>Enriched flour (wheat flour, malted barley flo...</td>\n",
              "      <td>12.0</td>\n",
              "      <td>d</td>\n",
              "      <td>4.0</td>\n",
              "      <td>NaN</td>\n",
              "      <td>NaN</td>\n",
              "    </tr>\n",
              "    <tr>\n",
              "      <th>288787</th>\n",
              "      <td>1.60</td>\n",
              "      <td>2017-04-08T18:02:01Z</td>\n",
              "      <td>0.0</td>\n",
              "      <td>0212385021383</td>\n",
              "      <td>139.0</td>\n",
              "      <td>1491674521</td>\n",
              "      <td>To be completed,Nutrition facts completed,Ingr...</td>\n",
              "      <td>http://world-en.openfoodfacts.org/product/0212...</td>\n",
              "      <td>1549139404</td>\n",
              "      <td>en:to-be-completed, en:nutrition-facts-complet...</td>\n",
              "      <td>...</td>\n",
              "      <td>NaN</td>\n",
              "      <td>NaN</td>\n",
              "      <td>NaN</td>\n",
              "      <td>NaN</td>\n",
              "      <td>NaN</td>\n",
              "      <td>NaN</td>\n",
              "      <td>NaN</td>\n",
              "      <td>NaN</td>\n",
              "      <td>NaN</td>\n",
              "      <td>NaN</td>\n",
              "    </tr>\n",
              "    <tr>\n",
              "      <th>1467881</th>\n",
              "      <td>0.50</td>\n",
              "      <td>2021-03-20T23:11:48Z</td>\n",
              "      <td>0.0</td>\n",
              "      <td>8410184040396</td>\n",
              "      <td>174.0</td>\n",
              "      <td>1616281908</td>\n",
              "      <td>To be completed,Nutrition facts completed,Ingr...</td>\n",
              "      <td>http://world-en.openfoodfacts.org/product/8410...</td>\n",
              "      <td>1616418137</td>\n",
              "      <td>en:to-be-completed, en:nutrition-facts-complet...</td>\n",
              "      <td>...</td>\n",
              "      <td>NaN</td>\n",
              "      <td>NaN</td>\n",
              "      <td>NaN</td>\n",
              "      <td>NaN</td>\n",
              "      <td>NaN</td>\n",
              "      <td>NaN</td>\n",
              "      <td>NaN</td>\n",
              "      <td>NaN</td>\n",
              "      <td>NaN</td>\n",
              "      <td>NaN</td>\n",
              "    </tr>\n",
              "    <tr>\n",
              "      <th>81153</th>\n",
              "      <td>5.00</td>\n",
              "      <td>2017-03-09T15:43:12Z</td>\n",
              "      <td>10.0</td>\n",
              "      <td>0038093250552</td>\n",
              "      <td>633.0</td>\n",
              "      <td>1489074192</td>\n",
              "      <td>To be completed,Nutrition facts completed,Ingr...</td>\n",
              "      <td>http://world-en.openfoodfacts.org/product/0038...</td>\n",
              "      <td>1587586758</td>\n",
              "      <td>en:to-be-completed, en:nutrition-facts-complet...</td>\n",
              "      <td>...</td>\n",
              "      <td>Snacks</td>\n",
              "      <td>0.0</td>\n",
              "      <td>0.0</td>\n",
              "      <td>0.0</td>\n",
              "      <td>Sunflower seeds and salt.</td>\n",
              "      <td>10.0</td>\n",
              "      <td>c</td>\n",
              "      <td>3.0</td>\n",
              "      <td>NaN</td>\n",
              "      <td>NaN</td>\n",
              "    </tr>\n",
              "  </tbody>\n",
              "</table>\n",
              "<p>5 rows × 46 columns</p>\n",
              "</div>"
            ],
            "text/plain": [
              "         saturated-fat_100g      created_datetime  nutrition-score-fr_100g  \\\n",
              "1226456                2.10  2017-02-27T17:25:42Z                      0.0   \n",
              "123048                 4.72  2020-04-23T10:08:30Z                     12.0   \n",
              "288787                 1.60  2017-04-08T18:02:01Z                      0.0   \n",
              "1467881                0.50  2021-03-20T23:11:48Z                      0.0   \n",
              "81153                  5.00  2017-03-09T15:43:12Z                     10.0   \n",
              "\n",
              "                  code  energy-kcal_100g   created_t  \\\n",
              "1226456  5412158024732             391.0  1488216342   \n",
              "123048   0043695071436             244.0  1587636510   \n",
              "288787   0212385021383             139.0  1491674521   \n",
              "1467881  8410184040396             174.0  1616281908   \n",
              "81153    0038093250552             633.0  1489074192   \n",
              "\n",
              "                                                 states_en  \\\n",
              "1226456  To be completed,Nutrition facts completed,Ingr...   \n",
              "123048   To be completed,Nutrition facts completed,Ingr...   \n",
              "288787   To be completed,Nutrition facts completed,Ingr...   \n",
              "1467881  To be completed,Nutrition facts completed,Ingr...   \n",
              "81153    To be completed,Nutrition facts completed,Ingr...   \n",
              "\n",
              "                                                       url  last_modified_t  \\\n",
              "1226456  http://world-en.openfoodfacts.org/product/5412...       1552057918   \n",
              "123048   http://world-en.openfoodfacts.org/product/0043...       1611528807   \n",
              "288787   http://world-en.openfoodfacts.org/product/0212...       1549139404   \n",
              "1467881  http://world-en.openfoodfacts.org/product/8410...       1616418137   \n",
              "81153    http://world-en.openfoodfacts.org/product/0038...       1587586758   \n",
              "\n",
              "                                                    states  ...    categories  \\\n",
              "1226456  en:to-be-completed, en:nutrition-facts-complet...  ...           NaN   \n",
              "123048   en:to-be-completed, en:nutrition-facts-complet...  ...  Frozen foods   \n",
              "288787   en:to-be-completed, en:nutrition-facts-complet...  ...           NaN   \n",
              "1467881  en:to-be-completed, en:nutrition-facts-complet...  ...           NaN   \n",
              "81153    en:to-be-completed, en:nutrition-facts-complet...  ...        Snacks   \n",
              "\n",
              "        ingredients_that_may_be_from_palm_oil_n ingredients_from_palm_oil_n  \\\n",
              "1226456                                     NaN                         NaN   \n",
              "123048                                      0.0                         0.0   \n",
              "288787                                      NaN                         NaN   \n",
              "1467881                                     NaN                         NaN   \n",
              "81153                                       0.0                         0.0   \n",
              "\n",
              "         additives_n                                   ingredients_text  \\\n",
              "1226456          NaN                                                NaN   \n",
              "123048           8.0  Enriched flour (wheat flour, malted barley flo...   \n",
              "288787           NaN                                                NaN   \n",
              "1467881          NaN                                                NaN   \n",
              "81153            0.0                          Sunflower seeds and salt.   \n",
              "\n",
              "         nutriscore_score  nutriscore_grade  nova_group  \\\n",
              "1226456               NaN               NaN         NaN   \n",
              "123048               12.0                 d         4.0   \n",
              "288787                NaN               NaN         NaN   \n",
              "1467881               NaN               NaN         NaN   \n",
              "81153                10.0                 c         3.0   \n",
              "\n",
              "                               image_ingredients_small_url  \\\n",
              "1226456  https://static.openfoodfacts.org/images/produc...   \n",
              "123048                                                 NaN   \n",
              "288787                                                 NaN   \n",
              "1467881                                                NaN   \n",
              "81153                                                  NaN   \n",
              "\n",
              "                                     image_ingredients_url  \n",
              "1226456  https://static.openfoodfacts.org/images/produc...  \n",
              "123048                                                 NaN  \n",
              "288787                                                 NaN  \n",
              "1467881                                                NaN  \n",
              "81153                                                  NaN  \n",
              "\n",
              "[5 rows x 46 columns]"
            ]
          },
          "execution_count": 36,
          "metadata": {},
          "output_type": "execute_result"
        }
      ],
      "source": [
        "#Liste des variables à conserver\n",
        "features_to_conserve = list(filling_features.loc[filling_features['Taux_de_Null']>=sup_threshold, 'Variable'].values)\n",
        "#Liste des variables supprimées\n",
        "deleted_features = list(filling_features.loc[filling_features['Taux_de_Null']<sup_threshold, 'Variable'].values)\n",
        "\n",
        "#Nouveau Dataset avec les variables conservées\n",
        "datas = datas[features_to_conserve].sort_values([\"created_datetime\",\"last_modified_datetime\"], ascending=True)\n",
        "datas.sample(5)\n"
      ]
    },
    {
      "cell_type": "markdown",
      "metadata": {
        "id": "1-kDcEF23wTf"
      },
      "source": [
        "155 features(colonnes) sur 184 ont un taux de valeurs nulles supérieur à 50%, ce qui représente une très grosse part de données manquantes. **La majeure partie de ces variables ne peuvent pas être recalculées** puisqu'il s'agit de mesures physico-chimiques directes sur les produits.\n",
        "\n",
        "Il reste à présent 46 features dans notre dataset. Pour la suite des analyses, nous aurons besoin d'un minimum d'informations sur **les nutriments** des produits. Ces données sont **suffixées avec** `_100g`. Nous allons donc **conserver les lignes pour lesquelles au moins une de ces features est complétée** :"
      ]
    },
    {
      "cell_type": "code",
      "execution_count": 41,
      "metadata": {
        "id": "BIAY2apr3wTf",
        "trusted": true
      },
      "outputs": [
        {
          "data": {
            "text/plain": [
              "(1124703, 46)"
            ]
          },
          "execution_count": 41,
          "metadata": {},
          "output_type": "execute_result"
        }
      ],
      "source": [
        "# Fonction pour rechercher les colonnes contenant '_100g'\n",
        "def search_componant(df, suffix='_100g'):\n",
        "    componant = []\n",
        "    for col in df.columns:\n",
        "        if suffix in col:\n",
        "            componant.append(col)\n",
        "    df_subset_columns = df[componant]\n",
        "    return df_subset_columns\n",
        "\n",
        "# Filtrer les colonnes \"_100g\"\n",
        "df_subset_nutients = search_componant(datas, '_100g')\n",
        "\n",
        "# Remplir les valeurs manquantes des colonnes \"_100g\" avec 0\n",
        "df_subset_nutients_filled = df_subset_nutients.fillna(0)\n",
        "\n",
        "# Mettre à jour les données principales avec les valeurs modifiées\n",
        "datas[df_subset_nutients.columns] = df_subset_nutients_filled\n",
        "\n",
        "# Maintenant, on élimine les lignes où toutes les colonnes de \"_100g\" sont NaN (si nécessaire)\n",
        "datas = datas[df_subset_nutients_filled.notnull().any(axis=1)]\n",
        "\n",
        "# Suppression des doublons en fonction du code\n",
        "datas.drop_duplicates(subset =\"code\", keep = 'last', inplace=True)\n",
        "\n",
        "# Vérifier la forme du dataframe après modification\n",
        "datas.sample(5)\n",
        "\n"
      ]
    },
    {
      "cell_type": "code",
      "execution_count": 42,
      "metadata": {
        "id": "SJ65kQ0Q3wTg",
        "trusted": true
      },
      "outputs": [
        {
          "data": {
            "text/plain": [
              "product_name          brands         \n",
              " 18 marrons glacés    Motta              1\n",
              "Peras en Almibar      El Cultivador      1\n",
              "Pera, kiwi y platano  Hipp               1\n",
              "Pera, plátano y kiwi  Hipp               1\n",
              "Pera-manzana          galifresh          1\n",
              "                                        ..\n",
              "Frischkäse            K-Classic          1\n",
              "                      Kaufland           1\n",
              "                      Leichter Genuss    1\n",
              "                      Milbona            1\n",
              "🐰 Lait du pays Alpin  Milka              1\n",
              "Name: code, Length: 699609, dtype: int64"
            ]
          },
          "execution_count": 42,
          "metadata": {},
          "output_type": "execute_result"
        }
      ],
      "source": [
        "# Suprression des colonnes dont la colonne product_name est vide. \n",
        "datas[(datas[\"product_name\"].isnull()==False)\n",
        "      & (datas[\"brands\"].isnull()==False)].groupby(by=[\"product_name\",\"brands\"])[\"code\"].nunique().sort_values(ascending=False)"
      ]
    },
    {
      "cell_type": "code",
      "execution_count": 24,
      "metadata": {
        "id": "TE64Zxq43wTg",
        "trusted": true
      },
      "outputs": [],
      "source": [
        "# Filtre les produits et marques non nulles, les regroupe par nom de produit et marque, puis compte le nombre de codes uniques associés à chaque combinaison. Enfin, elle trie ces résultats par ordre décroissant du nombre de codes uniques.\n",
        "datas = datas[(~datas.duplicated([\"product_name\",\"brands\"],keep=\"last\"))\n",
        "      | ((datas['product_name'].isnull()) & (datas['brands'].isnull()))]"
      ]
    },
    {
      "cell_type": "markdown",
      "metadata": {},
      "source": [
        "Après ce second nettoyage, nous avons 1 124 703 lignes et 46 colonnes."
      ]
    },
    {
      "cell_type": "code",
      "execution_count": 43,
      "metadata": {
        "id": "-4Ta-lo83wTg",
        "trusted": true
      },
      "outputs": [
        {
          "data": {
            "text/plain": [
              "(1124703, 46)"
            ]
          },
          "execution_count": 43,
          "metadata": {},
          "output_type": "execute_result"
        }
      ],
      "source": [
        "datas.shape"
      ]
    },
    {
      "cell_type": "markdown",
      "metadata": {
        "id": "rYMHyPmu3wTg"
      },
      "source": [
        "### <font color=\"#ea1c60\" id=\"section_2\">1.2. Variables redondantes</font>\n",
        "\n",
        "Certaines variables dans le dataset sont en réalité des variables redondantes. C'est par exemple le cas des variables suffixées par `_tags` ou `_en` qui ne font que reprendre d'autres features traduites ou simplifiées.\n",
        "\n",
        "C'est par exemple de cas des catégories produits :"
      ]
    },
    {
      "cell_type": "code",
      "execution_count": 44,
      "metadata": {
        "id": "5yij13Xi3wTg",
        "trusted": true
      },
      "outputs": [
        {
          "data": {
            "text/html": [
              "<div>\n",
              "<style scoped>\n",
              "    .dataframe tbody tr th:only-of-type {\n",
              "        vertical-align: middle;\n",
              "    }\n",
              "\n",
              "    .dataframe tbody tr th {\n",
              "        vertical-align: top;\n",
              "    }\n",
              "\n",
              "    .dataframe thead th {\n",
              "        text-align: right;\n",
              "    }\n",
              "</style>\n",
              "<table border=\"1\" class=\"dataframe\">\n",
              "  <thead>\n",
              "    <tr style=\"text-align: right;\">\n",
              "      <th></th>\n",
              "      <th>product_name</th>\n",
              "      <th>categories</th>\n",
              "      <th>categories_tags</th>\n",
              "      <th>categories_en</th>\n",
              "    </tr>\n",
              "  </thead>\n",
              "  <tbody>\n",
              "    <tr>\n",
              "      <th>1426329</th>\n",
              "      <td>Formamagio fresco</td>\n",
              "      <td>Formaggio spalmabile</td>\n",
              "      <td>en:dairies,en:fermented-foods,en:fermented-mil...</td>\n",
              "      <td>Dairies,Fermented foods,Fermented milk product...</td>\n",
              "    </tr>\n",
              "    <tr>\n",
              "      <th>669662</th>\n",
              "      <td>Pain de mie - sans croûte - 14 tranches</td>\n",
              "      <td>Aliments et boissons à base de végétaux, Alime...</td>\n",
              "      <td>en:plant-based-foods-and-beverages,en:plant-ba...</td>\n",
              "      <td>Plant-based foods and beverages,Plant-based fo...</td>\n",
              "    </tr>\n",
              "    <tr>\n",
              "      <th>451272</th>\n",
              "      <td>Peanut Butter Cup</td>\n",
              "      <td>Snacks</td>\n",
              "      <td>en:snacks</td>\n",
              "      <td>Snacks</td>\n",
              "    </tr>\n",
              "    <tr>\n",
              "      <th>624991</th>\n",
              "      <td>Pursoup veloute 10 legumes liebig 2x1l lot fam...</td>\n",
              "      <td>Aliments et boissons à base de végétaux, Alime...</td>\n",
              "      <td>en:plant-based-foods-and-beverages,en:plant-ba...</td>\n",
              "      <td>Plant-based foods and beverages,Plant-based fo...</td>\n",
              "    </tr>\n",
              "    <tr>\n",
              "      <th>726118</th>\n",
              "      <td>Petits suisse Montebourg with chocolate - Fres...</td>\n",
              "      <td>Produits laitiers, Desserts, Desserts lactés, ...</td>\n",
              "      <td>en:dairies,en:desserts,en:dairy-desserts,en:pe...</td>\n",
              "      <td>Dairies,Desserts,Dairy desserts,Petits suisses...</td>\n",
              "    </tr>\n",
              "  </tbody>\n",
              "</table>\n",
              "</div>"
            ],
            "text/plain": [
              "                                              product_name  \\\n",
              "1426329                                  Formamagio fresco   \n",
              "669662             Pain de mie - sans croûte - 14 tranches   \n",
              "451272                                   Peanut Butter Cup   \n",
              "624991   Pursoup veloute 10 legumes liebig 2x1l lot fam...   \n",
              "726118   Petits suisse Montebourg with chocolate - Fres...   \n",
              "\n",
              "                                                categories  \\\n",
              "1426329                               Formaggio spalmabile   \n",
              "669662   Aliments et boissons à base de végétaux, Alime...   \n",
              "451272                                              Snacks   \n",
              "624991   Aliments et boissons à base de végétaux, Alime...   \n",
              "726118   Produits laitiers, Desserts, Desserts lactés, ...   \n",
              "\n",
              "                                           categories_tags  \\\n",
              "1426329  en:dairies,en:fermented-foods,en:fermented-mil...   \n",
              "669662   en:plant-based-foods-and-beverages,en:plant-ba...   \n",
              "451272                                           en:snacks   \n",
              "624991   en:plant-based-foods-and-beverages,en:plant-ba...   \n",
              "726118   en:dairies,en:desserts,en:dairy-desserts,en:pe...   \n",
              "\n",
              "                                             categories_en  \n",
              "1426329  Dairies,Fermented foods,Fermented milk product...  \n",
              "669662   Plant-based foods and beverages,Plant-based fo...  \n",
              "451272                                              Snacks  \n",
              "624991   Plant-based foods and beverages,Plant-based fo...  \n",
              "726118   Dairies,Desserts,Dairy desserts,Petits suisses...  "
            ]
          },
          "execution_count": 44,
          "metadata": {},
          "output_type": "execute_result"
        }
      ],
      "source": [
        "category_columns = ['categories','categories_tags','categories_en']\n",
        "datas[datas[category_columns].notnull().any(axis=1)][['product_name'] + category_columns].sample(5)"
      ]
    },
    {
      "cell_type": "markdown",
      "metadata": {
        "id": "hPDCtD0y3wTg"
      },
      "source": [
        "On remarque dans ces quelques exemples que les variables sont bien redondantes. Nous allons donc, lorsque la colonne suffixée `_en` existe, supprimer toutes les autres colonnes identiques non suffixées ou contenant `_tags` :"
      ]
    },
    {
      "cell_type": "code",
      "execution_count": 45,
      "metadata": {
        "id": "8mJJ0DEC3wTg",
        "trusted": true
      },
      "outputs": [],
      "source": [
        "def search_redundant_col(df):\n",
        "  redundant_columns = []\n",
        "  for col in df.columns:\n",
        "    if \"_en\" in col:\n",
        "      en = col.replace('_en','')\n",
        "      tags = col.replace('_en','_tags')\n",
        "      print(\"{:<20} 'Sans suffixe' -> {} ; 'Suffixe _tags' -> {}\".format(col,\n",
        "                                                                        en in df.columns, tags in df.columns))\n",
        "      if en in df.columns :\n",
        "        redundant_columns.append(en)\n",
        "      if tags in df.columns :\n",
        "        redundant_columns.append(tags)\n",
        "\n",
        "    if '_tags' in col:\n",
        "      tags_2 = col.replace('_tags','')\n",
        "      print(\"{:<20} 'Suffixe _tags' -> {} ;\".format(tags_2, tags_2 in df.columns))\n",
        "      if tags_2 in df.columns :\n",
        "        redundant_columns.append(col)\n",
        "\n",
        "  return redundant_columns"
      ]
    },
    {
      "cell_type": "code",
      "execution_count": 46,
      "metadata": {
        "id": "rHraW5VY3wTg",
        "trusted": true
      },
      "outputs": [
        {
          "name": "stdout",
          "output_type": "stream",
          "text": [
            "states_en            'Sans suffixe' -> True ; 'Suffixe _tags' -> True\n",
            "states               'Suffixe _tags' -> True ;\n",
            "countries            'Suffixe _tags' -> True ;\n",
            "countries_en         'Sans suffixe' -> True ; 'Suffixe _tags' -> True\n",
            "brands               'Suffixe _tags' -> True ;\n",
            "categories           'Suffixe _tags' -> True ;\n",
            "main_category_en     'Sans suffixe' -> True ; 'Suffixe _tags' -> False\n",
            "categories_en        'Sans suffixe' -> True ; 'Suffixe _tags' -> True\n"
          ]
        }
      ],
      "source": [
        "datas.drop(search_redundant_col(datas), axis=1, inplace=True)"
      ]
    },
    {
      "cell_type": "markdown",
      "metadata": {
        "id": "WIkNZ7jQ3wTh"
      },
      "source": [
        "**Les dates également comportent une certaine redondance**. Entre les timestamp et les dates au format \"yyyy-mm-dd\", il est nécessaire d'en éliminer :"
      ]
    },
    {
      "cell_type": "code",
      "execution_count": 47,
      "metadata": {
        "id": "Dgo5MOiv3wTh",
        "trusted": true
      },
      "outputs": [
        {
          "data": {
            "text/html": [
              "<div>\n",
              "<style scoped>\n",
              "    .dataframe tbody tr th:only-of-type {\n",
              "        vertical-align: middle;\n",
              "    }\n",
              "\n",
              "    .dataframe tbody tr th {\n",
              "        vertical-align: top;\n",
              "    }\n",
              "\n",
              "    .dataframe thead th {\n",
              "        text-align: right;\n",
              "    }\n",
              "</style>\n",
              "<table border=\"1\" class=\"dataframe\">\n",
              "  <thead>\n",
              "    <tr style=\"text-align: right;\">\n",
              "      <th></th>\n",
              "      <th>saturated-fat_100g</th>\n",
              "      <th>created_datetime</th>\n",
              "      <th>nutrition-score-fr_100g</th>\n",
              "      <th>code</th>\n",
              "      <th>energy-kcal_100g</th>\n",
              "      <th>states_en</th>\n",
              "      <th>url</th>\n",
              "      <th>last_modified_datetime</th>\n",
              "      <th>pnns_groups_2</th>\n",
              "      <th>energy_100g</th>\n",
              "      <th>...</th>\n",
              "      <th>categories_en</th>\n",
              "      <th>ingredients_that_may_be_from_palm_oil_n</th>\n",
              "      <th>ingredients_from_palm_oil_n</th>\n",
              "      <th>additives_n</th>\n",
              "      <th>ingredients_text</th>\n",
              "      <th>nutriscore_score</th>\n",
              "      <th>nutriscore_grade</th>\n",
              "      <th>nova_group</th>\n",
              "      <th>image_ingredients_small_url</th>\n",
              "      <th>image_ingredients_url</th>\n",
              "    </tr>\n",
              "  </thead>\n",
              "  <tbody>\n",
              "    <tr>\n",
              "      <th>943812</th>\n",
              "      <td>7.0</td>\n",
              "      <td>2012-01-31 14:43:58</td>\n",
              "      <td>28.0</td>\n",
              "      <td>3760029248001</td>\n",
              "      <td>0.0</td>\n",
              "      <td>To be checked,Complete,Nutrition facts complet...</td>\n",
              "      <td>http://world-en.openfoodfacts.org/product/3760...</td>\n",
              "      <td>2018-08-30 21:14:54</td>\n",
              "      <td>Sweets</td>\n",
              "      <td>1717.0</td>\n",
              "      <td>...</td>\n",
              "      <td>Groceries,Snacks,Sweet snacks,Confectioneries,...</td>\n",
              "      <td>0.0</td>\n",
              "      <td>0.0</td>\n",
              "      <td>2.0</td>\n",
              "      <td>_Lait_ reconstitué en poudre 26% de MG, sirop ...</td>\n",
              "      <td>28.0</td>\n",
              "      <td>e</td>\n",
              "      <td>4.0</td>\n",
              "      <td>https://static.openfoodfacts.org/images/produc...</td>\n",
              "      <td>https://static.openfoodfacts.org/images/produc...</td>\n",
              "    </tr>\n",
              "    <tr>\n",
              "      <th>621796</th>\n",
              "      <td>1.3</td>\n",
              "      <td>2012-02-09 10:34:56</td>\n",
              "      <td>10.0</td>\n",
              "      <td>3029330062806</td>\n",
              "      <td>0.0</td>\n",
              "      <td>To be completed,Nutrition facts completed,Ingr...</td>\n",
              "      <td>http://world-en.openfoodfacts.org/product/3029...</td>\n",
              "      <td>2016-12-23 16:38:19</td>\n",
              "      <td>Appetizers</td>\n",
              "      <td>1898.0</td>\n",
              "      <td>...</td>\n",
              "      <td>Snacks,Salty snacks,Appetizers,Crackers</td>\n",
              "      <td>0.0</td>\n",
              "      <td>0.0</td>\n",
              "      <td>1.0</td>\n",
              "      <td>Farine de blé, huile de tournesol, eau, sel, s...</td>\n",
              "      <td>10.0</td>\n",
              "      <td>c</td>\n",
              "      <td>3.0</td>\n",
              "      <td>https://static.openfoodfacts.org/images/produc...</td>\n",
              "      <td>https://static.openfoodfacts.org/images/produc...</td>\n",
              "    </tr>\n",
              "    <tr>\n",
              "      <th>706931</th>\n",
              "      <td>1.2</td>\n",
              "      <td>2012-02-11 14:51:07</td>\n",
              "      <td>14.0</td>\n",
              "      <td>3257980112590</td>\n",
              "      <td>381.0</td>\n",
              "      <td>To be completed,Nutrition facts completed,Ingr...</td>\n",
              "      <td>http://world-en.openfoodfacts.org/product/3257...</td>\n",
              "      <td>2021-02-22 22:39:03</td>\n",
              "      <td>Biscuits and cakes</td>\n",
              "      <td>1615.0</td>\n",
              "      <td>...</td>\n",
              "      <td>Snacks,Sweet snacks,Biscuits and cakes,Biscuit...</td>\n",
              "      <td>0.0</td>\n",
              "      <td>0.0</td>\n",
              "      <td>2.0</td>\n",
              "      <td>Sucre - farine de blé - œufs frais 25% - sirop...</td>\n",
              "      <td>14.0</td>\n",
              "      <td>d</td>\n",
              "      <td>4.0</td>\n",
              "      <td>https://static.openfoodfacts.org/images/produc...</td>\n",
              "      <td>https://static.openfoodfacts.org/images/produc...</td>\n",
              "    </tr>\n",
              "    <tr>\n",
              "      <th>616580</th>\n",
              "      <td>0.6</td>\n",
              "      <td>2012-02-11 15:07:23</td>\n",
              "      <td>13.0</td>\n",
              "      <td>3017760038409</td>\n",
              "      <td>351.0</td>\n",
              "      <td>To be completed,Nutrition facts completed,Ingr...</td>\n",
              "      <td>http://world-en.openfoodfacts.org/product/3017...</td>\n",
              "      <td>2021-02-02 20:38:52</td>\n",
              "      <td>Biscuits and cakes</td>\n",
              "      <td>1487.0</td>\n",
              "      <td>...</td>\n",
              "      <td>Snacks,Sweet snacks,Biscuits and cakes,Biscuit...</td>\n",
              "      <td>0.0</td>\n",
              "      <td>0.0</td>\n",
              "      <td>2.0</td>\n",
              "      <td>Sirop de glucose-fructose, purée de fraises 27...</td>\n",
              "      <td>13.0</td>\n",
              "      <td>d</td>\n",
              "      <td>4.0</td>\n",
              "      <td>https://static.openfoodfacts.org/images/produc...</td>\n",
              "      <td>https://static.openfoodfacts.org/images/produc...</td>\n",
              "    </tr>\n",
              "    <tr>\n",
              "      <th>649775</th>\n",
              "      <td>14.0</td>\n",
              "      <td>2012-02-11 18:51:58</td>\n",
              "      <td>19.0</td>\n",
              "      <td>3160181210524</td>\n",
              "      <td>0.0</td>\n",
              "      <td>To be checked,Complete,Nutrition facts complet...</td>\n",
              "      <td>http://world-en.openfoodfacts.org/product/3160...</td>\n",
              "      <td>2019-08-23 19:57:37</td>\n",
              "      <td>Biscuits and cakes</td>\n",
              "      <td>2040.0</td>\n",
              "      <td>...</td>\n",
              "      <td>Snacks,Sweet snacks,Biscuits and cakes,Biscuit...</td>\n",
              "      <td>0.0</td>\n",
              "      <td>1.0</td>\n",
              "      <td>2.0</td>\n",
              "      <td>pépites de chocolat* 30 % (pâte de cacao*, suc...</td>\n",
              "      <td>19.0</td>\n",
              "      <td>e</td>\n",
              "      <td>4.0</td>\n",
              "      <td>https://static.openfoodfacts.org/images/produc...</td>\n",
              "      <td>https://static.openfoodfacts.org/images/produc...</td>\n",
              "    </tr>\n",
              "  </tbody>\n",
              "</table>\n",
              "<p>5 rows × 36 columns</p>\n",
              "</div>"
            ],
            "text/plain": [
              "        saturated-fat_100g    created_datetime  nutrition-score-fr_100g  \\\n",
              "943812                 7.0 2012-01-31 14:43:58                     28.0   \n",
              "621796                 1.3 2012-02-09 10:34:56                     10.0   \n",
              "706931                 1.2 2012-02-11 14:51:07                     14.0   \n",
              "616580                 0.6 2012-02-11 15:07:23                     13.0   \n",
              "649775                14.0 2012-02-11 18:51:58                     19.0   \n",
              "\n",
              "                 code  energy-kcal_100g  \\\n",
              "943812  3760029248001               0.0   \n",
              "621796  3029330062806               0.0   \n",
              "706931  3257980112590             381.0   \n",
              "616580  3017760038409             351.0   \n",
              "649775  3160181210524               0.0   \n",
              "\n",
              "                                                states_en  \\\n",
              "943812  To be checked,Complete,Nutrition facts complet...   \n",
              "621796  To be completed,Nutrition facts completed,Ingr...   \n",
              "706931  To be completed,Nutrition facts completed,Ingr...   \n",
              "616580  To be completed,Nutrition facts completed,Ingr...   \n",
              "649775  To be checked,Complete,Nutrition facts complet...   \n",
              "\n",
              "                                                      url  \\\n",
              "943812  http://world-en.openfoodfacts.org/product/3760...   \n",
              "621796  http://world-en.openfoodfacts.org/product/3029...   \n",
              "706931  http://world-en.openfoodfacts.org/product/3257...   \n",
              "616580  http://world-en.openfoodfacts.org/product/3017...   \n",
              "649775  http://world-en.openfoodfacts.org/product/3160...   \n",
              "\n",
              "       last_modified_datetime       pnns_groups_2  energy_100g  ...  \\\n",
              "943812    2018-08-30 21:14:54              Sweets       1717.0  ...   \n",
              "621796    2016-12-23 16:38:19          Appetizers       1898.0  ...   \n",
              "706931    2021-02-22 22:39:03  Biscuits and cakes       1615.0  ...   \n",
              "616580    2021-02-02 20:38:52  Biscuits and cakes       1487.0  ...   \n",
              "649775    2019-08-23 19:57:37  Biscuits and cakes       2040.0  ...   \n",
              "\n",
              "                                            categories_en  \\\n",
              "943812  Groceries,Snacks,Sweet snacks,Confectioneries,...   \n",
              "621796            Snacks,Salty snacks,Appetizers,Crackers   \n",
              "706931  Snacks,Sweet snacks,Biscuits and cakes,Biscuit...   \n",
              "616580  Snacks,Sweet snacks,Biscuits and cakes,Biscuit...   \n",
              "649775  Snacks,Sweet snacks,Biscuits and cakes,Biscuit...   \n",
              "\n",
              "        ingredients_that_may_be_from_palm_oil_n  ingredients_from_palm_oil_n  \\\n",
              "943812                                      0.0                          0.0   \n",
              "621796                                      0.0                          0.0   \n",
              "706931                                      0.0                          0.0   \n",
              "616580                                      0.0                          0.0   \n",
              "649775                                      0.0                          1.0   \n",
              "\n",
              "        additives_n                                   ingredients_text  \\\n",
              "943812          2.0  _Lait_ reconstitué en poudre 26% de MG, sirop ...   \n",
              "621796          1.0  Farine de blé, huile de tournesol, eau, sel, s...   \n",
              "706931          2.0  Sucre - farine de blé - œufs frais 25% - sirop...   \n",
              "616580          2.0  Sirop de glucose-fructose, purée de fraises 27...   \n",
              "649775          2.0  pépites de chocolat* 30 % (pâte de cacao*, suc...   \n",
              "\n",
              "        nutriscore_score nutriscore_grade nova_group  \\\n",
              "943812              28.0                e        4.0   \n",
              "621796              10.0                c        3.0   \n",
              "706931              14.0                d        4.0   \n",
              "616580              13.0                d        4.0   \n",
              "649775              19.0                e        4.0   \n",
              "\n",
              "                              image_ingredients_small_url  \\\n",
              "943812  https://static.openfoodfacts.org/images/produc...   \n",
              "621796  https://static.openfoodfacts.org/images/produc...   \n",
              "706931  https://static.openfoodfacts.org/images/produc...   \n",
              "616580  https://static.openfoodfacts.org/images/produc...   \n",
              "649775  https://static.openfoodfacts.org/images/produc...   \n",
              "\n",
              "                                    image_ingredients_url  \n",
              "943812  https://static.openfoodfacts.org/images/produc...  \n",
              "621796  https://static.openfoodfacts.org/images/produc...  \n",
              "706931  https://static.openfoodfacts.org/images/produc...  \n",
              "616580  https://static.openfoodfacts.org/images/produc...  \n",
              "649775  https://static.openfoodfacts.org/images/produc...  \n",
              "\n",
              "[5 rows x 36 columns]"
            ]
          },
          "execution_count": 47,
          "metadata": {},
          "output_type": "execute_result"
        }
      ],
      "source": [
        "datas['created_datetime'] = pd.to_datetime(datas['created_t'], unit='s')\n",
        "datas['last_modified_datetime'] = pd.to_datetime(datas['last_modified_t'], unit='s')\n",
        "datas = datas.drop(['created_t','last_modified_t'], axis=1)\n",
        "datas.head()"
      ]
    },
    {
      "cell_type": "markdown",
      "metadata": {
        "id": "1qhkok0e3wTh"
      },
      "source": [
        "A présent, notre dataset compte 36 variables qui ne contienent plus de redondance et 1 124 710 lignes. Nous allons maintenant nous intéresser à une variable importante : le pays. La colonne pays est une colonne critique et elle doit être normalisée"
      ]
    },
    {
      "cell_type": "markdown",
      "metadata": {
        "id": "EbAlMDii3wTk"
      },
      "source": [
        "### <font color=\"#ea1c60\" id=\"section_3\">1.3. Normalisation des pays</font>\n",
        "\n",
        "Regardons tout d'abord le nombre de pays représentés."
      ]
    },
    {
      "cell_type": "code",
      "execution_count": 50,
      "metadata": {
        "id": "WXs66Mhp3wTk",
        "trusted": true
      },
      "outputs": [],
      "source": [
        "countries = datas.groupby(by=\"countries_en\").nunique()"
      ]
    },
    {
      "cell_type": "code",
      "execution_count": 51,
      "metadata": {
        "id": "M7HGEWUs3wTk",
        "trusted": true
      },
      "outputs": [
        {
          "data": {
            "text/html": [
              "<div>\n",
              "<style scoped>\n",
              "    .dataframe tbody tr th:only-of-type {\n",
              "        vertical-align: middle;\n",
              "    }\n",
              "\n",
              "    .dataframe tbody tr th {\n",
              "        vertical-align: top;\n",
              "    }\n",
              "\n",
              "    .dataframe thead th {\n",
              "        text-align: right;\n",
              "    }\n",
              "</style>\n",
              "<table border=\"1\" class=\"dataframe\">\n",
              "  <thead>\n",
              "    <tr style=\"text-align: right;\">\n",
              "      <th></th>\n",
              "      <th>code</th>\n",
              "    </tr>\n",
              "    <tr>\n",
              "      <th>countries_en</th>\n",
              "      <th></th>\n",
              "    </tr>\n",
              "  </thead>\n",
              "  <tbody>\n",
              "    <tr>\n",
              "      <th>Afghanistan,Belgium,France</th>\n",
              "      <td>2</td>\n",
              "    </tr>\n",
              "    <tr>\n",
              "      <th>Afghanistan,France</th>\n",
              "      <td>122</td>\n",
              "    </tr>\n",
              "    <tr>\n",
              "      <th>Afghanistan,France,French Guiana</th>\n",
              "      <td>1</td>\n",
              "    </tr>\n",
              "    <tr>\n",
              "      <th>Afghanistan,France,Germany</th>\n",
              "      <td>2</td>\n",
              "    </tr>\n",
              "    <tr>\n",
              "      <th>Afghanistan,France,Switzerland</th>\n",
              "      <td>2</td>\n",
              "    </tr>\n",
              "  </tbody>\n",
              "</table>\n",
              "</div>"
            ],
            "text/plain": [
              "                                  code\n",
              "countries_en                          \n",
              "Afghanistan,Belgium,France           2\n",
              "Afghanistan,France                 122\n",
              "Afghanistan,France,French Guiana     1\n",
              "Afghanistan,France,Germany           2\n",
              "Afghanistan,France,Switzerland       2"
            ]
          },
          "execution_count": 51,
          "metadata": {},
          "output_type": "execute_result"
        }
      ],
      "source": [
        "countries[['code']].head()"
      ]
    },
    {
      "cell_type": "markdown",
      "metadata": {
        "id": "2wL4cPVs3wTk"
      },
      "source": [
        "Plusieurs pays sont regroupés dans la même variable, nous allons devoir effectuer un split du texte pour visualiser tout nos pays. La fonction split_words extrait tous les mots uniques d'une colonne spécifiée d'un DataFrame pandas, en les séparant par des virgules et en ignorant les valeurs manquantes."
      ]
    },
    {
      "cell_type": "code",
      "execution_count": 52,
      "metadata": {
        "id": "A5o4w1VT3wTk",
        "trusted": true
      },
      "outputs": [],
      "source": [
        "def split_words(df, column='countries_en'):\n",
        "    # Initialiser un ensemble pour stocker les mots uniques\n",
        "    list_words = set()\n",
        "    \n",
        "    # Parcourir chaque entrée de la colonne spécifiée du DataFrame\n",
        "    for word in df[column].str.split(','):\n",
        "        # Si l'entrée est un flottant (NaN), passer à l'itération suivante\n",
        "        if isinstance(word, float):\n",
        "            continue\n",
        "        # Ajouter les mots de l'entrée actuelle à l'ensemble list_words\n",
        "        list_words = set().union(word, list_words)\n",
        "    \n",
        "    # Retourner la liste des mots uniques\n",
        "    return list(list_words)\n"
      ]
    },
    {
      "cell_type": "code",
      "execution_count": 53,
      "metadata": {
        "id": "YkmIwsoH3wTk",
        "trusted": true
      },
      "outputs": [],
      "source": [
        "#Liste contenant tous les pays du jeu de données (bons ou mauvais)\n",
        "list_countries = split_words(datas, 'countries_en')"
      ]
    },
    {
      "cell_type": "code",
      "execution_count": 54,
      "metadata": {
        "id": "SyNSZwcf3wTk",
        "trusted": true
      },
      "outputs": [
        {
          "name": "stdout",
          "output_type": "stream",
          "text": [
            "Nombre de pays représentés : 551\n"
          ]
        }
      ],
      "source": [
        "print(\"Nombre de pays représentés : {}\".format(len(list_countries)))"
      ]
    },
    {
      "cell_type": "markdown",
      "metadata": {
        "id": "uWCvHgwc3wTk"
      },
      "source": [
        "Nous allons charger une **base de données des pays, en Anglais**, pour déterminer les pays qui ne matchent pas *(mauvaise orthographe ou autre)*. En effet, il faut télécharger un dataset contenant les pays du monde entier dans format normalisé afin de bien parser les données du dataset OpenFoodFacts"
      ]
    },
    {
      "cell_type": "code",
      "execution_count": null,
      "metadata": {
        "id": "9BvtsOk73wTk",
        "trusted": true
      },
      "outputs": [],
      "source": [
        "df_countries = pd.read_csv(\"countries-en.csv\",\n",
        "                        sep=\",\", header=None, index_col = 0).rename(columns={0:\"index\", 1:\"country_id\", 2:\"country_code_2\", 3:\"country_code_3\", 4:\"country_fr\", 5:\"country_en\"})\n",
        "df_countries.head()"
      ]
    },
    {
      "cell_type": "code",
      "execution_count": null,
      "metadata": {
        "id": "FaXn9MEG3wTk",
        "trusted": true
      },
      "outputs": [],
      "source": [
        "df_countries = pd.merge(pd.DataFrame(list_countries, columns=[\"countries_dataset\"]),df_countries, how=\"left\",\n",
        "         left_on=\"countries_dataset\", right_on=\"country_en\")"
      ]
    },
    {
      "cell_type": "code",
      "execution_count": null,
      "metadata": {
        "id": "cx_nPJKs3wTk",
        "trusted": true
      },
      "outputs": [],
      "source": [
        "false_country_list = list(df_countries[df_countries.isnull().sum(axis=1)>0].countries_dataset)\n",
        "false_country_list[0:15]"
      ]
    },
    {
      "cell_type": "markdown",
      "metadata": {
        "id": "CFGYhq8x3wTk"
      },
      "source": [
        "puis nous allons **supprimer ces pays \"fantômes\" de la base de données** :"
      ]
    },
    {
      "cell_type": "code",
      "execution_count": null,
      "metadata": {
        "id": "VrOX9hjA3wTl",
        "trusted": true
      },
      "outputs": [],
      "source": [
        "for index, countries in datas['countries_en'].str.split(',').items():\n",
        "  if isinstance(countries, float):\n",
        "    continue\n",
        "  country_name = []\n",
        "  found = False\n",
        "  for country in countries:\n",
        "    if country in false_country_list:\n",
        "      found = True\n",
        "    else:\n",
        "      country_name.append(country)\n",
        "  if found:\n",
        "    datas.loc[index, 'countries_en'] = ','.join(country_name)"
      ]
    },
    {
      "cell_type": "code",
      "execution_count": null,
      "metadata": {
        "id": "jRGmCKUe3wTl",
        "trusted": true
      },
      "outputs": [],
      "source": [
        "print(\"Nouveau nombre de pays représentés : {}\".format(len(split_words(datas, 'countries_en'))))"
      ]
    },
    {
      "cell_type": "markdown",
      "metadata": {
        "id": "JT5POEql3wTl"
      },
      "source": [
        "Le nombre de pays représenté est à présent plus cohérent et la perte d'informations est limitée. Il nous reste à présent à **compléter les valeurs nulles pour cette variable**."
      ]
    },
    {
      "cell_type": "code",
      "execution_count": null,
      "metadata": {
        "id": "6hk8JV3C3wTl",
        "trusted": true
      },
      "outputs": [],
      "source": [
        "datas['countries_en'] = np.where((datas['countries_en'].isnull()==True), \"unknown\",\n",
        "                                 np.where(datas['countries_en'] == \"\", \"unknown\", datas['countries_en']))"
      ]
    },
    {
      "cell_type": "markdown",
      "metadata": {
        "id": "N2nAgfua3wTl"
      },
      "source": [
        "Nous pouvons également regarder quels sont les **pays les plus représentés** :"
      ]
    },
    {
      "cell_type": "code",
      "execution_count": null,
      "metadata": {
        "id": "in86MB6E3wTl",
        "trusted": true
      },
      "outputs": [],
      "source": [
        "def top_words(df, column=\"countries_en\", nb_top=10):\n",
        "  count_keyword = dict()\n",
        "  for index, col in df[column].iteritems():\n",
        "    if isinstance(col, float):\n",
        "      continue\n",
        "    for word in col.split(','):\n",
        "      if word in count_keyword.keys():\n",
        "        count_keyword[word] += 1\n",
        "      else :\n",
        "        count_keyword[word] = 1\n",
        "\n",
        "  keyword_top = []\n",
        "  for k,v in count_keyword.items():\n",
        "    keyword_top.append([k,v])\n",
        "  keyword_top.sort(key = lambda x:x[1], reverse = True)\n",
        "\n",
        "  return keyword_top[:nb_top]"
      ]
    },
    {
      "cell_type": "code",
      "execution_count": null,
      "metadata": {
        "id": "w2nWUkum3wTl",
        "trusted": true
      },
      "outputs": [],
      "source": [
        "df_top_countries = pd.DataFrame(top_words(df=datas, column=\"countries_en\", nb_top=10),\n",
        "                                columns=[\"Keyword\",\"count\"])\n",
        "df_top_countries"
      ]
    },
    {
      "cell_type": "markdown",
      "metadata": {
        "id": "uH6ZHM5x3wTl"
      },
      "source": [
        "**La France et les Etats-Unis sont massivement représentés** dans le Dataset. Le 10ème Pays représenté en terme de volume ne compte plus que 5 500 entrées - soit 100 fois moins que le 1er. Cette différence devra être prise en compte dans les futurs modèles développés."
      ]
    },
    {
      "cell_type": "markdown",
      "metadata": {
        "id": "YRxrTGLl3wTl"
      },
      "source": [
        "### <font color=\"#ea1c60\" id=\"section_4\">1.4. Les catégories de produits</font>\n",
        "\n",
        "Intéressons nous à présent à la catégorisation des produits. 4 variables représentent cette catégorisation de manière plus ou moins précise : `categories_en`, `main_category_en`, `pnns_groups_1`, `pnns_groups_2`."
      ]
    },
    {
      "cell_type": "code",
      "execution_count": null,
      "metadata": {
        "id": "y4B-fCsC3wTl",
        "trusted": true
      },
      "outputs": [],
      "source": [
        "datas[['categories_en','pnns_groups_1','pnns_groups_2','main_category_en',]].sample(10)"
      ]
    },
    {
      "cell_type": "markdown",
      "metadata": {
        "id": "sDMcIhEi3wTl"
      },
      "source": [
        "Nous allons regarder le **nombre total de catégories représentées** :"
      ]
    },
    {
      "cell_type": "code",
      "execution_count": null,
      "metadata": {
        "id": "bgznA73I3wTl",
        "trusted": true
      },
      "outputs": [],
      "source": [
        "categories = split_words(df = datas, column = 'categories_en')\n",
        "print(\"{} catégories sont représentées dans le jeu de données.\".format(len(categories)))"
      ]
    },
    {
      "cell_type": "markdown",
      "metadata": {
        "id": "AfYvE5Hp3wTl"
      },
      "source": [
        "Ici également, nous allons regarder les **catégories les plus représentées**, après avoir remplacé les valeurs nulles et complété les valeurs inconnues des pnns avec la catégorie principale :"
      ]
    },
    {
      "cell_type": "code",
      "execution_count": null,
      "metadata": {
        "id": "4fg-a9hI3wTl",
        "trusted": true
      },
      "outputs": [],
      "source": [
        "datas['categories_en'] = np.where((datas['categories_en'].isnull()==True), \"unknown\",\n",
        "                                 np.where(datas['categories_en'] == \"\", \"unknown\", datas['categories_en']))\n",
        "datas['main_category_en'] = np.where((datas['main_category_en'].isnull()==True), \"unknown\",\n",
        "                                 np.where(datas['main_category_en'] == \"\", \"unknown\", datas['main_category_en']))\n",
        "datas['pnns_groups_1'] = np.where((datas['pnns_groups_1'].isnull()==True), \"unknown\",\n",
        "                                 np.where(datas['pnns_groups_1'] == \"\", \"unknown\", datas['pnns_groups_1']))\n",
        "datas['pnns_groups_2'] = np.where((datas['pnns_groups_2'].isnull()==True), \"unknown\",\n",
        "                                 np.where(datas['pnns_groups_2'] == \"\", \"unknown\", datas['pnns_groups_2']))"
      ]
    },
    {
      "cell_type": "code",
      "execution_count": null,
      "metadata": {
        "id": "X9isi__r3wTl",
        "trusted": true
      },
      "outputs": [],
      "source": [
        "df_top_categories = pd.DataFrame(top_words(df=datas, column=\"categories_en\", nb_top=10),\n",
        "                                 columns=[\"Keyword\",\"count\"])\n",
        "df_top_categories"
      ]
    },
    {
      "cell_type": "markdown",
      "metadata": {
        "id": "ivBRq92Z3wTm"
      },
      "source": [
        "Passons à présent aux variables `pnns_groups_1` et `pnns_groups_2` qui nous apporteront des informations plus précises :"
      ]
    },
    {
      "cell_type": "code",
      "execution_count": null,
      "metadata": {
        "id": "eyatHUEY3wTm",
        "trusted": true
      },
      "outputs": [],
      "source": [
        "pnns_groups_1 = split_words(df = datas, column = 'pnns_groups_1')\n",
        "pnns_groups_2 = split_words(df = datas, column = 'pnns_groups_2')\n",
        "print(\"{} catégories sont représentées dans la variable pnns_group_1.\".format(len(pnns_groups_1)))\n",
        "print(\"{} catégories sont représentées dans la variable pnns_group_2.\".format(len(pnns_groups_2)))"
      ]
    },
    {
      "cell_type": "code",
      "execution_count": null,
      "metadata": {
        "id": "dmmdD20e3wTm",
        "trusted": true
      },
      "outputs": [],
      "source": [
        "pnns_groups_1"
      ]
    },
    {
      "cell_type": "markdown",
      "metadata": {
        "id": "F4xyCmdc3wTm"
      },
      "source": [
        "On voit ici que certaines catégories sont présentes plusieurs fois mais orthographiées différement :\n",
        "- 'Cereals and potatoes' et 'cereals-and-potatoes'\n",
        "- 'fruits-and-vegetables' et 'Fruits and vegetables'\n",
        "- ...\n",
        "\n",
        "Nous allons donc corriger le problème en passant le texte en miniscule et en remplaçant les caractères spéciaux par un espace :"
      ]
    },
    {
      "cell_type": "code",
      "execution_count": null,
      "metadata": {
        "id": "bgjbr7OF3wTm",
        "trusted": true
      },
      "outputs": [],
      "source": [
        "datas[\"pnns_groups_1\"] = datas[\"pnns_groups_1\"].str.lower().str.replace('-', ' ')"
      ]
    },
    {
      "cell_type": "markdown",
      "metadata": {
        "id": "1bgrrWe23wTm"
      },
      "source": []
    },
    {
      "cell_type": "code",
      "execution_count": null,
      "metadata": {
        "id": "NMIBKFSM3wTm",
        "trusted": true
      },
      "outputs": [],
      "source": [
        "pnns_groups_1 = split_words(df = datas, column = 'pnns_groups_1')\n",
        "print(\"{} catégories sont représentées dans la variable pnns_group_1.\".format(len(pnns_groups_1)))\n",
        "print(pnns_groups_1)"
      ]
    },
    {
      "cell_type": "code",
      "execution_count": null,
      "metadata": {
        "id": "XBNfTlBc3wTm",
        "trusted": true
      },
      "outputs": [],
      "source": [
        "pnns_groups_2"
      ]
    },
    {
      "cell_type": "code",
      "execution_count": null,
      "metadata": {
        "id": "p3JrKeY-3wTm",
        "trusted": true
      },
      "outputs": [],
      "source": [
        "datas[\"pnns_groups_2\"] = datas[\"pnns_groups_2\"].str.lower().str.replace('-', ' ').replace('pizza pies and quiche','pizza pies and quiches')\n",
        "pnns_groups_2 = split_words(df = datas, column = 'pnns_groups_2')\n",
        "print(\"{} catégories sont représentées dans la variable pnns_group_2.\".format(len(pnns_groups_2)))"
      ]
    },
    {
      "cell_type": "code",
      "execution_count": null,
      "metadata": {
        "id": "VoDSYAWB3wTm",
        "trusted": true
      },
      "outputs": [],
      "source": [
        "plot_world_cloud(df=datas,column=\"pnns_groups_1\",nb_top=10)"
      ]
    },
    {
      "cell_type": "code",
      "execution_count": null,
      "metadata": {
        "id": "NdADAP-O3wTn",
        "trusted": true
      },
      "outputs": [],
      "source": [
        "plot_world_cloud(df=datas,column=\"pnns_groups_2\",nb_top=len(pnns_groups_2))"
      ]
    },
    {
      "cell_type": "code",
      "execution_count": null,
      "metadata": {
        "id": "Qmuwdai13wTn",
        "trusted": true
      },
      "outputs": [],
      "source": [
        "datas.info()"
      ]
    },
    {
      "cell_type": "markdown",
      "metadata": {
        "id": "SYhTlS7I3wTn"
      },
      "source": [
        "### <font color=\"#ea1c60\" id=\"section_5\">1.5. Compléter les valeurs manquantes ou aberrantes</font>\n",
        "\n",
        "Le jeu de données est nettoyé mais comme le montre les informations ci-dessus, il reste un grand nombre de valeurs manquantes qu'il va falloir compléter mais également des outliers à identifier.\n",
        "\n",
        "Regardons dans un premier temps une rapide description du Dataset :"
      ]
    },
    {
      "cell_type": "code",
      "execution_count": null,
      "metadata": {
        "id": "sAdEmUGo3wTn",
        "trusted": true
      },
      "outputs": [],
      "source": [
        "datas.describe()"
      ]
    },
    {
      "cell_type": "markdown",
      "metadata": {
        "id": "p9j_m4c_3wTn"
      },
      "source": [
        "On remarque déjà que les valeurs minimum et maximum de **certaines variables** (comme les nutriments ou la valeur energetique) **peuvent contenir des valeurs aberrantes**, ce qui impacte également l'écart-type et donc la variance."
      ]
    },
    {
      "cell_type": "code",
      "execution_count": null,
      "metadata": {
        "id": "ldNd87AS3wTn",
        "trusted": true
      },
      "outputs": [],
      "source": [
        "datas[datas['energy_100g'] == datas['energy_100g'].max()]"
      ]
    },
    {
      "cell_type": "markdown",
      "metadata": {
        "id": "Vza3-PU93wTn"
      },
      "source": [
        "Ici, ce produit qui possède la plus grande valeur energétique n'est quasi pas complété. Le manque le nom du produit, les catégories et toutes les valeurs nutritionnelles. Nous allons **supprimer tous les produits qui n'ont ni nom, ni catégorie** et qui ne pourront donc être clairement identifiés."
      ]
    },
    {
      "cell_type": "code",
      "execution_count": null,
      "metadata": {
        "id": "At3UXQlo3wTn",
        "trusted": true
      },
      "outputs": [],
      "source": [
        "datas_cleaned = datas[~((datas.product_name.isnull())\n",
        "                        & ((datas.pnns_groups_1 == \"unknown\")\n",
        "                           | (datas.main_category_en == \"unknown\")))]"
      ]
    },
    {
      "cell_type": "code",
      "execution_count": null,
      "metadata": {
        "id": "ah4bgy5C3wTn",
        "trusted": true
      },
      "outputs": [],
      "source": [
        "datas_cleaned[((datas_cleaned.pnns_groups_1 == \"unknown\") & (datas_cleaned.main_category_en == \"unknown\") &\n",
        "              (datas_cleaned.pnns_groups_2 == \"unknown\") & (datas_cleaned.categories_en == \"unknown\"))].shape[0]"
      ]
    },
    {
      "cell_type": "markdown",
      "metadata": {
        "id": "xijOXGIf3wTn"
      },
      "source": [
        "Il reste tout de même **510 484 produits qui ne contiennent aucune indication de catégorie**.\n",
        "\n",
        "Afin de pouvoir calculer des indicateurs empiriques correctes, nous allons remplacer par des valeurs nulles tous les max et min aberrants *(0, -1 ou 999999...)* :"
      ]
    },
    {
      "cell_type": "code",
      "execution_count": null,
      "metadata": {
        "id": "zw04Ze633wTn",
        "trusted": true
      },
      "outputs": [],
      "source": [
        "#On repère les numerical_features\n",
        "numerical_features = list(datas_cleaned.select_dtypes(include=[\"float64\",\"int64\"]).columns)\n",
        "#On supprime les nutriscores qui eux peuvent être négatifs\n",
        "numerical_features.remove('nutriscore_score')\n",
        "numerical_features.remove('nutrition-score-fr_100g')\n",
        "numerical_features.remove('ingredients_that_may_be_from_palm_oil_n')\n",
        "numerical_features.remove('ingredients_from_palm_oil_n')\n",
        "numerical_features.remove('nova_group')"
      ]
    },
    {
      "cell_type": "code",
      "execution_count": null,
      "metadata": {
        "id": "2LzshC7E3wTo",
        "trusted": true
      },
      "outputs": [],
      "source": [
        "#On supprime les lignes dont toutes les numerical_features sont à 0 ou nulles\n",
        "datas_cleaned = datas_cleaned.loc[~((datas_cleaned[numerical_features]==0) | (datas_cleaned[numerical_features].isnull())).all(axis=1)]"
      ]
    },
    {
      "cell_type": "code",
      "execution_count": null,
      "metadata": {
        "id": "dYVNFm1V3wTo",
        "trusted": true
      },
      "outputs": [],
      "source": [
        "#On supprime les lignes contenant des valeurs négatives et des max aberrants\n",
        "datas_cleaned = datas_cleaned[~(datas_cleaned[numerical_features] < 0).any(axis=1)]\n",
        "datas_cleaned = datas_cleaned[~(datas_cleaned[numerical_features].isin([999999,9999999])).any(axis=1)]"
      ]
    },
    {
      "cell_type": "markdown",
      "metadata": {
        "id": "YkxpFNGp3wTo"
      },
      "source": [
        "Les variables suffixées avec `_100g` nous indiquent la quantité de nutriment pour 100 grammes de produit. Les valeurs renseignées ne peuvent donc logiquement pas excéder 100. Nous allons donc **supprimer les lignes dont au moins 1 des variables de nutriments est supérieur au seuil** :"
      ]
    },
    {
      "cell_type": "code",
      "execution_count": null,
      "metadata": {
        "id": "T4az_hpK3wTo",
        "trusted": true
      },
      "outputs": [],
      "source": [
        "g_per_100g_features = ['proteins_100g','fat_100g','carbohydrates_100g','sugars_100g','salt_100g',\n",
        "                       'sodium_100g','saturated-fat_100g','fiber_100g']\n",
        "datas_cleaned = datas_cleaned[~(datas_cleaned[g_per_100g_features] > 100).any(axis=1)]"
      ]
    },
    {
      "cell_type": "markdown",
      "metadata": {
        "id": "gaY2Gax33wTo"
      },
      "source": [
        "D'autre part, les valeurs de `saturated-fat_100g` ne peuvent pas être supérieurs à `fat_100g`, de même pour les valeurs de `sodium_100g` qui ne peuvent pas être supérieurs à `salt_100g`.     \n",
        "Nous allons donc supprimer les lignes qui remplissent ces conditions :"
      ]
    },
    {
      "cell_type": "code",
      "execution_count": null,
      "metadata": {
        "id": "rZEptE7c3wTo",
        "trusted": true
      },
      "outputs": [],
      "source": [
        "datas_cleaned = datas_cleaned[~((datas_cleaned['saturated-fat_100g'] > datas_cleaned['fat_100g'])\n",
        "                                | (datas_cleaned['sodium_100g'] > datas_cleaned['salt_100g']))]"
      ]
    },
    {
      "cell_type": "markdown",
      "metadata": {
        "id": "dbiM9hTs3wTo"
      },
      "source": [
        "Enfin, les densité d'energie maximales pour 100g sont de 3700 kJ/100g *(source [Wikipedia](https://en.wikipedia.org/wiki/Food_energy))*. Nous allons donc supprimer toutes les lignes dont la variable `energy_100g` est supérieur à 3700 *(ou 900 kcal/100g)*."
      ]
    },
    {
      "cell_type": "code",
      "execution_count": null,
      "metadata": {
        "id": "93bvZR9_3wTo",
        "trusted": true
      },
      "outputs": [],
      "source": [
        "datas_cleaned = datas_cleaned[~((datas_cleaned['energy_100g'] > 3700)\n",
        "                                | (datas_cleaned['energy-kcal_100g'] > 900))]"
      ]
    },
    {
      "cell_type": "markdown",
      "metadata": {
        "id": "JYH2AG103wTo"
      },
      "source": [
        "Pour les variables restantes, nous allons nous baser sur la médiane et l'écart-type pour éliminer les outliers. Commençons par afficher la dispersion des données et ces métriques :"
      ]
    },
    {
      "cell_type": "code",
      "execution_count": null,
      "metadata": {
        "id": "ACfQsXRo3wTo",
        "trusted": true
      },
      "outputs": [],
      "source": [
        "sigma_features = ['additives_n','serving_quantity']"
      ]
    },
    {
      "cell_type": "code",
      "execution_count": null,
      "metadata": {
        "id": "mpg7K5gG3wTp",
        "trusted": true
      },
      "outputs": [],
      "source": [
        "#On initialise l'écart-type et la médiane\n",
        "sigma = [0 for _ in range(len(sigma_features))]\n",
        "median = [0 for _ in range(len(sigma_features))]\n",
        "#Puis on complètes les valeurs avec le dataset sans les valeurs nulles\n",
        "for i in range(len(sigma_features)):\n",
        "  median[i] = datas_cleaned[pd.notnull(datas_cleaned[sigma_features[i]])][sigma_features[i]].median()\n",
        "  serie = datas_cleaned[pd.notnull(datas_cleaned[sigma_features[i]])][sigma_features[i]]\n",
        "  serie = serie.sort_values()\n",
        "  sigma[i] = np.std(serie[:-25])"
      ]
    },
    {
      "cell_type": "code",
      "execution_count": null,
      "metadata": {
        "id": "BsIlxiqW3wTp",
        "trusted": true
      },
      "outputs": [],
      "source": [
        "plt.style.use('ggplot')\n",
        "tPlot, axes = plt.subplots(nrows=1, ncols=2, sharex=False, sharey=False, figsize=(21,10))\n",
        "axes = np.array(axes)\n",
        "\n",
        "i=0\n",
        "for ax in axes.reshape(-1):\n",
        "    colonne = sigma_features[i]\n",
        "    test = datas_cleaned[pd.notnull(datas_cleaned[colonne])][colonne]\n",
        "    ax.tick_params(labelcolor='black',top='off',bottom='on',left='on',right='off',labelsize=8)\n",
        "    ax.set_ylabel(colonne.rstrip(\"_100g\"), fontsize = 12)\n",
        "    ax.set_yscale(\"log\")\n",
        "    ax.plot(list(test), 'b.', markeredgewidth = 0.3, markeredgecolor='w')\n",
        "    for tick in ax.get_xticklabels():\n",
        "        tick.set_rotation(30)\n",
        "    ax.axhline(y=median[i], color='g', linestyle='dashdot')\n",
        "    ax.axhline(y=median[i] + 5*sigma[i], color='r', linestyle='-')\n",
        "    ax.text(0., 0.02, 'médiane:{:.3} \\n sigma:{:.3} \\n Seuil:{:.3}'.format(median[i], sigma[i], (median[i] + 5*sigma[i])),\n",
        "            style='italic', transform=ax.transAxes, fontsize = 12,\n",
        "            bbox={'facecolor':'#00afe6', 'alpha':0.5, 'pad':0})\n",
        "    i += 1\n",
        "\n",
        "tPlot.text(0.5, 1.01, r\"Dispersion des données nutritionnelles\" \"\\n\" \"Visualisation des outliers\", ha='center', fontdict=font_title)\n",
        "plt.tight_layout()"
      ]
    },
    {
      "cell_type": "markdown",
      "metadata": {
        "id": "KfXpNaPv3wTp"
      },
      "source": [
        "Ces représentations nous indiquent clairement les éventuels **outliers qui diffèrent de la valeur médiane de plus de 5 fois l'écart-type ($5\\sigma$ - valeur sélectionnée après plusieurs essais)**."
      ]
    },
    {
      "cell_type": "code",
      "execution_count": null,
      "metadata": {
        "id": "kg5KoTNX3wTp",
        "trusted": true
      },
      "outputs": [],
      "source": [
        "for i in range(len(sigma_features)):\n",
        "    col = sigma_features[i]\n",
        "    threshold = (median[i] + 5*sigma[i])\n",
        "    print('{:30}: suppression de la ligne si valeur > {}'.format(col, round(threshold,3)))\n",
        "    mask = datas_cleaned[col] > threshold\n",
        "    datas_cleaned = datas_cleaned.drop(datas_cleaned[mask].index)"
      ]
    },
    {
      "cell_type": "code",
      "execution_count": null,
      "metadata": {
        "id": "hb44XI6k3wTp",
        "trusted": true
      },
      "outputs": [],
      "source": [
        "datas_cleaned.shape"
      ]
    },
    {
      "cell_type": "code",
      "execution_count": null,
      "metadata": {
        "id": "EUSfffuP3wTp",
        "trusted": true
      },
      "outputs": [],
      "source": [
        "datas_cleaned.describe()"
      ]
    },
    {
      "cell_type": "markdown",
      "metadata": {
        "id": "IbFoFfCD3wTp"
      },
      "source": [
        "Après ces quelques opérations de nettoyage, les valeurs médianes, d'écarts-type, de minimum et maximum sont plus cohérentes. Nous allons pouvoir exploiter ces données pour **estimer les valeurs manquantes**.\n",
        "\n",
        "Nous allons déjà regarder la **distribution de ces variables et définir si elles suivent une loi normale**, ce qui nous aidera à prendre une décision pour la méthode d'imputation des valeurs manquantes."
      ]
    },
    {
      "cell_type": "code",
      "execution_count": null,
      "metadata": {
        "id": "5QU7oETr3wTp",
        "trusted": true
      },
      "outputs": [],
      "source": [
        "import scipy.stats as stats\n",
        "import warnings\n",
        "warnings.filterwarnings('ignore')\n",
        "\n",
        "sns.set_style(\"whitegrid\")\n",
        "fig = plt.figure(figsize=(21,30))\n",
        "\n",
        "sub = 0\n",
        "for i in range(len(numerical_features)):\n",
        "    fig.add_subplot(4,3,i+1)\n",
        "\n",
        "    left, width = 0, 1\n",
        "    bottom, height = 0, 1\n",
        "    right = left + width\n",
        "    top = bottom + height\n",
        "\n",
        "    colonne = numerical_features[i]\n",
        "    kstest = stats.kstest(datas_cleaned[colonne].notnull(),'norm')\n",
        "    ax = sns.distplot(datas_cleaned[colonne], fit=stats.norm, kde=False)\n",
        "    ax.set_title(\"Distribution vs loi normale : {}\".format(colonne))\n",
        "    ax.text(right, top, 'Test Kolmogorov-Smirnov \\n Pvalue: {:.2} \\n Stat: {:.2}'.format(kstest.pvalue, kstest.statistic),\n",
        "            horizontalalignment='right',\n",
        "            verticalalignment='top',\n",
        "            style='italic', transform=ax.transAxes, fontsize = 12,\n",
        "            bbox={'facecolor':'#00afe6', 'alpha':0.5, 'pad':0})\n",
        "    sub += 1\n",
        "plt.show()"
      ]
    },
    {
      "cell_type": "markdown",
      "metadata": {
        "id": "XzEaJBzV3wTp"
      },
      "source": [
        "En se basant sur les projections obtenus et les résultats des tests de Kolmogorov-Smirnov (Pvalue < au niveau de test de 5%) **on rejette donc l'hypothèse de normalité des distributions de ces variables**. Il serait donc inexacte d'imputer les valeurs manquantes par la moyenne.\n",
        "\n",
        "Pour confirmer cette approche, regardons à présent quelque unes de ces distributions en fonction de la catégorie `pnns_groups_1` :"
      ]
    },
    {
      "cell_type": "code",
      "execution_count": null,
      "metadata": {
        "id": "92HmDAgj3wTq",
        "trusted": true
      },
      "outputs": [],
      "source": [
        "plt.style.use('ggplot')\n",
        "fig = plt.figure(figsize=(21,40))\n",
        "\n",
        "sub = 0\n",
        "for i in range(len(numerical_features)):\n",
        "    fig.add_subplot(6,2,i+1)\n",
        "    colonne = numerical_features[i]\n",
        "    ax = sns.boxplot(x=\"pnns_groups_1\", y=colonne, data=datas_cleaned[datas_cleaned[\"pnns_groups_1\"]!=\"unknown\"])\n",
        "    for tick in ax.get_xticklabels():\n",
        "        tick.set_rotation(30)\n",
        "    sub += 1\n",
        "\n",
        "fig.text(0.5, 0.90, r\"Distribution des variables nutritionnelles\" \"\\n\" \"par catégories pnns_groups_1\", ha=\"center\",\n",
        "         fontdict=font_title)\n",
        "plt.show()"
      ]
    },
    {
      "cell_type": "markdown",
      "metadata": {
        "id": "RSwqLFcs3wTq"
      },
      "source": [
        "Si l'on regarde la distribution de quelques unes de ces mêmes variables sur la catégorie `pnns_groups_2` :"
      ]
    },
    {
      "cell_type": "code",
      "execution_count": null,
      "metadata": {
        "id": "v0hsuKSw3wTq",
        "trusted": true
      },
      "outputs": [],
      "source": [
        "plt.style.use('ggplot')\n",
        "fig = plt.figure(figsize=(21,60))\n",
        "\n",
        "sub = 0\n",
        "for i in range(len(numerical_features[:6])):\n",
        "    fig.add_subplot(6,1,i+1)\n",
        "    colonne = numerical_features[i]\n",
        "    ax = sns.boxplot(y=\"pnns_groups_2\", x=colonne, data=datas_cleaned[datas_cleaned[\"pnns_groups_2\"]!=\"unknown\"])\n",
        "    for tick in ax.get_xticklabels():\n",
        "        tick.set_rotation(30)\n",
        "    sub += 1\n",
        "\n",
        "fig.text(0.5, 0.90, r\"Distribution des variables nutritionnelles\" \"\\n\" \"par catégories pnns_groups_2\", ha=\"center\",\n",
        "         fontdict=font_title)\n",
        "plt.show()"
      ]
    },
    {
      "cell_type": "code",
      "execution_count": null,
      "metadata": {
        "id": "VqaOTWUE3wTq",
        "trusted": true
      },
      "outputs": [],
      "source": [
        "datas_cleaned[numerical_features].isnull().sum()"
      ]
    },
    {
      "cell_type": "markdown",
      "metadata": {
        "id": "sSjGTeWM3wTq"
      },
      "source": [
        "Pour ces valeurs nulles ci-dessus, les variables `serving_quantity` et `additives_n` sont très peu renseignées, nous allons donc les supprimer de notre jeu de données.     \n",
        "`fiber_100g` est également mal renseigné mais nous en aurons besoin pour la suite. Nous allons donc compléter les valeurs nulles par la **médiane de la catégorie** `pnns_groups_2`.     \n",
        "Enfin, pour les autres variables, avec peu de null et dont les distributions ne suivent pas la loi gaussiene, nous allons imputer avec l'**algorithme des K Nearest Neighbours** (KNN)."
      ]
    },
    {
      "cell_type": "code",
      "execution_count": null,
      "metadata": {
        "id": "H45TLtPK3wTq",
        "trusted": true
      },
      "outputs": [],
      "source": [
        "#On supprime les 2 colonnes les moins complétées et la variable redondante energie\n",
        "datas_cleaned.drop(['serving_quantity','additives_n','energy-kcal_100g'], axis=1, inplace=True)"
      ]
    },
    {
      "cell_type": "code",
      "execution_count": null,
      "metadata": {
        "id": "pF_WxjTs3wTq",
        "trusted": true
      },
      "outputs": [],
      "source": [
        "numerical_features.remove('serving_quantity')\n",
        "numerical_features.remove('additives_n')\n",
        "numerical_features.remove('energy-kcal_100g')"
      ]
    },
    {
      "cell_type": "code",
      "execution_count": null,
      "metadata": {
        "id": "qXxl8ZC93wTq",
        "trusted": true
      },
      "outputs": [],
      "source": [
        "# KNN pour les autres variables\n",
        "from sklearn.impute import KNNImputer\n",
        "\n",
        "# On entraine le modèle d'imputation sur un échantillon de données\n",
        "knn_features = ['energy_100g','proteins_100g','saturated-fat_100g','sugars_100g','salt_100g']\n",
        "sample_datas = datas_cleaned[knn_features].sample(frac=0.25, random_state=1)\n",
        "imputer = KNNImputer(n_neighbors=5, missing_values=np.nan)\n",
        "imputer.fit(sample_datas)"
      ]
    },
    {
      "cell_type": "code",
      "execution_count": null,
      "metadata": {
        "id": "8rD4p8r53wTq",
        "trusted": true
      },
      "outputs": [],
      "source": [
        "# Puis on applique le modèle sur l'ensemble des données\n",
        "datas_imputed = imputer.transform(datas_cleaned[knn_features])\n",
        "df_datas_imputed = pd.DataFrame(datas_imputed, columns=knn_features)"
      ]
    },
    {
      "cell_type": "code",
      "execution_count": null,
      "metadata": {
        "id": "opnW1CoN3wTq",
        "trusted": true
      },
      "outputs": [],
      "source": [
        "for col_knn in knn_features:\n",
        "    datas_cleaned[col_knn] = df_datas_imputed[col_knn].values"
      ]
    },
    {
      "cell_type": "code",
      "execution_count": null,
      "metadata": {
        "id": "X7YdMqBF3wTq",
        "trusted": true
      },
      "outputs": [],
      "source": [
        "# On complète les variables restantes avec la médiane du groupe pnns 2\n",
        "for col in ['carbohydrates_100g','sodium_100g','fat_100g','fiber_100g']:\n",
        "    datas_cleaned[col] = datas_cleaned.groupby('pnns_groups_2')[col].transform(lambda x: x.fillna(x.median()))"
      ]
    },
    {
      "cell_type": "markdown",
      "metadata": {
        "id": "OINPEts_3wTq"
      },
      "source": [
        "Les valeurs manquantes étant à présent toutes complétées pour ces variables numériques, nous allons vérifier que les distributions n'ont pas changées :"
      ]
    },
    {
      "cell_type": "code",
      "execution_count": null,
      "metadata": {
        "id": "ztS8X1yD3wTq",
        "trusted": true
      },
      "outputs": [],
      "source": [
        "sns.set_style(\"whitegrid\")\n",
        "fig = plt.figure(figsize=(21,20))\n",
        "\n",
        "sub = 0\n",
        "for i in range(len(numerical_features)):\n",
        "    fig.add_subplot(3,3,i+1)\n",
        "    colonne = numerical_features[i]\n",
        "    kstest = stats.kstest(datas_cleaned[colonne].notnull(),'norm')\n",
        "    ax = sns.distplot(datas_cleaned[colonne], fit=stats.norm, kde=False)\n",
        "    ax.set_title(\"Distribution vs loi normale : {}\".format(colonne))\n",
        "    sub += 1\n",
        "plt.show()"
      ]
    },
    {
      "cell_type": "markdown",
      "metadata": {
        "id": "upXQpSTX3wTr"
      },
      "source": [
        "Les variables imputées étant bien distribuées conformément aux variables d'origine, nous allons à présent **supprimer les dernières variables non pertinentes**, peu renseignées ou inutiles dans nos futurs modèles :"
      ]
    },
    {
      "cell_type": "code",
      "execution_count": null,
      "metadata": {
        "id": "aYhxqO_K3wTr",
        "trusted": true
      },
      "outputs": [],
      "source": [
        "datas_cleaned.isnull().sum().sort_values(ascending=False)"
      ]
    },
    {
      "cell_type": "code",
      "execution_count": null,
      "metadata": {
        "id": "vAVouuv63wTr",
        "trusted": true
      },
      "outputs": [],
      "source": [
        "deleted_features = ['brands','serving_size','nova_group','image_ingredients_small_url',\n",
        "                    'image_ingredients_url','ingredients_text','ingredients_from_palm_oil_n',\n",
        "                    'ingredients_that_may_be_from_palm_oil_n','image_nutrition_url','image_nutrition_small_url',\n",
        "                    'image_url','image_small_url', 'nutrition-score-fr_100g','quantity']\n",
        "datas_cleaned.drop(deleted_features, axis=1, inplace=True)"
      ]
    },
    {
      "cell_type": "markdown",
      "metadata": {
        "id": "GoygpiCR3wTr"
      },
      "source": [
        "### <font color=\"#ea1c60\" id=\"section_6\">1.6. Calcul des Nutri-Scores manquants</font>\n",
        "\n",
        "Une des variables primoridale de ce jeu de données est le Nutriscore. Or, cette variable compte beaucoup de manquants.\n",
        "Afin de calculer ce nutriscore, nous avons besoin de plusieurs autres variables.\n",
        "\n",
        "Le score prend en comptepour 100g de produit, la teneur :\n",
        "- En nutriments et aliments à favoriser (fibres, protéines, fruits et légumes),\n",
        "- En nutriments à limiter (énergie, acide gras saturés, sucres, sel).\n",
        "\n",
        "Après calcul, le score obtenu par un produit permet de lui attribuer une lettre et une couleur.\n",
        "Voici un tableau simplifié permettant de calculer l'attribution des points :"
      ]
    },
    {
      "cell_type": "markdown",
      "metadata": {
        "id": "9RaWzAb73wTr"
      },
      "source": [
        "<table width=\"100%\" style=\"border:solid 1px; text-align:center;\" align=\"center\">\n",
        "    <thead style=\"border:solid 1px; text-align:center;\">\n",
        "        <th bgcolor=\"#feadb3\"><b>Points</b></th>\n",
        "        <th bgcolor=\"#feadb3\">Energie (kJ)</th>\n",
        "        <th bgcolor=\"#feadb3\">Sucres simples (g)</th>\n",
        "        <th bgcolor=\"#feadb3\">Acide gras saturés (g)</th>\n",
        "        <th bgcolor=\"#feadb3\">Sodium (mg)</th>\n",
        "        <th bgcolor=\"#b6faa3\"><b>Points</b></th>\n",
        "        <th bgcolor=\"#b6faa\">Fruits,leg(%)</th>\n",
        "        <th bgcolor=\"#b6faa\">Fibres (g)</th>\n",
        "        <th bgcolor=\"#b6faa\">Protéines (g)</th>\n",
        "    </thead>\n",
        "    <tbody>\n",
        "        <tr>\n",
        "            <td bgcolor=\"#feadb3\"><b>0</b></td>\n",
        "            <td bgcolor=\"#feadb3\">$\\leq$ 335</td>\n",
        "            <td bgcolor=\"#feadb3\">$\\leq$ 4,5</td>\n",
        "            <td bgcolor=\"#feadb3\">$\\leq$ 1</td>\n",
        "            <td bgcolor=\"#feadb3\">$\\leq$ 90</td>\n",
        "            <td bgcolor=\"#b6faa\"><b>0</b></td>\n",
        "            <td bgcolor=\"#b6faa\">$\\leq$ 40</td>\n",
        "            <td bgcolor=\"#b6faa\">$\\leq$ 0,7</td>\n",
        "            <td bgcolor=\"#b6faa\">$\\leq$ 1,6</td>\n",
        "        </tr>\n",
        "        <tr>\n",
        "            <td bgcolor=\"#feadb3\"><b>5</b></td>\n",
        "            <td bgcolor=\"#feadb3\">$>$ 335</td>\n",
        "            <td bgcolor=\"#feadb3\">$>$ 4,5</td>\n",
        "            <td bgcolor=\"#feadb3\">$>$ 1</td>\n",
        "            <td bgcolor=\"#feadb3\">$>$ 90</td>\n",
        "            <td bgcolor=\"#b6faa\"><b>-2</b></td>\n",
        "            <td bgcolor=\"#b6faa\">$>$ 40</td>\n",
        "            <td bgcolor=\"#b6faa\">$>$ 0,7</td>\n",
        "            <td bgcolor=\"#b6faa\">$>$ 1,6</td>\n",
        "        </tr>\n",
        "        <tr>\n",
        "            <td bgcolor=\"#feadb3\"><b>10</b></td>\n",
        "            <td bgcolor=\"#feadb3\">$>$ 1675</td>\n",
        "            <td bgcolor=\"#feadb3\">$>$ 22,5</td>\n",
        "            <td bgcolor=\"#feadb3\">$>$ 5</td>\n",
        "            <td bgcolor=\"#feadb3\">$>$ 450</td>\n",
        "            <td bgcolor=\"#b6faa\"><b>-5</b></td>\n",
        "            <td bgcolor=\"#b6faa\">$>$ 80</td>\n",
        "            <td bgcolor=\"#b6faa\">$>$ 3,5</td>\n",
        "            <td bgcolor=\"#b6faa\">$>$ 8</td>\n",
        "        </tr>\n",
        "        <tr style=\"border:solid 1px; text-align:center;\">\n",
        "            <td> </td>\n",
        "            <td>(a)</td>\n",
        "            <td>(b)</td>\n",
        "            <td>(c)</td>\n",
        "            <td>(d)</td>\n",
        "            <td> </td>\n",
        "            <td>(e)</td>\n",
        "            <td>(f)</td>\n",
        "            <td>(g)</td>\n",
        "        </tr>\n",
        "        <tr>\n",
        "            <td><b>Total</b></td>\n",
        "            <td colspan=\"8\"><b>(a) + (b) + (c) + (d) + (e) + (f) + (g)</b></td>\n",
        "        </tr>\n",
        "    </tbody>\n",
        "</table>\n",
        "\n",
        "Attribution des classes *(version simplifiée)* :\n",
        "\n",
        "<table width=\"50%\" style=\"border:solid 1px; text-align:center;\" align=\"center\">\n",
        "    <thead>\n",
        "        <th>Aliment solide</th>\n",
        "        <th>Lettre</th>\n",
        "        <th>Couleur</th>\n",
        "    </thead>\n",
        "    <tbody>\n",
        "        <tr>\n",
        "            <td>Mimimum -1</td>\n",
        "            <td>A</td>\n",
        "            <td>Vert foncé</td>\n",
        "        </tr>\n",
        "        <tr>\n",
        "            <td>0 à 5</td>\n",
        "            <td>B</td>\n",
        "            <td>Vert</td>\n",
        "        </tr>\n",
        "        <tr>\n",
        "            <td>5 à 10</td>\n",
        "            <td>C</td>\n",
        "            <td>Jaune</td>\n",
        "        </tr>\n",
        "        <tr>\n",
        "            <td>10 à 20</td>\n",
        "            <td>D</td>\n",
        "            <td>Orange</td>\n",
        "        </tr>\n",
        "        <tr>\n",
        "            <td>20 et plus</td>\n",
        "            <td>E</td>\n",
        "            <td>Orange foncé</td>\n",
        "        </tr>\n",
        "    </tbody>\n",
        "</table>"
      ]
    },
    {
      "cell_type": "markdown",
      "metadata": {
        "id": "27-KYCYO3wTr"
      },
      "source": [
        "Nous allons donc **isoler les variables nécessaires au calcul du Nutriscore et vérifier leur taux de remplissage** :"
      ]
    },
    {
      "cell_type": "code",
      "execution_count": null,
      "metadata": {
        "id": "kQiJPhRm3wTr",
        "trusted": true
      },
      "outputs": [],
      "source": [
        "nutriscore_features = ['pnns_groups_1', 'pnns_groups_2', 'nutriscore_grade', 'nutriscore_score',\n",
        "                       'energy_100g','sugars_100g','saturated-fat_100g','sodium_100g', 'fiber_100g', 'proteins_100g']\n",
        "datas_cleaned[nutriscore_features].sample(10)"
      ]
    },
    {
      "cell_type": "markdown",
      "metadata": {
        "id": "FdFoobz53wTr"
      },
      "source": [
        "La variable indiquant la proportion de fruit/légumes des produits a été supprimée car très peu renseignée. Nous allons donc tenter de l'estimer en fonction de la catégorie :"
      ]
    },
    {
      "cell_type": "code",
      "execution_count": null,
      "metadata": {
        "id": "fE8L2IjU3wTr",
        "trusted": true
      },
      "outputs": [],
      "source": [
        "datas_cleaned.pnns_groups_2.unique()"
      ]
    },
    {
      "cell_type": "code",
      "execution_count": null,
      "metadata": {
        "id": "aIJc7haA3wTr",
        "trusted": true
      },
      "outputs": [],
      "source": [
        "high_rate_fruit = ['fruit juices','dried fruits','legumes','vegetables','fruits', 'soups','potatoes','fruit nectars']\n",
        "\n",
        "medium_rate_fruit = ['unknown', 'sweetened beverages', 'dressings and sauces', 'ice cream', 'pastries', 'dairy desserts',\n",
        "                     'pizza pies and quiche', 'pizza pies and quiches']\n",
        "\n",
        "low_rate_fruit = ['waters and flavored waters','chocolate products', 'fish and seafood', 'salty and fatty products',\n",
        "                  'cheese', 'cereals', 'appetizers', 'one dish meals', 'bread', 'fats', 'plant based milk substitutes',\n",
        "                  'alcoholic beverages', 'processed meat', 'breakfast cereals', 'meat', 'eggs', 'sandwiches',\n",
        "                  'offals', 'teas and herbal teas and coffees', 'biscuits and cakes', 'sweets', 'milk and yogurt',\n",
        "                  'artificially sweetened beverages', 'unsweetened beverages','nuts']"
      ]
    },
    {
      "cell_type": "code",
      "execution_count": null,
      "metadata": {
        "id": "xpBCDb903wTr",
        "trusted": true
      },
      "outputs": [],
      "source": [
        "datas_cleaned['fruits-vegetables-rate_100g'] = [81 if cat in high_rate_fruit else 45 if cat in medium_rate_fruit else 25 for cat in datas_cleaned.pnns_groups_2]"
      ]
    },
    {
      "cell_type": "markdown",
      "metadata": {
        "id": "MO0i2ZKW3wTr"
      },
      "source": [
        "A présent, nous allons définir la **fonction de calcul du Nutriscore** et l'appliquer à notre dataset :"
      ]
    },
    {
      "cell_type": "code",
      "execution_count": null,
      "metadata": {
        "id": "0OeBCmZs3wTr",
        "trusted": true
      },
      "outputs": [],
      "source": [
        "def calc_globalscore(row):\n",
        "    #Energy\n",
        "    if row[\"energy_100g\"] <= 335:\n",
        "        a = 0\n",
        "    elif ((row[\"energy_100g\"] > 335) & (row[\"energy_100g\"] <= 1675)):\n",
        "        a = 5\n",
        "    else:\n",
        "        a = 10\n",
        "    #Sugar\n",
        "    if row[\"sugars_100g\"] <= 4.5:\n",
        "        b = 0\n",
        "    elif ((row[\"sugars_100g\"] > 4.5) & (row[\"sugars_100g\"] <= 22.5)):\n",
        "        b = 5\n",
        "    else:\n",
        "        b = 10\n",
        "    #saturated-fat\n",
        "    if row[\"saturated-fat_100g\"] <= 1:\n",
        "        c = 0\n",
        "    elif ((row[\"saturated-fat_100g\"] > 1) & (row[\"saturated-fat_100g\"] <= 5)):\n",
        "        c = 5\n",
        "    else:\n",
        "        c = 10\n",
        "    #sodium\n",
        "    if (row[\"sodium_100g\"]/1000) <= 90:\n",
        "        d = 0\n",
        "    elif (((row[\"sodium_100g\"]/1000) > 90) & ((row[\"sodium_100g\"]/1000) <= 450)):\n",
        "        d = 5\n",
        "    else:\n",
        "        d = 10\n",
        "    #fruits-vegetables-rate\n",
        "    if row[\"fruits-vegetables-rate_100g\"] <= 40:\n",
        "        e = 0\n",
        "    elif ((row[\"fruits-vegetables-rate_100g\"] > 40) & (row[\"fruits-vegetables-rate_100g\"] <= 80)):\n",
        "        e = -2\n",
        "    else:\n",
        "        e = -5\n",
        "    #fiber\n",
        "    if row[\"fiber_100g\"] <= 0.7:\n",
        "        f = 0\n",
        "    elif ((row[\"fiber_100g\"] > 0.7) & (row[\"fiber_100g\"] <= 3.5)):\n",
        "        f = -2\n",
        "    else:\n",
        "        f = -5\n",
        "    #proteins\n",
        "    if row[\"proteins_100g\"] <= 1.6:\n",
        "        g = 0\n",
        "    elif ((row[\"proteins_100g\"] > 1.6) & (row[\"proteins_100g\"] <= 8)):\n",
        "        g = -2\n",
        "    else:\n",
        "        g = -5\n",
        "\n",
        "    #Global_score\n",
        "    global_score = a+b+c+d+e+f+g\n",
        "\n",
        "    return global_score"
      ]
    },
    {
      "cell_type": "code",
      "execution_count": null,
      "metadata": {
        "id": "oIKyRuCs3wTr",
        "trusted": true
      },
      "outputs": [],
      "source": [
        "#Nutriscore\n",
        "def calc_nutriscore(row):\n",
        "    if row[\"calc_global_score\"] < 0 :\n",
        "        nutriscore = \"a\"\n",
        "    elif ((row[\"calc_global_score\"] >= 0) & (row[\"calc_global_score\"] < 5)) :\n",
        "        nutriscore = \"b\"\n",
        "    elif ((row[\"calc_global_score\"] >= 5) & (row[\"calc_global_score\"] < 10)) :\n",
        "        nutriscore = \"c\"\n",
        "    elif ((row[\"calc_global_score\"] >= 10) & (row[\"calc_global_score\"] < 20)) :\n",
        "        nutriscore = \"d\"\n",
        "    else:\n",
        "        nutriscore = \"e\"\n",
        "\n",
        "    return nutriscore"
      ]
    },
    {
      "cell_type": "code",
      "execution_count": null,
      "metadata": {
        "id": "W9ZBF-_S3wTr",
        "trusted": true
      },
      "outputs": [],
      "source": [
        "datas_cleaned['calc_global_score'] = datas_cleaned.apply(lambda row: calc_globalscore(row),axis=1)\n",
        "datas_cleaned['calc_nutriscore'] = datas_cleaned.apply(lambda row: calc_nutriscore(row),axis=1)"
      ]
    },
    {
      "cell_type": "code",
      "execution_count": null,
      "metadata": {
        "id": "31ey_FiN3wTr",
        "trusted": true
      },
      "outputs": [],
      "source": [
        "nutriscore_features.append('calc_global_score')\n",
        "nutriscore_features.append('calc_nutriscore')"
      ]
    },
    {
      "cell_type": "code",
      "execution_count": null,
      "metadata": {
        "id": "EedvOwRQ3wTs",
        "trusted": true
      },
      "outputs": [],
      "source": [
        "datas_cleaned[nutriscore_features].sample(10)"
      ]
    },
    {
      "cell_type": "markdown",
      "metadata": {
        "id": "S_Cwi51l3wTs"
      },
      "source": [
        "Nous devons à présent **vérifier les erreurs d'imputation sur les scores déjà connus**, ce qui nous permettra de voir si les calculs sont satisfaisants et utilisables :"
      ]
    },
    {
      "cell_type": "code",
      "execution_count": null,
      "metadata": {
        "id": "Ch6eksDp3wTs",
        "trusted": true
      },
      "outputs": [],
      "source": [
        "df_scores = datas_cleaned[['nutriscore_grade', 'nutriscore_score', 'calc_nutriscore', 'calc_global_score']][datas_cleaned['nutriscore_grade'].isnull()==False]\n",
        "\n",
        "from sklearn.metrics import accuracy_score\n",
        "\n",
        "accuracy_nutrigrade = accuracy_score(df_scores['nutriscore_grade'].values, df_scores['calc_nutriscore'].values)\n",
        "print(\"L'accuracy_score sur les Nutrigrades calculés est de : {:.2f} %.\".format(accuracy_nutrigrade*100))"
      ]
    },
    {
      "cell_type": "markdown",
      "metadata": {
        "id": "NoAcE9sT3wTs"
      },
      "source": [
        "La précision du calul est donc inférieure à 50%. **Ces calculs ne peuvent donc pas être utilisés pour compléter nos données**.     **<font color=\"green\">Notre application aura donc pour but d'éstimer le nutrigrade d'un produit en fonction de ses caractéristiques connues, comme la catégorie, sa teneur en nutriments ... grâce à des algorithmes simples de Machine Learning</font>**."
      ]
    },
    {
      "cell_type": "code",
      "execution_count": null,
      "metadata": {
        "id": "GhS5Atef3wTs",
        "trusted": true
      },
      "outputs": [],
      "source": [
        "datas_cleaned.drop(['calc_nutriscore','calc_global_score'], axis=1, inplace=True)"
      ]
    },
    {
      "cell_type": "code",
      "execution_count": null,
      "metadata": {
        "id": "9LqDNqwy3wTs",
        "trusted": true
      },
      "outputs": [],
      "source": [
        "datas_cleaned.info()"
      ]
    },
    {
      "cell_type": "markdown",
      "metadata": {
        "id": "JvO9trT33wTs"
      },
      "source": [
        "Les variables sont à présent filtrées et les données nettoyées et complétées. Nous allons sauvegarder le dataset cleaned pour l'utiliser à présent dans nos **analyses exploratoires**."
      ]
    },
    {
      "cell_type": "code",
      "execution_count": null,
      "metadata": {
        "id": "vXIeYpyQ3wTs",
        "trusted": true
      },
      "outputs": [],
      "source": [
        "datas_cleaned.set_index(\"code\").to_csv(\"cleaned_openfoodfacts.csv\", sep='\\t')"
      ]
    }
  ],
  "metadata": {
    "colab": {
      "provenance": []
    },
    "kernelspec": {
      "display_name": "Python 3",
      "language": "python",
      "name": "python3"
    },
    "language_info": {
      "codemirror_mode": {
        "name": "ipython",
        "version": 3
      },
      "file_extension": ".py",
      "mimetype": "text/x-python",
      "name": "python",
      "nbconvert_exporter": "python",
      "pygments_lexer": "ipython3",
      "version": "3.11.9"
    }
  },
  "nbformat": 4,
  "nbformat_minor": 0
}
