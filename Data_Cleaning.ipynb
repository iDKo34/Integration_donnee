{
  "cells": [
    {
      "cell_type": "markdown",
      "metadata": {
        "id": "RHGsJCTw3wTb"
      },
      "source": [
        "# <font color=\"#114b98\">Conception d'une application permettant de générer un menu en fonction du régime suivi</font>\n",
        "\n",
        "\n",
        "\n",
        "L'application génère des menus hebdomadaires personnalisés en fonction du régime suivi (végétarien, céto, etc.), avec des recettes adaptées aux préférences et restrictions de l'utilisateur. Elle simplifie la planification des repas, en proposant des idées variées pour chaque jour de la semaine.\n",
        "\n",
        "Nous allons dans un premier temps **traiter le jeu de données afin de repérer des variables pertinentes** pour les traitements à venir et **automatiser ces traitements** pour éviter de répéter ces opérations."
      ]
    },
    {
      "cell_type": "markdown",
      "metadata": {
        "id": "b-Utm5bW3wTc"
      },
      "source": [
        "## <font color=\"#00afe6\">Sommaire</font>\n",
        "[2.1. Colonnes et lignes vides / Doublons](#section_1)     \n",
        "[2.2. Variables redondantes](#section_2)     \n",
        "[2.3. Normalisation des pays](#section_3)     \n",
        "[2.4. Les catégories de produits](#section_4)   \n",
        "[2.5. Gestion du cas des labels](#section_5)  \n",
        "[2.6. Enregistrement du fichier nettoyé](#section_6)   \n",
        " \n"
      ]
    },
    {
      "cell_type": "markdown",
      "metadata": {
        "id": "3U6AfEVp3wTd"
      },
      "source": [
        "## <font color=\"#00afe6\">2. Nettoyage des données</font>"
      ]
    },
    {
      "cell_type": "code",
      "execution_count": 2,
      "metadata": {
        "_cell_guid": "b1076dfc-b9ad-4769-8c92-a6c4dae69d19",
        "_uuid": "8f2839f25d086af736a60e9eeb907d3b93b6e0e5",
        "colab": {
          "base_uri": "https://localhost:8080/"
        },
        "id": "gwqFnXZ23wTd",
        "outputId": "74b0c3fd-c79f-4ee1-f6e3-9d3c847490e8",
        "trusted": true
      },
      "outputs": [
        {
          "name": "stderr",
          "output_type": "stream",
          "text": [
            "c:\\Users\\Calvyn\\AppData\\Local\\Programs\\Python\\Python312\\Lib\\site-packages\\tqdm\\auto.py:21: TqdmWarning: IProgress not found. Please update jupyter and ipywidgets. See https://ipywidgets.readthedocs.io/en/stable/user_install.html\n",
            "  from .autonotebook import tqdm as notebook_tqdm\n"
          ]
        }
      ],
      "source": [
        "import numpy as np # linear algebra\n",
        "import pandas as pd # data processing, CSV file I/O (e.g. pd.read_csv)\n",
        "import matplotlib.pyplot as plt\n",
        "import seaborn as sns\n",
        "import kagglehub\n",
        "import os\n",
        "# Download latest version\n",
        "#path = kagglehub.dataset_download(\"openfoodfacts/world-food-facts\")\n",
        "# print(\"Path to dataset files:\", path)\n"
      ]
    },
    {
      "cell_type": "markdown",
      "metadata": {
        "id": "r3khdcWZ3wTd"
      },
      "source": [
        "Le jeu de données téléchargé en CSV sur le site [Open Food Facts](https://world.openfoodfacts.org/) est importé dans le Notebook via la méthode `read_csv` de la librairie `pandas`"
      ]
    },
    {
      "cell_type": "code",
      "execution_count": 3,
      "metadata": {
        "id": "CAFdubE93wTd",
        "trusted": true
      },
      "outputs": [],
      "source": [
        "import pandas as pd # data processing, CSV file I/O (e.g. pd.read_csv)\n",
        "datas = pd.read_csv(\"C:\\\\Users\\\\Calvyn\\\\Proton Drive\\\\calvynhdz\\\\Other computers\\\\PC-DE-CALVYN\\\\TP OpenFoodFacts\\\\en.openfoodfacts.org.products.csv\", \n",
        "                    sep='\\t', low_memory=False)\n"
      ]
    },
    {
      "cell_type": "markdown",
      "metadata": {
        "id": "lQ7B5on83wTe"
      },
      "source": [
        "Affichons à présent quelques lignes au hasard du dataset puis regardons sa `shape`"
      ]
    },
    {
      "cell_type": "code",
      "execution_count": 4,
      "metadata": {
        "colab": {
          "base_uri": "https://localhost:8080/",
          "height": 260
        },
        "id": "EmfLjEqN3wTe",
        "outputId": "ba24d0e8-c4e6-4d4e-c382-aefb3301b5e7",
        "trusted": true
      },
      "outputs": [
        {
          "data": {
            "text/html": [
              "<div>\n",
              "<style scoped>\n",
              "    .dataframe tbody tr th:only-of-type {\n",
              "        vertical-align: middle;\n",
              "    }\n",
              "\n",
              "    .dataframe tbody tr th {\n",
              "        vertical-align: top;\n",
              "    }\n",
              "\n",
              "    .dataframe thead th {\n",
              "        text-align: right;\n",
              "    }\n",
              "</style>\n",
              "<table border=\"1\" class=\"dataframe\">\n",
              "  <thead>\n",
              "    <tr style=\"text-align: right;\">\n",
              "      <th></th>\n",
              "      <th>code</th>\n",
              "      <th>url</th>\n",
              "      <th>creator</th>\n",
              "      <th>created_t</th>\n",
              "      <th>created_datetime</th>\n",
              "      <th>last_modified_t</th>\n",
              "      <th>last_modified_datetime</th>\n",
              "      <th>product_name</th>\n",
              "      <th>abbreviated_product_name</th>\n",
              "      <th>generic_name</th>\n",
              "      <th>...</th>\n",
              "      <th>carbon-footprint-from-meat-or-fish_100g</th>\n",
              "      <th>nutrition-score-fr_100g</th>\n",
              "      <th>nutrition-score-uk_100g</th>\n",
              "      <th>glycemic-index_100g</th>\n",
              "      <th>water-hardness_100g</th>\n",
              "      <th>choline_100g</th>\n",
              "      <th>phylloquinone_100g</th>\n",
              "      <th>beta-glucan_100g</th>\n",
              "      <th>inositol_100g</th>\n",
              "      <th>carnitine_100g</th>\n",
              "    </tr>\n",
              "  </thead>\n",
              "  <tbody>\n",
              "    <tr>\n",
              "      <th>209848</th>\n",
              "      <td>0075355112470</td>\n",
              "      <td>http://world-en.openfoodfacts.org/product/0075...</td>\n",
              "      <td>usda-ndb-import</td>\n",
              "      <td>1489143239</td>\n",
              "      <td>2017-03-10T10:53:59Z</td>\n",
              "      <td>1587635313</td>\n",
              "      <td>2020-04-23T09:48:33Z</td>\n",
              "      <td>100% juice</td>\n",
              "      <td>NaN</td>\n",
              "      <td>NaN</td>\n",
              "      <td>...</td>\n",
              "      <td>NaN</td>\n",
              "      <td>NaN</td>\n",
              "      <td>NaN</td>\n",
              "      <td>NaN</td>\n",
              "      <td>NaN</td>\n",
              "      <td>NaN</td>\n",
              "      <td>NaN</td>\n",
              "      <td>NaN</td>\n",
              "      <td>NaN</td>\n",
              "      <td>NaN</td>\n",
              "    </tr>\n",
              "    <tr>\n",
              "      <th>837495</th>\n",
              "      <td>3481894000159</td>\n",
              "      <td>http://world-en.openfoodfacts.org/product/3481...</td>\n",
              "      <td>kiliweb</td>\n",
              "      <td>1613655706</td>\n",
              "      <td>2021-02-18T13:41:46Z</td>\n",
              "      <td>1613655707</td>\n",
              "      <td>2021-02-18T13:41:47Z</td>\n",
              "      <td>Epices des rois mages</td>\n",
              "      <td>NaN</td>\n",
              "      <td>NaN</td>\n",
              "      <td>...</td>\n",
              "      <td>NaN</td>\n",
              "      <td>NaN</td>\n",
              "      <td>NaN</td>\n",
              "      <td>NaN</td>\n",
              "      <td>NaN</td>\n",
              "      <td>NaN</td>\n",
              "      <td>NaN</td>\n",
              "      <td>NaN</td>\n",
              "      <td>NaN</td>\n",
              "      <td>NaN</td>\n",
              "    </tr>\n",
              "    <tr>\n",
              "      <th>282615</th>\n",
              "      <td>0208424016731</td>\n",
              "      <td>http://world-en.openfoodfacts.org/product/0208...</td>\n",
              "      <td>kiliweb</td>\n",
              "      <td>1596125301</td>\n",
              "      <td>2020-07-30T16:08:21Z</td>\n",
              "      <td>1604742150</td>\n",
              "      <td>2020-11-07T09:42:30Z</td>\n",
              "      <td>4 chaussons aux pommes</td>\n",
              "      <td>NaN</td>\n",
              "      <td>NaN</td>\n",
              "      <td>...</td>\n",
              "      <td>NaN</td>\n",
              "      <td>14.0</td>\n",
              "      <td>NaN</td>\n",
              "      <td>NaN</td>\n",
              "      <td>NaN</td>\n",
              "      <td>NaN</td>\n",
              "      <td>NaN</td>\n",
              "      <td>NaN</td>\n",
              "      <td>NaN</td>\n",
              "      <td>NaN</td>\n",
              "    </tr>\n",
              "    <tr>\n",
              "      <th>1513568</th>\n",
              "      <td>8414892291484</td>\n",
              "      <td>http://world-en.openfoodfacts.org/product/8414...</td>\n",
              "      <td>kiliweb</td>\n",
              "      <td>1570107050</td>\n",
              "      <td>2019-10-03T12:50:50Z</td>\n",
              "      <td>1605185969</td>\n",
              "      <td>2020-11-12T12:59:29Z</td>\n",
              "      <td>Sal de mesa fina</td>\n",
              "      <td>NaN</td>\n",
              "      <td>NaN</td>\n",
              "      <td>...</td>\n",
              "      <td>NaN</td>\n",
              "      <td>NaN</td>\n",
              "      <td>NaN</td>\n",
              "      <td>NaN</td>\n",
              "      <td>NaN</td>\n",
              "      <td>NaN</td>\n",
              "      <td>NaN</td>\n",
              "      <td>NaN</td>\n",
              "      <td>NaN</td>\n",
              "      <td>NaN</td>\n",
              "    </tr>\n",
              "    <tr>\n",
              "      <th>1471671</th>\n",
              "      <td>8410344111287</td>\n",
              "      <td>http://world-en.openfoodfacts.org/product/8410...</td>\n",
              "      <td>kiliweb</td>\n",
              "      <td>1575030658</td>\n",
              "      <td>2019-11-29T12:30:58Z</td>\n",
              "      <td>1579024627</td>\n",
              "      <td>2020-01-14T17:57:07Z</td>\n",
              "      <td>Aceitunas rellenas de anchoa</td>\n",
              "      <td>NaN</td>\n",
              "      <td>NaN</td>\n",
              "      <td>...</td>\n",
              "      <td>NaN</td>\n",
              "      <td>NaN</td>\n",
              "      <td>NaN</td>\n",
              "      <td>NaN</td>\n",
              "      <td>NaN</td>\n",
              "      <td>NaN</td>\n",
              "      <td>NaN</td>\n",
              "      <td>NaN</td>\n",
              "      <td>NaN</td>\n",
              "      <td>NaN</td>\n",
              "    </tr>\n",
              "  </tbody>\n",
              "</table>\n",
              "<p>5 rows × 184 columns</p>\n",
              "</div>"
            ],
            "text/plain": [
              "                  code                                                url  \\\n",
              "209848   0075355112470  http://world-en.openfoodfacts.org/product/0075...   \n",
              "837495   3481894000159  http://world-en.openfoodfacts.org/product/3481...   \n",
              "282615   0208424016731  http://world-en.openfoodfacts.org/product/0208...   \n",
              "1513568  8414892291484  http://world-en.openfoodfacts.org/product/8414...   \n",
              "1471671  8410344111287  http://world-en.openfoodfacts.org/product/8410...   \n",
              "\n",
              "                 creator   created_t      created_datetime  last_modified_t  \\\n",
              "209848   usda-ndb-import  1489143239  2017-03-10T10:53:59Z       1587635313   \n",
              "837495           kiliweb  1613655706  2021-02-18T13:41:46Z       1613655707   \n",
              "282615           kiliweb  1596125301  2020-07-30T16:08:21Z       1604742150   \n",
              "1513568          kiliweb  1570107050  2019-10-03T12:50:50Z       1605185969   \n",
              "1471671          kiliweb  1575030658  2019-11-29T12:30:58Z       1579024627   \n",
              "\n",
              "        last_modified_datetime                  product_name  \\\n",
              "209848    2020-04-23T09:48:33Z                    100% juice   \n",
              "837495    2021-02-18T13:41:47Z         Epices des rois mages   \n",
              "282615    2020-11-07T09:42:30Z        4 chaussons aux pommes   \n",
              "1513568   2020-11-12T12:59:29Z              Sal de mesa fina   \n",
              "1471671   2020-01-14T17:57:07Z  Aceitunas rellenas de anchoa   \n",
              "\n",
              "        abbreviated_product_name generic_name  ...  \\\n",
              "209848                       NaN          NaN  ...   \n",
              "837495                       NaN          NaN  ...   \n",
              "282615                       NaN          NaN  ...   \n",
              "1513568                      NaN          NaN  ...   \n",
              "1471671                      NaN          NaN  ...   \n",
              "\n",
              "        carbon-footprint-from-meat-or-fish_100g nutrition-score-fr_100g  \\\n",
              "209848                                      NaN                     NaN   \n",
              "837495                                      NaN                     NaN   \n",
              "282615                                      NaN                    14.0   \n",
              "1513568                                     NaN                     NaN   \n",
              "1471671                                     NaN                     NaN   \n",
              "\n",
              "        nutrition-score-uk_100g glycemic-index_100g water-hardness_100g  \\\n",
              "209848                      NaN                 NaN                 NaN   \n",
              "837495                      NaN                 NaN                 NaN   \n",
              "282615                      NaN                 NaN                 NaN   \n",
              "1513568                     NaN                 NaN                 NaN   \n",
              "1471671                     NaN                 NaN                 NaN   \n",
              "\n",
              "        choline_100g phylloquinone_100g beta-glucan_100g inositol_100g  \\\n",
              "209848           NaN                NaN              NaN           NaN   \n",
              "837495           NaN                NaN              NaN           NaN   \n",
              "282615           NaN                NaN              NaN           NaN   \n",
              "1513568          NaN                NaN              NaN           NaN   \n",
              "1471671          NaN                NaN              NaN           NaN   \n",
              "\n",
              "        carnitine_100g  \n",
              "209848             NaN  \n",
              "837495             NaN  \n",
              "282615             NaN  \n",
              "1513568            NaN  \n",
              "1471671            NaN  \n",
              "\n",
              "[5 rows x 184 columns]"
            ]
          },
          "execution_count": 4,
          "metadata": {},
          "output_type": "execute_result"
        }
      ],
      "source": [
        "datas.sample(5)\n",
        "\n",
        "\n",
        "\n"
      ]
    },
    {
      "cell_type": "code",
      "execution_count": 5,
      "metadata": {
        "colab": {
          "base_uri": "https://localhost:8080/"
        },
        "id": "FUMGHEJb3wTe",
        "outputId": "3bff8d4b-5462-458f-8446-a78474f2947f",
        "trusted": true
      },
      "outputs": [
        {
          "name": "stdout",
          "output_type": "stream",
          "text": [
            "Le dataset compte 1701965 lignes et 184 variables\n"
          ]
        }
      ],
      "source": [
        "print (\"Le dataset compte {} lignes et {} variables\".format(datas.shape[0], datas.shape[1]))"
      ]
    },
    {
      "cell_type": "markdown",
      "metadata": {
        "id": "WdUI11W33wTe"
      },
      "source": [
        "### <font color=\"#ea1c60\" id=\"section_1\">2.1. Colonnes et lignes vides / Doublons</font>\n",
        "Regardons à présent les **variables qui comptent le plus de valeurs null**:"
      ]
    },
    {
      "cell_type": "code",
      "execution_count": 6,
      "metadata": {
        "id": "WblFLT0Y3wTe",
        "trusted": true
      },
      "outputs": [],
      "source": [
        "def null_factor(df, tx_threshold=50):\n",
        "  null_rate = ((datas.isnull().sum() / datas.shape[0])*100).sort_values(ascending=False).reset_index()\n",
        "  null_rate.columns = ['Variable','Taux_de_Null']\n",
        "  high_null_rate = null_rate[null_rate.Taux_de_Null >= tx_threshold]\n",
        "  return high_null_rate"
      ]
    },
    {
      "cell_type": "code",
      "execution_count": 7,
      "metadata": {
        "id": "PJJoU4fU3wTe",
        "trusted": true
      },
      "outputs": [
        {
          "data": {
            "text/html": [
              "<div>\n",
              "<style scoped>\n",
              "    .dataframe tbody tr th:only-of-type {\n",
              "        vertical-align: middle;\n",
              "    }\n",
              "\n",
              "    .dataframe tbody tr th {\n",
              "        vertical-align: top;\n",
              "    }\n",
              "\n",
              "    .dataframe thead th {\n",
              "        text-align: right;\n",
              "    }\n",
              "</style>\n",
              "<table border=\"1\" class=\"dataframe\">\n",
              "  <thead>\n",
              "    <tr style=\"text-align: right;\">\n",
              "      <th></th>\n",
              "      <th>Variable</th>\n",
              "      <th>Taux_de_Null</th>\n",
              "    </tr>\n",
              "  </thead>\n",
              "  <tbody>\n",
              "    <tr>\n",
              "      <th>0</th>\n",
              "      <td>additives</td>\n",
              "      <td>100.0</td>\n",
              "    </tr>\n",
              "    <tr>\n",
              "      <th>1</th>\n",
              "      <td>no_nutriments</td>\n",
              "      <td>100.0</td>\n",
              "    </tr>\n",
              "    <tr>\n",
              "      <th>2</th>\n",
              "      <td>ingredients_that_may_be_from_palm_oil</td>\n",
              "      <td>100.0</td>\n",
              "    </tr>\n",
              "    <tr>\n",
              "      <th>3</th>\n",
              "      <td>ingredients_from_palm_oil</td>\n",
              "      <td>100.0</td>\n",
              "    </tr>\n",
              "    <tr>\n",
              "      <th>4</th>\n",
              "      <td>allergens_en</td>\n",
              "      <td>100.0</td>\n",
              "    </tr>\n",
              "    <tr>\n",
              "      <th>5</th>\n",
              "      <td>cities</td>\n",
              "      <td>100.0</td>\n",
              "    </tr>\n",
              "    <tr>\n",
              "      <th>6</th>\n",
              "      <td>water-hardness_100g</td>\n",
              "      <td>100.0</td>\n",
              "    </tr>\n",
              "    <tr>\n",
              "      <th>7</th>\n",
              "      <td>nutrition-score-uk_100g</td>\n",
              "      <td>100.0</td>\n",
              "    </tr>\n",
              "  </tbody>\n",
              "</table>\n",
              "</div>"
            ],
            "text/plain": [
              "                                Variable  Taux_de_Null\n",
              "0                              additives         100.0\n",
              "1                          no_nutriments         100.0\n",
              "2  ingredients_that_may_be_from_palm_oil         100.0\n",
              "3              ingredients_from_palm_oil         100.0\n",
              "4                           allergens_en         100.0\n",
              "5                                 cities         100.0\n",
              "6                    water-hardness_100g         100.0\n",
              "7                nutrition-score-uk_100g         100.0"
            ]
          },
          "execution_count": 7,
          "metadata": {},
          "output_type": "execute_result"
        }
      ],
      "source": [
        "full_null_rate = null_factor(datas, 100)\n",
        "full_null_rate"
      ]
    },
    {
      "cell_type": "markdown",
      "metadata": {
        "id": "DwW-hzYU3wTf"
      },
      "source": [
        "Nous allons regarder le taux de remplissage des variables graphiquement et fixer un **seuil de suppression à 25% de taux de remplissage. Nous considérons que ce qui est en dessous de 25% n'est pas utilisable, sauf exception,  et donc la colonne doit être supprimée :"
      ]
    },
    {
      "cell_type": "code",
      "execution_count": 8,
      "metadata": {
        "id": "o2d7fFIg3wTf",
        "trusted": true
      },
      "outputs": [
        {
          "name": "stderr",
          "output_type": "stream",
          "text": [
            "C:\\Users\\Calvyn\\AppData\\Local\\Temp\\ipykernel_14548\\2576690449.py:16: FutureWarning: \n",
            "\n",
            "Passing `palette` without assigning `hue` is deprecated and will be removed in v0.14.0. Assign the `y` variable to `hue` and set `legend=False` for the same effect.\n",
            "\n",
            "  sns.barplot(x=\"Taux_de_Null\", y=\"Variable\", data=filling_features, palette=\"flare\")\n"
          ]
        },
        {
          "data": {
            "image/png": "[encoded data removed]",
            "text/plain": [
              "<Figure size 2000x3500 with 1 Axes>"
            ]
          },
          "metadata": {},
          "output_type": "display_data"
        }
      ],
      "source": [
        "filling_features = null_factor(datas, 0)\n",
        "filling_features[\"Taux_de_Null\"] = 100-filling_features[\"Taux_de_Null\"]\n",
        "filling_features = filling_features.sort_values(\"Taux_de_Null\", ascending=False)\n",
        "\n",
        "#Seuil de suppression\n",
        "sup_threshold = 25\n",
        "\n",
        "fig = plt.figure(figsize=(20, 35))\n",
        "\n",
        "font_title = {'family': 'serif',\n",
        "              'color':  '#114b98',\n",
        "              'weight': 'bold',\n",
        "              'size': 18,\n",
        "             }\n",
        "\n",
        "sns.barplot(x=\"Taux_de_Null\", y=\"Variable\", data=filling_features, palette=\"flare\")\n",
        "#Seuil pour suppression des varaibles\n",
        "plt.axvline(x=sup_threshold, linewidth=2, color = 'r')\n",
        "plt.text(sup_threshold+2, 65, 'Seuil de suppression des variables', fontsize = 16, color = 'r')\n",
        "\n",
        "plt.title(\"Taux de remplissage des variables dans le jeu de données (%)\", fontdict=font_title)\n",
        "plt.xlabel(\"Taux de remplissage (%)\")\n",
        "plt.show()"
      ]
    },
    {
      "cell_type": "markdown",
      "metadata": {},
      "source": [
        "Nous conservons toutes les colonnes qui sont supérieures à 30% de remplissage au sein du dataset. Nous allons également conserver les colonnes labels car elles seront importantes dans la phase suivante qui se trouve être la transformation des données. Enfin, la colonne packaging doit également être conservée pour un traitement. "
      ]
    },
    {
      "cell_type": "code",
      "execution_count": 9,
      "metadata": {
        "id": "nAAQIPVW3wTf",
        "trusted": true
      },
      "outputs": [
        {
          "data": {
            "text/plain": [
              "(1701965, 56)"
            ]
          },
          "execution_count": 9,
          "metadata": {},
          "output_type": "execute_result"
        }
      ],
      "source": [
        "# Liste des variables à conserver\n",
        "features_to_conserve = list(filling_features.loc[filling_features['Taux_de_Null'] >= sup_threshold, 'Variable'].values)\n",
        "\n",
        "# Nous gardons les colonnes labels car elles nous seront utiles dans la phase de traitement des données. La colonne packaging doit également être conservée\n",
        "features_to_conserve.append(\"labels\")\n",
        "features_to_conserve.append(\"labels_en\")\n",
        "features_to_conserve.append(\"labels_tags\")\n",
        "features_to_conserve.append(\"packaging\")\n",
        "features_to_conserve.append(\"polyunsaturated-fat_100g\")\n",
        "features_to_conserve.append(\"monounsaturated-fat_100g\")\n",
        "\n",
        "# Liste des variables supprimées\n",
        "deleted_features = list(filling_features.loc[filling_features['Taux_de_Null'] < sup_threshold, 'Variable'].values)\n",
        "\n",
        "# Nouveau Dataset avec les variables conservées\n",
        "datas = datas[features_to_conserve].sort_values([\"created_datetime\", \"last_modified_datetime\"], ascending=True)\n",
        "datas.sample(5)\n",
        "datas.shape\n"
      ]
    },
    {
      "cell_type": "markdown",
      "metadata": {
        "id": "1-kDcEF23wTf"
      },
      "source": [
        "155 features(colonnes) sur 184 ont un taux de valeurs nulles supérieur à 50%, ce qui représente une très grosse part de données manquantes. **La majeure partie de ces variables ne peuvent pas être recalculées** puisqu'il s'agit de mesures physico-chimiques directes sur les produits.\n",
        "\n",
        "Il reste à présent 54 features dans notre dataset. Pour la suite des analyses, nous aurons besoin d'un minimum d'informations sur **les nutriments** des produits. Ces données sont **suffixées avec** `_100g`. Nous allons donc **conserver les lignes pour lesquelles au moins une de ces features est complétée** :"
      ]
    },
    {
      "cell_type": "code",
      "execution_count": 10,
      "metadata": {
        "id": "BIAY2apr3wTf",
        "trusted": true
      },
      "outputs": [
        {
          "data": {
            "text/html": [
              "<div>\n",
              "<style scoped>\n",
              "    .dataframe tbody tr th:only-of-type {\n",
              "        vertical-align: middle;\n",
              "    }\n",
              "\n",
              "    .dataframe tbody tr th {\n",
              "        vertical-align: top;\n",
              "    }\n",
              "\n",
              "    .dataframe thead th {\n",
              "        text-align: right;\n",
              "    }\n",
              "</style>\n",
              "<table border=\"1\" class=\"dataframe\">\n",
              "  <thead>\n",
              "    <tr style=\"text-align: right;\">\n",
              "      <th></th>\n",
              "      <th>code</th>\n",
              "      <th>states</th>\n",
              "      <th>states_en</th>\n",
              "      <th>created_datetime</th>\n",
              "      <th>last_modified_t</th>\n",
              "      <th>last_modified_datetime</th>\n",
              "      <th>url</th>\n",
              "      <th>created_t</th>\n",
              "      <th>states_tags</th>\n",
              "      <th>creator</th>\n",
              "      <th>...</th>\n",
              "      <th>fiber_100g</th>\n",
              "      <th>serving_size</th>\n",
              "      <th>serving_quantity</th>\n",
              "      <th>quantity</th>\n",
              "      <th>labels</th>\n",
              "      <th>labels_en</th>\n",
              "      <th>labels_tags</th>\n",
              "      <th>packaging</th>\n",
              "      <th>polyunsaturated-fat_100g</th>\n",
              "      <th>monounsaturated-fat_100g</th>\n",
              "    </tr>\n",
              "  </thead>\n",
              "  <tbody>\n",
              "    <tr>\n",
              "      <th>1340198</th>\n",
              "      <td>7613312045596</td>\n",
              "      <td>en:to-be-completed, en:nutrition-facts-complet...</td>\n",
              "      <td>To be completed,Nutrition facts completed,Ingr...</td>\n",
              "      <td>2017-02-07T22:00:40Z</td>\n",
              "      <td>1607375708</td>\n",
              "      <td>2020-12-07T21:15:08Z</td>\n",
              "      <td>http://world-en.openfoodfacts.org/product/7613...</td>\n",
              "      <td>1486504840</td>\n",
              "      <td>en:to-be-completed,en:nutrition-facts-complete...</td>\n",
              "      <td>openfood-ch-import</td>\n",
              "      <td>...</td>\n",
              "      <td>0.0</td>\n",
              "      <td>NaN</td>\n",
              "      <td>NaN</td>\n",
              "      <td>15 g</td>\n",
              "      <td>organic</td>\n",
              "      <td>Organic</td>\n",
              "      <td>en:organic</td>\n",
              "      <td>Glas</td>\n",
              "      <td>0.0</td>\n",
              "      <td>0.0</td>\n",
              "    </tr>\n",
              "    <tr>\n",
              "      <th>311951</th>\n",
              "      <td>03003491670</td>\n",
              "      <td>en:to-be-completed, en:nutrition-facts-complet...</td>\n",
              "      <td>To be completed,Nutrition facts completed,Ingr...</td>\n",
              "      <td>2020-04-23T20:16:25Z</td>\n",
              "      <td>1587672985</td>\n",
              "      <td>2020-04-23T20:16:25Z</td>\n",
              "      <td>http://world-en.openfoodfacts.org/product/0300...</td>\n",
              "      <td>1587672985</td>\n",
              "      <td>en:to-be-completed,en:nutrition-facts-complete...</td>\n",
              "      <td>org-database-usda</td>\n",
              "      <td>...</td>\n",
              "      <td>4.6</td>\n",
              "      <td>2/3 cup (87 g)</td>\n",
              "      <td>87.0</td>\n",
              "      <td>NaN</td>\n",
              "      <td>NaN</td>\n",
              "      <td>NaN</td>\n",
              "      <td>NaN</td>\n",
              "      <td>NaN</td>\n",
              "      <td>0.0</td>\n",
              "      <td>0.0</td>\n",
              "    </tr>\n",
              "    <tr>\n",
              "      <th>95344</th>\n",
              "      <td>0041268195084</td>\n",
              "      <td>en:to-be-completed, en:nutrition-facts-complet...</td>\n",
              "      <td>To be completed,Nutrition facts completed,Ingr...</td>\n",
              "      <td>2017-03-09T16:57:49Z</td>\n",
              "      <td>1587590061</td>\n",
              "      <td>2020-04-22T21:14:21Z</td>\n",
              "      <td>http://world-en.openfoodfacts.org/product/0041...</td>\n",
              "      <td>1489078669</td>\n",
              "      <td>en:to-be-completed,en:nutrition-facts-complete...</td>\n",
              "      <td>usda-ndb-import</td>\n",
              "      <td>...</td>\n",
              "      <td>0.0</td>\n",
              "      <td>0.25 cup (28 g)</td>\n",
              "      <td>28.0</td>\n",
              "      <td>NaN</td>\n",
              "      <td>NaN</td>\n",
              "      <td>NaN</td>\n",
              "      <td>NaN</td>\n",
              "      <td>NaN</td>\n",
              "      <td>0.0</td>\n",
              "      <td>0.0</td>\n",
              "    </tr>\n",
              "    <tr>\n",
              "      <th>821483</th>\n",
              "      <td>3439495108538</td>\n",
              "      <td>en:to-be-completed, en:nutrition-facts-complet...</td>\n",
              "      <td>To be completed,Nutrition facts completed,Ingr...</td>\n",
              "      <td>2017-06-11T14:17:54Z</td>\n",
              "      <td>1596970329</td>\n",
              "      <td>2020-08-09T10:52:09Z</td>\n",
              "      <td>http://world-en.openfoodfacts.org/product/3439...</td>\n",
              "      <td>1497190674</td>\n",
              "      <td>en:to-be-completed,en:nutrition-facts-complete...</td>\n",
              "      <td>openfoodfacts-contributors</td>\n",
              "      <td>...</td>\n",
              "      <td>0.0</td>\n",
              "      <td>3,5g</td>\n",
              "      <td>3.5</td>\n",
              "      <td>500 g</td>\n",
              "      <td>NaN</td>\n",
              "      <td>NaN</td>\n",
              "      <td>NaN</td>\n",
              "      <td>Plastique,Sous atmosphère protectrice</td>\n",
              "      <td>0.0</td>\n",
              "      <td>0.0</td>\n",
              "    </tr>\n",
              "    <tr>\n",
              "      <th>789476</th>\n",
              "      <td>3362763020228</td>\n",
              "      <td>en:to-be-completed, en:nutrition-facts-complet...</td>\n",
              "      <td>To be completed,Nutrition facts completed,Ingr...</td>\n",
              "      <td>2018-01-04T20:41:19Z</td>\n",
              "      <td>1589717415</td>\n",
              "      <td>2020-05-17T12:10:15Z</td>\n",
              "      <td>http://world-en.openfoodfacts.org/product/3362...</td>\n",
              "      <td>1515098479</td>\n",
              "      <td>en:to-be-completed,en:nutrition-facts-complete...</td>\n",
              "      <td>kiliweb</td>\n",
              "      <td>...</td>\n",
              "      <td>0.0</td>\n",
              "      <td>NaN</td>\n",
              "      <td>NaN</td>\n",
              "      <td>140 g</td>\n",
              "      <td>en:never-frozen</td>\n",
              "      <td>Never frozen</td>\n",
              "      <td>en:never-frozen</td>\n",
              "      <td>NaN</td>\n",
              "      <td>0.0</td>\n",
              "      <td>0.0</td>\n",
              "    </tr>\n",
              "  </tbody>\n",
              "</table>\n",
              "<p>5 rows × 56 columns</p>\n",
              "</div>"
            ],
            "text/plain": [
              "                  code                                             states  \\\n",
              "1340198  7613312045596  en:to-be-completed, en:nutrition-facts-complet...   \n",
              "311951     03003491670  en:to-be-completed, en:nutrition-facts-complet...   \n",
              "95344    0041268195084  en:to-be-completed, en:nutrition-facts-complet...   \n",
              "821483   3439495108538  en:to-be-completed, en:nutrition-facts-complet...   \n",
              "789476   3362763020228  en:to-be-completed, en:nutrition-facts-complet...   \n",
              "\n",
              "                                                 states_en  \\\n",
              "1340198  To be completed,Nutrition facts completed,Ingr...   \n",
              "311951   To be completed,Nutrition facts completed,Ingr...   \n",
              "95344    To be completed,Nutrition facts completed,Ingr...   \n",
              "821483   To be completed,Nutrition facts completed,Ingr...   \n",
              "789476   To be completed,Nutrition facts completed,Ingr...   \n",
              "\n",
              "             created_datetime  last_modified_t last_modified_datetime  \\\n",
              "1340198  2017-02-07T22:00:40Z       1607375708   2020-12-07T21:15:08Z   \n",
              "311951   2020-04-23T20:16:25Z       1587672985   2020-04-23T20:16:25Z   \n",
              "95344    2017-03-09T16:57:49Z       1587590061   2020-04-22T21:14:21Z   \n",
              "821483   2017-06-11T14:17:54Z       1596970329   2020-08-09T10:52:09Z   \n",
              "789476   2018-01-04T20:41:19Z       1589717415   2020-05-17T12:10:15Z   \n",
              "\n",
              "                                                       url   created_t  \\\n",
              "1340198  http://world-en.openfoodfacts.org/product/7613...  1486504840   \n",
              "311951   http://world-en.openfoodfacts.org/product/0300...  1587672985   \n",
              "95344    http://world-en.openfoodfacts.org/product/0041...  1489078669   \n",
              "821483   http://world-en.openfoodfacts.org/product/3439...  1497190674   \n",
              "789476   http://world-en.openfoodfacts.org/product/3362...  1515098479   \n",
              "\n",
              "                                               states_tags  \\\n",
              "1340198  en:to-be-completed,en:nutrition-facts-complete...   \n",
              "311951   en:to-be-completed,en:nutrition-facts-complete...   \n",
              "95344    en:to-be-completed,en:nutrition-facts-complete...   \n",
              "821483   en:to-be-completed,en:nutrition-facts-complete...   \n",
              "789476   en:to-be-completed,en:nutrition-facts-complete...   \n",
              "\n",
              "                            creator  ... fiber_100g     serving_size  \\\n",
              "1340198          openfood-ch-import  ...        0.0              NaN   \n",
              "311951            org-database-usda  ...        4.6   2/3 cup (87 g)   \n",
              "95344               usda-ndb-import  ...        0.0  0.25 cup (28 g)   \n",
              "821483   openfoodfacts-contributors  ...        0.0             3,5g   \n",
              "789476                      kiliweb  ...        0.0              NaN   \n",
              "\n",
              "        serving_quantity quantity           labels     labels_en  \\\n",
              "1340198              NaN     15 g          organic       Organic   \n",
              "311951              87.0      NaN              NaN           NaN   \n",
              "95344               28.0      NaN              NaN           NaN   \n",
              "821483               3.5    500 g              NaN           NaN   \n",
              "789476               NaN    140 g  en:never-frozen  Never frozen   \n",
              "\n",
              "             labels_tags                              packaging  \\\n",
              "1340198       en:organic                                   Glas   \n",
              "311951               NaN                                    NaN   \n",
              "95344                NaN                                    NaN   \n",
              "821483               NaN  Plastique,Sous atmosphère protectrice   \n",
              "789476   en:never-frozen                                    NaN   \n",
              "\n",
              "         polyunsaturated-fat_100g  monounsaturated-fat_100g  \n",
              "1340198                       0.0                       0.0  \n",
              "311951                        0.0                       0.0  \n",
              "95344                         0.0                       0.0  \n",
              "821483                        0.0                       0.0  \n",
              "789476                        0.0                       0.0  \n",
              "\n",
              "[5 rows x 56 columns]"
            ]
          },
          "execution_count": 10,
          "metadata": {},
          "output_type": "execute_result"
        }
      ],
      "source": [
        "# Fonction pour rechercher les colonnes contenant '_100g'\n",
        "def search_componant(df, suffix='_100g'):\n",
        "    componant = []\n",
        "    for col in df.columns:\n",
        "        if suffix in col:\n",
        "            componant.append(col)\n",
        "    df_subset_columns = df[componant]\n",
        "    return df_subset_columns\n",
        "\n",
        "# Filtrer les colonnes \"_100g\"\n",
        "df_subset_nutients = search_componant(datas, '_100g')\n",
        "\n",
        "# Remplir les valeurs manquantes des colonnes \"_100g\" avec 0\n",
        "df_subset_nutients_filled = df_subset_nutients.fillna(0)\n",
        "\n",
        "# Mettre à jour les données principales avec les valeurs modifiées\n",
        "datas[df_subset_nutients.columns] = df_subset_nutients_filled\n",
        "\n",
        "# Maintenant, on élimine les lignes où toutes les colonnes de \"_100g\" sont NaN (si nécessaire)\n",
        "datas = datas[df_subset_nutients_filled.notnull().any(axis=1)]\n",
        "\n",
        "# Suppression des doublons en fonction du code\n",
        "datas.drop_duplicates(subset =\"code\", keep = 'last', inplace=True)\n",
        "\n",
        "# Vérifier la forme du dataframe après modification\n",
        "datas.sample(5)\n",
        "\n"
      ]
    },
    {
      "cell_type": "code",
      "execution_count": 11,
      "metadata": {
        "id": "SJ65kQ0Q3wTg",
        "trusted": true
      },
      "outputs": [
        {
          "name": "stderr",
          "output_type": "stream",
          "text": [
            "<>:6: SyntaxWarning: invalid escape sequence '\\s'\n",
            "<>:6: SyntaxWarning: invalid escape sequence '\\s'\n",
            "C:\\Users\\Calvyn\\AppData\\Local\\Temp\\ipykernel_14548\\3784082962.py:6: SyntaxWarning: invalid escape sequence '\\s'\n",
            "  return isinstance(value, str) and bool(re.match(\"^[A-Za-zÀ-ÖØ-öø-ÿ0-9\\s,.'-]*$\", value))\n"
          ]
        },
        {
          "data": {
            "text/plain": [
              "(769256, 56)"
            ]
          },
          "execution_count": 11,
          "metadata": {},
          "output_type": "execute_result"
        }
      ],
      "source": [
        "import pandas as pd\n",
        "import re\n",
        "\n",
        "# Fonction pour vérifier si une chaîne est du texte (en supprimant les caractères non alphabétiques)\n",
        "def is_text(value):\n",
        "    return isinstance(value, str) and bool(re.match(\"^[A-Za-zÀ-ÖØ-öø-ÿ0-9\\s,.'-]*$\", value))\n",
        "\n",
        "# Filtrer et garder uniquement les lignes avec des valeurs textuelles valides dans 'product_name' et 'brands'\n",
        "datas = datas[(datas[\"product_name\"].apply(is_text)) & (datas[\"brands\"].apply(is_text))]\n",
        "\n",
        "# Vérifier la forme du dataframe après nettoyage\n",
        "datas.shape"
      ]
    },
    {
      "cell_type": "code",
      "execution_count": 12,
      "metadata": {
        "id": "TE64Zxq43wTg",
        "trusted": true
      },
      "outputs": [],
      "source": [
        "# Filtre les produits et marques non nulles, les regroupe par nom de produit et marque, puis compte le nombre de codes uniques associés à chaque combinaison. Enfin, elle trie ces résultats par ordre décroissant du nombre de codes uniques.\n",
        "datas = datas[(~datas.duplicated([\"product_name\",\"brands\"],keep=\"last\"))\n",
        "      | ((datas['product_name'].isnull()) & (datas['brands'].isnull()))]"
      ]
    },
    {
      "cell_type": "markdown",
      "metadata": {},
      "source": [
        "Après ce second nettoyage, nous avons 1 124 703 lignes et 46 colonnes."
      ]
    },
    {
      "cell_type": "code",
      "execution_count": 13,
      "metadata": {
        "id": "-4Ta-lo83wTg",
        "trusted": true
      },
      "outputs": [
        {
          "data": {
            "text/plain": [
              "(701335, 56)"
            ]
          },
          "execution_count": 13,
          "metadata": {},
          "output_type": "execute_result"
        }
      ],
      "source": [
        "datas.shape"
      ]
    },
    {
      "cell_type": "markdown",
      "metadata": {
        "id": "rYMHyPmu3wTg"
      },
      "source": [
        "### <font color=\"#ea1c60\" id=\"section_2\">2.2. Variables redondantes</font>\n",
        "\n",
        "Certaines variables dans le dataset sont en réalité des variables redondantes. C'est par exemple le cas des variables suffixées par `_tags` ou `_en` qui ne font que reprendre d'autres features traduites ou simplifiées.\n",
        "\n",
        "C'est par exemple de cas des catégories produits :"
      ]
    },
    {
      "cell_type": "code",
      "execution_count": 14,
      "metadata": {
        "id": "5yij13Xi3wTg",
        "trusted": true
      },
      "outputs": [
        {
          "data": {
            "text/html": [
              "<div>\n",
              "<style scoped>\n",
              "    .dataframe tbody tr th:only-of-type {\n",
              "        vertical-align: middle;\n",
              "    }\n",
              "\n",
              "    .dataframe tbody tr th {\n",
              "        vertical-align: top;\n",
              "    }\n",
              "\n",
              "    .dataframe thead th {\n",
              "        text-align: right;\n",
              "    }\n",
              "</style>\n",
              "<table border=\"1\" class=\"dataframe\">\n",
              "  <thead>\n",
              "    <tr style=\"text-align: right;\">\n",
              "      <th></th>\n",
              "      <th>product_name</th>\n",
              "      <th>categories</th>\n",
              "      <th>categories_tags</th>\n",
              "      <th>categories_en</th>\n",
              "    </tr>\n",
              "  </thead>\n",
              "  <tbody>\n",
              "    <tr>\n",
              "      <th>922246</th>\n",
              "      <td>Morceaux de thon Albacore au naturel</td>\n",
              "      <td>Produits de la mer, Poissons, Thons, Thons au ...</td>\n",
              "      <td>en:seafood,en:fishes,en:tunas,en:tuna-in-brine</td>\n",
              "      <td>Seafood,Fishes,Tunas,Tuna in brine</td>\n",
              "    </tr>\n",
              "    <tr>\n",
              "      <th>897008</th>\n",
              "      <td>Pate et salade poulet roti</td>\n",
              "      <td>Plats préparés, Produits à la viande, Salades,...</td>\n",
              "      <td>en:meals,en:meat-based-products,en:salads,en:m...</td>\n",
              "      <td>Meals,Meat-based products,Salads,Meals with me...</td>\n",
              "    </tr>\n",
              "    <tr>\n",
              "      <th>880987</th>\n",
              "      <td>Tartelettes aux citrons</td>\n",
              "      <td>fr:Tartelettes au citron</td>\n",
              "      <td>en:pies,en:tartlets,en:fruit-tartlets,en:lemon...</td>\n",
              "      <td>Pies,Tartlets,Fruit tartlets,Lemon tartlets</td>\n",
              "    </tr>\n",
              "    <tr>\n",
              "      <th>1415976</th>\n",
              "      <td>saftig.knackig</td>\n",
              "      <td>Pflanzliche Lebensmittel und Getränke, Pflanzl...</td>\n",
              "      <td>en:plant-based-foods-and-beverages,en:plant-ba...</td>\n",
              "      <td>Plant-based foods and beverages,Plant-based fo...</td>\n",
              "    </tr>\n",
              "    <tr>\n",
              "      <th>526221</th>\n",
              "      <td>cuisse dinde</td>\n",
              "      <td>Viande dinde</td>\n",
              "      <td>fr:viande-dinde</td>\n",
              "      <td>fr:viande-dinde</td>\n",
              "    </tr>\n",
              "  </tbody>\n",
              "</table>\n",
              "</div>"
            ],
            "text/plain": [
              "                                 product_name  \\\n",
              "922246   Morceaux de thon Albacore au naturel   \n",
              "897008             Pate et salade poulet roti   \n",
              "880987                Tartelettes aux citrons   \n",
              "1415976                        saftig.knackig   \n",
              "526221                           cuisse dinde   \n",
              "\n",
              "                                                categories  \\\n",
              "922246   Produits de la mer, Poissons, Thons, Thons au ...   \n",
              "897008   Plats préparés, Produits à la viande, Salades,...   \n",
              "880987                            fr:Tartelettes au citron   \n",
              "1415976  Pflanzliche Lebensmittel und Getränke, Pflanzl...   \n",
              "526221                                        Viande dinde   \n",
              "\n",
              "                                           categories_tags  \\\n",
              "922246      en:seafood,en:fishes,en:tunas,en:tuna-in-brine   \n",
              "897008   en:meals,en:meat-based-products,en:salads,en:m...   \n",
              "880987   en:pies,en:tartlets,en:fruit-tartlets,en:lemon...   \n",
              "1415976  en:plant-based-foods-and-beverages,en:plant-ba...   \n",
              "526221                                     fr:viande-dinde   \n",
              "\n",
              "                                             categories_en  \n",
              "922246                  Seafood,Fishes,Tunas,Tuna in brine  \n",
              "897008   Meals,Meat-based products,Salads,Meals with me...  \n",
              "880987         Pies,Tartlets,Fruit tartlets,Lemon tartlets  \n",
              "1415976  Plant-based foods and beverages,Plant-based fo...  \n",
              "526221                                     fr:viande-dinde  "
            ]
          },
          "execution_count": 14,
          "metadata": {},
          "output_type": "execute_result"
        }
      ],
      "source": [
        "category_columns = ['categories','categories_tags','categories_en']\n",
        "datas[datas[category_columns].notnull().any(axis=1)][['product_name'] + category_columns].sample(5)"
      ]
    },
    {
      "cell_type": "markdown",
      "metadata": {
        "id": "hPDCtD0y3wTg"
      },
      "source": [
        "On remarque dans ces quelques exemples que les variables sont bien redondantes. Nous allons donc, lorsque la colonne suffixée `_en` existe, supprimer toutes les autres colonnes identiques non suffixées ou contenant `_tags` :"
      ]
    },
    {
      "cell_type": "code",
      "execution_count": 15,
      "metadata": {
        "id": "8mJJ0DEC3wTg",
        "trusted": true
      },
      "outputs": [],
      "source": [
        "def search_redundant_col(df):\n",
        "  redundant_columns = []\n",
        "  for col in df.columns:\n",
        "    if \"_en\" in col:\n",
        "      en = col.replace('_en','')\n",
        "      tags = col.replace('_en','_tags')\n",
        "      print(\"{:<20} 'Sans suffixe' -> {} ; 'Suffixe _tags' -> {}\".format(col,\n",
        "                                                                        en in df.columns, tags in df.columns))\n",
        "      if en in df.columns :\n",
        "        redundant_columns.append(en)\n",
        "      if tags in df.columns :\n",
        "        redundant_columns.append(tags)\n",
        "\n",
        "    if '_tags' in col:\n",
        "      tags_2 = col.replace('_tags','')\n",
        "      print(\"{:<20} 'Suffixe _tags' -> {} ;\".format(tags_2, tags_2 in df.columns))\n",
        "      if tags_2 in df.columns :\n",
        "        redundant_columns.append(col)\n",
        "\n",
        "  return redundant_columns"
      ]
    },
    {
      "cell_type": "code",
      "execution_count": 16,
      "metadata": {
        "id": "rHraW5VY3wTg",
        "trusted": true
      },
      "outputs": [
        {
          "name": "stdout",
          "output_type": "stream",
          "text": [
            "states_en            'Sans suffixe' -> True ; 'Suffixe _tags' -> True\n",
            "states               'Suffixe _tags' -> True ;\n",
            "countries_en         'Sans suffixe' -> True ; 'Suffixe _tags' -> True\n",
            "countries            'Suffixe _tags' -> True ;\n",
            "brands               'Suffixe _tags' -> True ;\n",
            "categories           'Suffixe _tags' -> True ;\n",
            "categories_en        'Sans suffixe' -> True ; 'Suffixe _tags' -> True\n",
            "main_category_en     'Sans suffixe' -> True ; 'Suffixe _tags' -> False\n",
            "labels_en            'Sans suffixe' -> True ; 'Suffixe _tags' -> True\n",
            "labels               'Suffixe _tags' -> True ;\n"
          ]
        }
      ],
      "source": [
        "datas.drop(search_redundant_col(datas), axis=1, inplace=True)"
      ]
    },
    {
      "cell_type": "markdown",
      "metadata": {
        "id": "WIkNZ7jQ3wTh"
      },
      "source": [
        "**Les dates également comportent une certaine redondance**. Entre les timestamp et les dates au format \"yyyy-mm-dd\", il est nécessaire d'en éliminer :"
      ]
    },
    {
      "cell_type": "code",
      "execution_count": 17,
      "metadata": {
        "id": "Dgo5MOiv3wTh",
        "trusted": true
      },
      "outputs": [
        {
          "name": "stdout",
          "output_type": "stream",
          "text": [
            "Index(['code', 'states_en', 'created_datetime', 'last_modified_t',\n",
            "       'last_modified_datetime', 'url', 'created_t', 'creator',\n",
            "       'pnns_groups_2', 'countries_en', 'pnns_groups_1', 'product_name',\n",
            "       'energy_100g', 'proteins_100g', 'fat_100g', 'carbohydrates_100g',\n",
            "       'sugars_100g', 'salt_100g', 'sodium_100g', 'saturated-fat_100g',\n",
            "       'energy-kcal_100g', 'image_url', 'image_small_url', 'brands',\n",
            "       'categories_en', 'main_category_en', 'image_nutrition_small_url',\n",
            "       'image_nutrition_url', 'additives_n',\n",
            "       'ingredients_that_may_be_from_palm_oil_n',\n",
            "       'ingredients_from_palm_oil_n', 'ingredients_text',\n",
            "       'image_ingredients_small_url', 'image_ingredients_url',\n",
            "       'nutriscore_score', 'nutriscore_grade', 'nutrition-score-fr_100g',\n",
            "       'nova_group', 'fiber_100g', 'serving_size', 'serving_quantity',\n",
            "       'quantity', 'labels_en', 'packaging', 'polyunsaturated-fat_100g',\n",
            "       'monounsaturated-fat_100g'],\n",
            "      dtype='object')\n"
          ]
        },
        {
          "data": {
            "text/plain": [
              "(701335, 44)"
            ]
          },
          "execution_count": 17,
          "metadata": {},
          "output_type": "execute_result"
        }
      ],
      "source": [
        "# Vérifiez les noms des colonnes\n",
        "print(datas.columns)\n",
        "\n",
        "# Si les colonnes existent sous un autre nom, ajustez ici :\n",
        "# Par exemple, si 'created_t' s'appelle 'created_timestamp', modifiez en conséquence\n",
        "if 'created_t' in datas.columns and 'last_modified_t' in datas.columns:\n",
        "    datas['created_datetime'] = pd.to_datetime(datas['created_t'], unit='s')\n",
        "    datas['last_modified_datetime'] = pd.to_datetime(datas['last_modified_t'], unit='s')\n",
        "    datas = datas.drop(['created_t', 'last_modified_t'], axis=1)\n",
        "else:\n",
        "    print(\"Les colonnes 'created_t' et 'last_modified_t' sont absentes.\")\n",
        "datas.head(5)\n",
        "datas.shape"
      ]
    },
    {
      "cell_type": "markdown",
      "metadata": {
        "id": "1qhkok0e3wTh"
      },
      "source": [
        "A présent, notre dataset compte 36 variables qui ne contienent plus de redondance et 701335 lignes. Nous allons maintenant nous intéresser à une variable importante : le pays. La colonne pays est une colonne critique et elle doit être normalisée"
      ]
    },
    {
      "cell_type": "markdown",
      "metadata": {
        "id": "EbAlMDii3wTk"
      },
      "source": [
        "### <font color=\"#ea1c60\" id=\"section_3\">2.3. Normalisation des pays</font>\n",
        "\n",
        "Regardons tout d'abord le nombre de pays représentés."
      ]
    },
    {
      "cell_type": "code",
      "execution_count": 18,
      "metadata": {
        "id": "WXs66Mhp3wTk",
        "trusted": true
      },
      "outputs": [],
      "source": [
        "countries = datas.groupby(by=\"countries_en\").nunique()"
      ]
    },
    {
      "cell_type": "code",
      "execution_count": 19,
      "metadata": {
        "id": "M7HGEWUs3wTk",
        "trusted": true
      },
      "outputs": [
        {
          "data": {
            "text/html": [
              "<div>\n",
              "<style scoped>\n",
              "    .dataframe tbody tr th:only-of-type {\n",
              "        vertical-align: middle;\n",
              "    }\n",
              "\n",
              "    .dataframe tbody tr th {\n",
              "        vertical-align: top;\n",
              "    }\n",
              "\n",
              "    .dataframe thead th {\n",
              "        text-align: right;\n",
              "    }\n",
              "</style>\n",
              "<table border=\"1\" class=\"dataframe\">\n",
              "  <thead>\n",
              "    <tr style=\"text-align: right;\">\n",
              "      <th></th>\n",
              "      <th>code</th>\n",
              "    </tr>\n",
              "    <tr>\n",
              "      <th>countries_en</th>\n",
              "      <th></th>\n",
              "    </tr>\n",
              "  </thead>\n",
              "  <tbody>\n",
              "    <tr>\n",
              "      <th>Afghanistan</th>\n",
              "      <td>3</td>\n",
              "    </tr>\n",
              "    <tr>\n",
              "      <th>Afghanistan,Belgium,France</th>\n",
              "      <td>2</td>\n",
              "    </tr>\n",
              "    <tr>\n",
              "      <th>Afghanistan,France</th>\n",
              "      <td>99</td>\n",
              "    </tr>\n",
              "    <tr>\n",
              "      <th>Afghanistan,France,French Guiana</th>\n",
              "      <td>1</td>\n",
              "    </tr>\n",
              "    <tr>\n",
              "      <th>Afghanistan,France,Germany</th>\n",
              "      <td>1</td>\n",
              "    </tr>\n",
              "  </tbody>\n",
              "</table>\n",
              "</div>"
            ],
            "text/plain": [
              "                                  code\n",
              "countries_en                          \n",
              "Afghanistan                          3\n",
              "Afghanistan,Belgium,France           2\n",
              "Afghanistan,France                  99\n",
              "Afghanistan,France,French Guiana     1\n",
              "Afghanistan,France,Germany           1"
            ]
          },
          "execution_count": 19,
          "metadata": {},
          "output_type": "execute_result"
        }
      ],
      "source": [
        "countries[['code']].head()"
      ]
    },
    {
      "cell_type": "markdown",
      "metadata": {
        "id": "2wL4cPVs3wTk"
      },
      "source": [
        "Plusieurs pays sont regroupés dans la même variable, nous allons devoir effectuer un split du texte pour visualiser tout nos pays. La fonction split_words extrait tous les mots uniques d'une colonne spécifiée d'un DataFrame pandas, en les séparant par des virgules et en ignorant les valeurs manquantes."
      ]
    },
    {
      "cell_type": "code",
      "execution_count": 20,
      "metadata": {
        "id": "A5o4w1VT3wTk",
        "trusted": true
      },
      "outputs": [],
      "source": [
        "def split_words(df, column='countries_en'):\n",
        "    # Initialiser un ensemble pour stocker les mots uniques\n",
        "    list_words = set()\n",
        "    \n",
        "    # Parcourir chaque entrée de la colonne spécifiée du DataFrame\n",
        "    for word in df[column].str.split(','):\n",
        "        # Si l'entrée est un flottant (NaN), passer à l'itération suivante\n",
        "        if isinstance(word, float):\n",
        "            continue\n",
        "        # Ajouter les mots de l'entrée actuelle à l'ensemble list_words\n",
        "        list_words = set().union(word, list_words)\n",
        "    \n",
        "    # Retourner la liste des mots uniques\n",
        "    return list(list_words)\n"
      ]
    },
    {
      "cell_type": "code",
      "execution_count": 21,
      "metadata": {
        "id": "YkmIwsoH3wTk",
        "trusted": true
      },
      "outputs": [],
      "source": [
        "#Liste contenant tous les pays du jeu de données (bons ou mauvais)\n",
        "list_countries = split_words(datas, 'countries_en')"
      ]
    },
    {
      "cell_type": "code",
      "execution_count": 22,
      "metadata": {
        "id": "SyNSZwcf3wTk",
        "trusted": true
      },
      "outputs": [
        {
          "name": "stdout",
          "output_type": "stream",
          "text": [
            "Nombre de pays représentés : 536\n"
          ]
        }
      ],
      "source": [
        "print(\"Nombre de pays représentés : {}\".format(len(list_countries)))"
      ]
    },
    {
      "cell_type": "markdown",
      "metadata": {
        "id": "uWCvHgwc3wTk"
      },
      "source": [
        "Nous allons charger une **base de données des pays, en Anglais**, pour déterminer les pays qui ne matchent pas *(mauvaise orthographe ou autre)*. En effet, il faut télécharger un dataset contenant les pays du monde entier dans format normalisé afin de bien parser les données du dataset OpenFoodFacts"
      ]
    },
    {
      "cell_type": "code",
      "execution_count": 23,
      "metadata": {
        "id": "9BvtsOk73wTk",
        "trusted": true
      },
      "outputs": [
        {
          "data": {
            "text/html": [
              "<div>\n",
              "<style scoped>\n",
              "    .dataframe tbody tr th:only-of-type {\n",
              "        vertical-align: middle;\n",
              "    }\n",
              "\n",
              "    .dataframe tbody tr th {\n",
              "        vertical-align: top;\n",
              "    }\n",
              "\n",
              "    .dataframe thead th {\n",
              "        text-align: right;\n",
              "    }\n",
              "</style>\n",
              "<table border=\"1\" class=\"dataframe\">\n",
              "  <thead>\n",
              "    <tr style=\"text-align: right;\">\n",
              "      <th></th>\n",
              "      <th>country_id</th>\n",
              "      <th>country_code_2</th>\n",
              "      <th>country_code_3</th>\n",
              "      <th>country_fr</th>\n",
              "      <th>country_en</th>\n",
              "    </tr>\n",
              "    <tr>\n",
              "      <th>0</th>\n",
              "      <th></th>\n",
              "      <th></th>\n",
              "      <th></th>\n",
              "      <th></th>\n",
              "      <th></th>\n",
              "    </tr>\n",
              "  </thead>\n",
              "  <tbody>\n",
              "    <tr>\n",
              "      <th>1</th>\n",
              "      <td>4</td>\n",
              "      <td>AF</td>\n",
              "      <td>AFG</td>\n",
              "      <td>Afghanistan</td>\n",
              "      <td>Afghanistan</td>\n",
              "    </tr>\n",
              "    <tr>\n",
              "      <th>2</th>\n",
              "      <td>8</td>\n",
              "      <td>AL</td>\n",
              "      <td>ALB</td>\n",
              "      <td>Albanie</td>\n",
              "      <td>Albania</td>\n",
              "    </tr>\n",
              "    <tr>\n",
              "      <th>3</th>\n",
              "      <td>10</td>\n",
              "      <td>AQ</td>\n",
              "      <td>ATA</td>\n",
              "      <td>Antarctique</td>\n",
              "      <td>Antarctica</td>\n",
              "    </tr>\n",
              "    <tr>\n",
              "      <th>4</th>\n",
              "      <td>12</td>\n",
              "      <td>DZ</td>\n",
              "      <td>DZA</td>\n",
              "      <td>Algérie</td>\n",
              "      <td>Algeria</td>\n",
              "    </tr>\n",
              "    <tr>\n",
              "      <th>5</th>\n",
              "      <td>16</td>\n",
              "      <td>AS</td>\n",
              "      <td>ASM</td>\n",
              "      <td>Samoa Américaines</td>\n",
              "      <td>American Samoa</td>\n",
              "    </tr>\n",
              "  </tbody>\n",
              "</table>\n",
              "</div>"
            ],
            "text/plain": [
              "   country_id country_code_2 country_code_3         country_fr      country_en\n",
              "0                                                                             \n",
              "1           4             AF            AFG        Afghanistan     Afghanistan\n",
              "2           8             AL            ALB            Albanie         Albania\n",
              "3          10             AQ            ATA        Antarctique      Antarctica\n",
              "4          12             DZ            DZA            Algérie         Algeria\n",
              "5          16             AS            ASM  Samoa Américaines  American Samoa"
            ]
          },
          "execution_count": 23,
          "metadata": {},
          "output_type": "execute_result"
        }
      ],
      "source": [
        "df_countries = pd.read_csv(\"countries-en.csv\",\n",
        "                        sep=\",\", header=None, index_col = 0).rename(columns={0:\"index\", 1:\"country_id\", 2:\"country_code_2\", 3:\"country_code_3\", 4:\"country_fr\", 5:\"country_en\"})\n",
        "df_countries.head()"
      ]
    },
    {
      "cell_type": "code",
      "execution_count": 24,
      "metadata": {
        "id": "FaXn9MEG3wTk",
        "trusted": true
      },
      "outputs": [],
      "source": [
        "df_countries = pd.merge(pd.DataFrame(list_countries, columns=[\"countries_dataset\"]),df_countries, how=\"left\",\n",
        "         left_on=\"countries_dataset\", right_on=\"country_en\")"
      ]
    },
    {
      "cell_type": "code",
      "execution_count": 25,
      "metadata": {
        "id": "cx_nPJKs3wTk",
        "trusted": true
      },
      "outputs": [
        {
          "data": {
            "text/plain": [
              "['Switzerland-francais',\n",
              " 'es:franca',\n",
              " 'fr:frankrijk',\n",
              " 'Rumanien',\n",
              " 'Norvege',\n",
              " 'fr:zwitserland',\n",
              " 'fr:hiszpania',\n",
              " 'Lithuania-lietuvių',\n",
              " 'Algerie',\n",
              " 'Turkiye',\n",
              " 'fr:martinica',\n",
              " 'Grecja',\n",
              " 'Suomi',\n",
              " 'it:frankreich',\n",
              " 'it:nd']"
            ]
          },
          "execution_count": 25,
          "metadata": {},
          "output_type": "execute_result"
        }
      ],
      "source": [
        "false_country_list = list(df_countries[df_countries.isnull().sum(axis=1)>0].countries_dataset)\n",
        "false_country_list[0:15]"
      ]
    },
    {
      "cell_type": "markdown",
      "metadata": {
        "id": "CFGYhq8x3wTk"
      },
      "source": [
        "puis nous allons **supprimer ces pays \"fantômes\" de la base de données** :"
      ]
    },
    {
      "cell_type": "code",
      "execution_count": 26,
      "metadata": {
        "id": "VrOX9hjA3wTl",
        "trusted": true
      },
      "outputs": [],
      "source": [
        "for index, countries in datas['countries_en'].str.split(',').items():\n",
        "  if isinstance(countries, float):\n",
        "    continue\n",
        "  country_name = []\n",
        "  found = False\n",
        "  for country in countries:\n",
        "    if country in false_country_list:\n",
        "      found = True\n",
        "    else:\n",
        "      country_name.append(country)\n",
        "  if found:\n",
        "    datas.loc[index, 'countries_en'] = ','.join(country_name)"
      ]
    },
    {
      "cell_type": "code",
      "execution_count": 27,
      "metadata": {
        "id": "jRGmCKUe3wTl",
        "trusted": true
      },
      "outputs": [
        {
          "name": "stdout",
          "output_type": "stream",
          "text": [
            "Nouveau nombre de pays représentés : 182\n"
          ]
        }
      ],
      "source": [
        "print(\"Nouveau nombre de pays représentés : {}\".format(len(split_words(datas, 'countries_en'))))"
      ]
    },
    {
      "cell_type": "markdown",
      "metadata": {
        "id": "JT5POEql3wTl"
      },
      "source": [
        "Le nombre de pays représenté est à présent plus cohérent et la perte d'informations est limitée. Il nous reste à présent à **compléter les valeurs nulles pour cette variable**."
      ]
    },
    {
      "cell_type": "code",
      "execution_count": 28,
      "metadata": {
        "id": "6hk8JV3C3wTl",
        "trusted": true
      },
      "outputs": [],
      "source": [
        "datas['countries_en'] = np.where((datas['countries_en'].isnull()==True), \"unknown\",\n",
        "                                 np.where(datas['countries_en'] == \"\", \"unknown\", datas['countries_en']))"
      ]
    },
    {
      "cell_type": "markdown",
      "metadata": {
        "id": "N2nAgfua3wTl"
      },
      "source": [
        "Nous pouvons également regarder quels sont les **pays les plus représentés** :"
      ]
    },
    {
      "cell_type": "code",
      "execution_count": 29,
      "metadata": {
        "id": "in86MB6E3wTl",
        "trusted": true
      },
      "outputs": [
        {
          "data": {
            "text/html": [
              "<div>\n",
              "<style scoped>\n",
              "    .dataframe tbody tr th:only-of-type {\n",
              "        vertical-align: middle;\n",
              "    }\n",
              "\n",
              "    .dataframe tbody tr th {\n",
              "        vertical-align: top;\n",
              "    }\n",
              "\n",
              "    .dataframe thead th {\n",
              "        text-align: right;\n",
              "    }\n",
              "</style>\n",
              "<table border=\"1\" class=\"dataframe\">\n",
              "  <thead>\n",
              "    <tr style=\"text-align: right;\">\n",
              "      <th></th>\n",
              "      <th>Keyword</th>\n",
              "      <th>count</th>\n",
              "    </tr>\n",
              "  </thead>\n",
              "  <tbody>\n",
              "    <tr>\n",
              "      <th>0</th>\n",
              "      <td>France</td>\n",
              "      <td>331553</td>\n",
              "    </tr>\n",
              "    <tr>\n",
              "      <th>1</th>\n",
              "      <td>United States</td>\n",
              "      <td>147567</td>\n",
              "    </tr>\n",
              "    <tr>\n",
              "      <th>2</th>\n",
              "      <td>Spain</td>\n",
              "      <td>89088</td>\n",
              "    </tr>\n",
              "    <tr>\n",
              "      <th>3</th>\n",
              "      <td>Germany</td>\n",
              "      <td>48245</td>\n",
              "    </tr>\n",
              "    <tr>\n",
              "      <th>4</th>\n",
              "      <td>Switzerland</td>\n",
              "      <td>28619</td>\n",
              "    </tr>\n",
              "    <tr>\n",
              "      <th>5</th>\n",
              "      <td>Belgium</td>\n",
              "      <td>25532</td>\n",
              "    </tr>\n",
              "    <tr>\n",
              "      <th>6</th>\n",
              "      <td>United Kingdom</td>\n",
              "      <td>18818</td>\n",
              "    </tr>\n",
              "    <tr>\n",
              "      <th>7</th>\n",
              "      <td>Italy</td>\n",
              "      <td>13456</td>\n",
              "    </tr>\n",
              "    <tr>\n",
              "      <th>8</th>\n",
              "      <td>Canada</td>\n",
              "      <td>6697</td>\n",
              "    </tr>\n",
              "    <tr>\n",
              "      <th>9</th>\n",
              "      <td>Mexico</td>\n",
              "      <td>4563</td>\n",
              "    </tr>\n",
              "  </tbody>\n",
              "</table>\n",
              "</div>"
            ],
            "text/plain": [
              "          Keyword   count\n",
              "0          France  331553\n",
              "1   United States  147567\n",
              "2           Spain   89088\n",
              "3         Germany   48245\n",
              "4     Switzerland   28619\n",
              "5         Belgium   25532\n",
              "6  United Kingdom   18818\n",
              "7           Italy   13456\n",
              "8          Canada    6697\n",
              "9          Mexico    4563"
            ]
          },
          "execution_count": 29,
          "metadata": {},
          "output_type": "execute_result"
        }
      ],
      "source": [
        "def top_words(df, column=\"countries_en\", nb_top=10):\n",
        "    count_keyword = dict()\n",
        "    for index, col in df[column].items():  # Utilisation de .items() au lieu de .iteritems()\n",
        "        if isinstance(col, float):\n",
        "            continue\n",
        "        for word in col.split(','):\n",
        "            word = word.strip()  # Nettoie les espaces autour du mot\n",
        "            if word in count_keyword.keys():\n",
        "                count_keyword[word] += 1\n",
        "            else:\n",
        "                count_keyword[word] = 1\n",
        "\n",
        "    keyword_top = []\n",
        "    for k, v in count_keyword.items():\n",
        "        keyword_top.append([k, v])\n",
        "    keyword_top.sort(key=lambda x: x[1], reverse=True)\n",
        "\n",
        "    return keyword_top[:nb_top]\n",
        "\n",
        "# Appel de la fonction et création du DataFrame\n",
        "df_top_countries = pd.DataFrame(top_words(df=datas, column=\"countries_en\", nb_top=10),\n",
        "                                columns=[\"Keyword\", \"count\"])\n",
        "df_top_countries\n"
      ]
    },
    {
      "cell_type": "code",
      "execution_count": 30,
      "metadata": {
        "id": "w2nWUkum3wTl",
        "trusted": true
      },
      "outputs": [
        {
          "name": "stdout",
          "output_type": "stream",
          "text": [
            "Index(['code', 'states_en', 'created_datetime', 'last_modified_datetime',\n",
            "       'url', 'creator', 'pnns_groups_2', 'countries_en', 'pnns_groups_1',\n",
            "       'product_name', 'energy_100g', 'proteins_100g', 'fat_100g',\n",
            "       'carbohydrates_100g', 'sugars_100g', 'salt_100g', 'sodium_100g',\n",
            "       'saturated-fat_100g', 'energy-kcal_100g', 'image_url',\n",
            "       'image_small_url', 'brands', 'categories_en', 'main_category_en',\n",
            "       'image_nutrition_small_url', 'image_nutrition_url', 'additives_n',\n",
            "       'ingredients_that_may_be_from_palm_oil_n',\n",
            "       'ingredients_from_palm_oil_n', 'ingredients_text',\n",
            "       'image_ingredients_small_url', 'image_ingredients_url',\n",
            "       'nutriscore_score', 'nutriscore_grade', 'nutrition-score-fr_100g',\n",
            "       'nova_group', 'fiber_100g', 'serving_size', 'serving_quantity',\n",
            "       'quantity', 'labels_en', 'packaging', 'polyunsaturated-fat_100g',\n",
            "       'monounsaturated-fat_100g'],\n",
            "      dtype='object')\n"
          ]
        }
      ],
      "source": [
        "print(datas.columns)"
      ]
    },
    {
      "cell_type": "markdown",
      "metadata": {
        "id": "uH6ZHM5x3wTl"
      },
      "source": [
        "**La France et les Etats-Unis sont massivement représentés** dans le Dataset. Le 10ème Pays représenté en terme de volume ne compte plus que 4536 entrées - soit 73 fois moins que le 1er. Cette différence devra être prise en compte dans les futurs modèles développés."
      ]
    },
    {
      "cell_type": "markdown",
      "metadata": {
        "id": "YRxrTGLl3wTl"
      },
      "source": [
        "### <font color=\"#ea1c60\" id=\"section_4\">2.4. Les catégories de produits</font>\n",
        "\n",
        "Intéressons nous à présent à la catégorisation des produits. 4 variables représentent cette catégorisation de manière plus ou moins précise : `categories_en`, `main_category_en`, `pnns_groups_1`, `pnns_groups_2`."
      ]
    },
    {
      "cell_type": "code",
      "execution_count": 31,
      "metadata": {
        "id": "y4B-fCsC3wTl",
        "trusted": true
      },
      "outputs": [
        {
          "data": {
            "text/html": [
              "<div>\n",
              "<style scoped>\n",
              "    .dataframe tbody tr th:only-of-type {\n",
              "        vertical-align: middle;\n",
              "    }\n",
              "\n",
              "    .dataframe tbody tr th {\n",
              "        vertical-align: top;\n",
              "    }\n",
              "\n",
              "    .dataframe thead th {\n",
              "        text-align: right;\n",
              "    }\n",
              "</style>\n",
              "<table border=\"1\" class=\"dataframe\">\n",
              "  <thead>\n",
              "    <tr style=\"text-align: right;\">\n",
              "      <th></th>\n",
              "      <th>categories_en</th>\n",
              "      <th>pnns_groups_1</th>\n",
              "      <th>pnns_groups_2</th>\n",
              "      <th>main_category_en</th>\n",
              "    </tr>\n",
              "  </thead>\n",
              "  <tbody>\n",
              "    <tr>\n",
              "      <th>1615062</th>\n",
              "      <td>Groceries,Meat-based products,Sauces,Meat-base...</td>\n",
              "      <td>Fat and sauces</td>\n",
              "      <td>Dressings and sauces</td>\n",
              "      <td>Bolognese sauces</td>\n",
              "    </tr>\n",
              "    <tr>\n",
              "      <th>36019</th>\n",
              "      <td>NaN</td>\n",
              "      <td>unknown</td>\n",
              "      <td>unknown</td>\n",
              "      <td>NaN</td>\n",
              "    </tr>\n",
              "    <tr>\n",
              "      <th>1200600</th>\n",
              "      <td>NaN</td>\n",
              "      <td>unknown</td>\n",
              "      <td>unknown</td>\n",
              "      <td>NaN</td>\n",
              "    </tr>\n",
              "    <tr>\n",
              "      <th>674439</th>\n",
              "      <td>Dairies,Fermented foods,Fermented milk product...</td>\n",
              "      <td>Milk and dairy products</td>\n",
              "      <td>Cheese</td>\n",
              "      <td>Pasteurized camembert</td>\n",
              "    </tr>\n",
              "    <tr>\n",
              "      <th>641868</th>\n",
              "      <td>Fish and meat and eggs,Foies gras,Foies gras f...</td>\n",
              "      <td>Salty snacks</td>\n",
              "      <td>Salty and fatty products</td>\n",
              "      <td>Foies gras from ducks</td>\n",
              "    </tr>\n",
              "    <tr>\n",
              "      <th>1676663</th>\n",
              "      <td>Snacks,Sweet snacks,Confectioneries,Chocolate ...</td>\n",
              "      <td>Sugary snacks</td>\n",
              "      <td>Sweets</td>\n",
              "      <td>Bonbons</td>\n",
              "    </tr>\n",
              "    <tr>\n",
              "      <th>239854</th>\n",
              "      <td>Dairies,Fermented foods,Fermented milk product...</td>\n",
              "      <td>Milk and dairy products</td>\n",
              "      <td>Milk and yogurt</td>\n",
              "      <td>Low-fat yogurts</td>\n",
              "    </tr>\n",
              "    <tr>\n",
              "      <th>667665</th>\n",
              "      <td>Snacks,Sweet snacks,Biscuits and cakes,Biscuit...</td>\n",
              "      <td>Sugary snacks</td>\n",
              "      <td>Biscuits and cakes</td>\n",
              "      <td>Shortbread cookies</td>\n",
              "    </tr>\n",
              "    <tr>\n",
              "      <th>7540</th>\n",
              "      <td>Plant-based foods and beverages,Plant-based fo...</td>\n",
              "      <td>Fruits and vegetables</td>\n",
              "      <td>Fruits</td>\n",
              "      <td>Canned fruits</td>\n",
              "    </tr>\n",
              "    <tr>\n",
              "      <th>6474</th>\n",
              "      <td>Dairies,Milks</td>\n",
              "      <td>Milk and dairy products</td>\n",
              "      <td>Milk and yogurt</td>\n",
              "      <td>Milks</td>\n",
              "    </tr>\n",
              "  </tbody>\n",
              "</table>\n",
              "</div>"
            ],
            "text/plain": [
              "                                             categories_en  \\\n",
              "1615062  Groceries,Meat-based products,Sauces,Meat-base...   \n",
              "36019                                                  NaN   \n",
              "1200600                                                NaN   \n",
              "674439   Dairies,Fermented foods,Fermented milk product...   \n",
              "641868   Fish and meat and eggs,Foies gras,Foies gras f...   \n",
              "1676663  Snacks,Sweet snacks,Confectioneries,Chocolate ...   \n",
              "239854   Dairies,Fermented foods,Fermented milk product...   \n",
              "667665   Snacks,Sweet snacks,Biscuits and cakes,Biscuit...   \n",
              "7540     Plant-based foods and beverages,Plant-based fo...   \n",
              "6474                                         Dairies,Milks   \n",
              "\n",
              "                   pnns_groups_1             pnns_groups_2  \\\n",
              "1615062           Fat and sauces      Dressings and sauces   \n",
              "36019                    unknown                   unknown   \n",
              "1200600                  unknown                   unknown   \n",
              "674439   Milk and dairy products                    Cheese   \n",
              "641868              Salty snacks  Salty and fatty products   \n",
              "1676663            Sugary snacks                    Sweets   \n",
              "239854   Milk and dairy products           Milk and yogurt   \n",
              "667665             Sugary snacks        Biscuits and cakes   \n",
              "7540       Fruits and vegetables                    Fruits   \n",
              "6474     Milk and dairy products           Milk and yogurt   \n",
              "\n",
              "              main_category_en  \n",
              "1615062       Bolognese sauces  \n",
              "36019                      NaN  \n",
              "1200600                    NaN  \n",
              "674439   Pasteurized camembert  \n",
              "641868   Foies gras from ducks  \n",
              "1676663                Bonbons  \n",
              "239854         Low-fat yogurts  \n",
              "667665      Shortbread cookies  \n",
              "7540             Canned fruits  \n",
              "6474                     Milks  "
            ]
          },
          "execution_count": 31,
          "metadata": {},
          "output_type": "execute_result"
        }
      ],
      "source": [
        "datas[['categories_en','pnns_groups_1','pnns_groups_2','main_category_en',]].sample(10)"
      ]
    },
    {
      "cell_type": "markdown",
      "metadata": {
        "id": "sDMcIhEi3wTl"
      },
      "source": [
        "Nous allons regarder le **nombre total de catégories représentées** :"
      ]
    },
    {
      "cell_type": "code",
      "execution_count": 32,
      "metadata": {
        "id": "bgznA73I3wTl",
        "trusted": true
      },
      "outputs": [
        {
          "name": "stdout",
          "output_type": "stream",
          "text": [
            "26164 catégories sont représentées dans le jeu de données.\n"
          ]
        }
      ],
      "source": [
        "categories = split_words(df = datas, column = 'categories_en')\n",
        "print(\"{} catégories sont représentées dans le jeu de données.\".format(len(categories)))"
      ]
    },
    {
      "cell_type": "markdown",
      "metadata": {
        "id": "AfYvE5Hp3wTl"
      },
      "source": [
        "Ici également, nous allons regarder les **catégories les plus représentées**, après avoir remplacé les valeurs nulles et complété les valeurs inconnues des pnns avec la catégorie principale :"
      ]
    },
    {
      "cell_type": "code",
      "execution_count": 33,
      "metadata": {
        "id": "4fg-a9hI3wTl",
        "trusted": true
      },
      "outputs": [],
      "source": [
        "# Remplacer les valeurs manquantes ou vides dans la colonne 'categories_en' par \"unknown\"\n",
        "datas['categories_en'] = np.where(\n",
        "    (datas['categories_en'].isnull() == True),  # Si la valeur est manquante (NaN)\n",
        "    \"unknown\",  # Remplacer par \"unknown\"\n",
        "    np.where(  # Sinon, on vérifie si la valeur est une chaîne vide\n",
        "        datas['categories_en'] == \"\",  # Si la valeur est une chaîne vide\n",
        "        \"unknown\",  # Remplacer par \"unknown\"\n",
        "        datas['categories_en']  # Sinon, garder la valeur d'origine\n",
        "    )\n",
        ")\n",
        "\n",
        "# Remplacer les valeurs manquantes ou vides dans la colonne 'main_category_en' par \"unknown\"\n",
        "datas['main_category_en'] = np.where(\n",
        "    (datas['main_category_en'].isnull() == True),  # Si la valeur est manquante (NaN)\n",
        "    \"unknown\",  # Remplacer par \"unknown\"\n",
        "    np.where(  # Sinon, on vérifie si la valeur est une chaîne vide\n",
        "        datas['main_category_en'] == \"\",  # Si la valeur est une chaîne vide\n",
        "        \"unknown\",  # Remplacer par \"unknown\"\n",
        "        datas['main_category_en']  # Sinon, garder la valeur d'origine\n",
        "    )\n",
        ")\n",
        "\n",
        "# Remplacer les valeurs manquantes ou vides dans la colonne 'pnns_groups_1' par \"unknown\"\n",
        "datas['pnns_groups_1'] = np.where(\n",
        "    (datas['pnns_groups_1'].isnull() == True),  # Si la valeur est manquante (NaN)\n",
        "    \"unknown\",  # Remplacer par \"unknown\"\n",
        "    np.where(  # Sinon, on vérifie si la valeur est une chaîne vide\n",
        "        datas['pnns_groups_1'] == \"\",  # Si la valeur est une chaîne vide\n",
        "        \"unknown\",  # Remplacer par \"unknown\"\n",
        "        datas['pnns_groups_1']  # Sinon, garder la valeur d'origine\n",
        "    )\n",
        ")\n",
        "\n",
        "# Remplacer les valeurs manquantes ou vides dans la colonne 'pnns_groups_2' par \"unknown\"\n",
        "datas['pnns_groups_2'] = np.where(\n",
        "    (datas['pnns_groups_2'].isnull() == True),  # Si la valeur est manquante (NaN)\n",
        "    \"unknown\",  # Remplacer par \"unknown\"\n",
        "    np.where(  # Sinon, on vérifie si la valeur est une chaîne vide\n",
        "        datas['pnns_groups_2'] == \"\",  # Si la valeur est une chaîne vide\n",
        "        \"unknown\",  # Remplacer par \"unknown\"\n",
        "        datas['pnns_groups_2']  # Sinon, garder la valeur d'origine\n",
        "    )\n",
        ")"
      ]
    },
    {
      "cell_type": "code",
      "execution_count": 34,
      "metadata": {
        "id": "X9isi__r3wTl",
        "trusted": true
      },
      "outputs": [
        {
          "data": {
            "text/html": [
              "<div>\n",
              "<style scoped>\n",
              "    .dataframe tbody tr th:only-of-type {\n",
              "        vertical-align: middle;\n",
              "    }\n",
              "\n",
              "    .dataframe tbody tr th {\n",
              "        vertical-align: top;\n",
              "    }\n",
              "\n",
              "    .dataframe thead th {\n",
              "        text-align: right;\n",
              "    }\n",
              "</style>\n",
              "<table border=\"1\" class=\"dataframe\">\n",
              "  <thead>\n",
              "    <tr style=\"text-align: right;\">\n",
              "      <th></th>\n",
              "      <th>Keyword</th>\n",
              "      <th>count</th>\n",
              "    </tr>\n",
              "  </thead>\n",
              "  <tbody>\n",
              "    <tr>\n",
              "      <th>0</th>\n",
              "      <td>unknown</td>\n",
              "      <td>236353</td>\n",
              "    </tr>\n",
              "    <tr>\n",
              "      <th>1</th>\n",
              "      <td>Plant-based foods and beverages</td>\n",
              "      <td>142612</td>\n",
              "    </tr>\n",
              "    <tr>\n",
              "      <th>2</th>\n",
              "      <td>Plant-based foods</td>\n",
              "      <td>123967</td>\n",
              "    </tr>\n",
              "    <tr>\n",
              "      <th>3</th>\n",
              "      <td>Snacks</td>\n",
              "      <td>82115</td>\n",
              "    </tr>\n",
              "    <tr>\n",
              "      <th>4</th>\n",
              "      <td>Sweet snacks</td>\n",
              "      <td>58058</td>\n",
              "    </tr>\n",
              "    <tr>\n",
              "      <th>5</th>\n",
              "      <td>Beverages</td>\n",
              "      <td>56429</td>\n",
              "    </tr>\n",
              "    <tr>\n",
              "      <th>6</th>\n",
              "      <td>Cereals and potatoes</td>\n",
              "      <td>45442</td>\n",
              "    </tr>\n",
              "    <tr>\n",
              "      <th>7</th>\n",
              "      <td>Dairies</td>\n",
              "      <td>45188</td>\n",
              "    </tr>\n",
              "    <tr>\n",
              "      <th>8</th>\n",
              "      <td>Fruits and vegetables based foods</td>\n",
              "      <td>38416</td>\n",
              "    </tr>\n",
              "    <tr>\n",
              "      <th>9</th>\n",
              "      <td>Groceries</td>\n",
              "      <td>36315</td>\n",
              "    </tr>\n",
              "  </tbody>\n",
              "</table>\n",
              "</div>"
            ],
            "text/plain": [
              "                             Keyword   count\n",
              "0                            unknown  236353\n",
              "1    Plant-based foods and beverages  142612\n",
              "2                  Plant-based foods  123967\n",
              "3                             Snacks   82115\n",
              "4                       Sweet snacks   58058\n",
              "5                          Beverages   56429\n",
              "6               Cereals and potatoes   45442\n",
              "7                            Dairies   45188\n",
              "8  Fruits and vegetables based foods   38416\n",
              "9                          Groceries   36315"
            ]
          },
          "execution_count": 34,
          "metadata": {},
          "output_type": "execute_result"
        }
      ],
      "source": [
        "df_top_categories = pd.DataFrame(top_words(df=datas, column=\"categories_en\", nb_top=10),\n",
        "                                 columns=[\"Keyword\",\"count\"])\n",
        "df_top_categories"
      ]
    },
    {
      "cell_type": "markdown",
      "metadata": {
        "id": "ivBRq92Z3wTm"
      },
      "source": [
        "Passons à présent aux variables `pnns_groups_1` et `pnns_groups_2` qui nous apporteront des informations plus précises :"
      ]
    },
    {
      "cell_type": "code",
      "execution_count": 35,
      "metadata": {
        "id": "eyatHUEY3wTm",
        "trusted": true
      },
      "outputs": [
        {
          "name": "stdout",
          "output_type": "stream",
          "text": [
            "14 catégories sont représentées dans la variable pnns_group_1.\n",
            "46 catégories sont représentées dans la variable pnns_group_2.\n"
          ]
        }
      ],
      "source": [
        "pnns_groups_1 = split_words(df = datas, column = 'pnns_groups_1')\n",
        "pnns_groups_2 = split_words(df = datas, column = 'pnns_groups_2')\n",
        "print(\"{} catégories sont représentées dans la variable pnns_group_1.\".format(len(pnns_groups_1)))\n",
        "print(\"{} catégories sont représentées dans la variable pnns_group_2.\".format(len(pnns_groups_2)))"
      ]
    },
    {
      "cell_type": "code",
      "execution_count": 36,
      "metadata": {
        "id": "dmmdD20e3wTm",
        "trusted": true
      },
      "outputs": [
        {
          "data": {
            "text/plain": [
              "['Sugary snacks',\n",
              " 'fruits-and-vegetables',\n",
              " 'Composite foods',\n",
              " 'Fat and sauces',\n",
              " 'Salty snacks',\n",
              " 'salty-snacks',\n",
              " 'Fruits and vegetables',\n",
              " 'Cereals and potatoes',\n",
              " 'Milk and dairy products',\n",
              " 'sugary-snacks',\n",
              " 'Fish Meat Eggs',\n",
              " 'cereals-and-potatoes',\n",
              " 'unknown',\n",
              " 'Beverages']"
            ]
          },
          "execution_count": 36,
          "metadata": {},
          "output_type": "execute_result"
        }
      ],
      "source": [
        "pnns_groups_1"
      ]
    },
    {
      "cell_type": "markdown",
      "metadata": {
        "id": "F4xyCmdc3wTm"
      },
      "source": [
        "On voit ici que certaines catégories sont présentes plusieurs fois mais orthographiées différement :\n",
        "- 'Cereals and potatoes' et 'cereals-and-potatoes'\n",
        "- 'fruits-and-vegetables' et 'Fruits and vegetables'\n",
        "- ...\n",
        "\n",
        "Nous allons donc corriger le problème en passant le texte en miniscule et en remplaçant les caractères spéciaux par un espace :"
      ]
    },
    {
      "cell_type": "code",
      "execution_count": 37,
      "metadata": {
        "id": "bgjbr7OF3wTm",
        "trusted": true
      },
      "outputs": [],
      "source": [
        "datas[\"pnns_groups_1\"] = datas[\"pnns_groups_1\"].str.lower().str.replace('-', ' ')"
      ]
    },
    {
      "cell_type": "code",
      "execution_count": 38,
      "metadata": {
        "id": "NMIBKFSM3wTm",
        "trusted": true
      },
      "outputs": [
        {
          "name": "stdout",
          "output_type": "stream",
          "text": [
            "10 catégories sont représentées dans la variable pnns_group_1.\n",
            "['milk and dairy products', 'fish meat eggs', 'beverages', 'fruits and vegetables', 'fat and sauces', 'sugary snacks', 'salty snacks', 'cereals and potatoes', 'composite foods', 'unknown']\n"
          ]
        }
      ],
      "source": [
        "pnns_groups_1 = split_words(df = datas, column = 'pnns_groups_1')\n",
        "print(\"{} catégories sont représentées dans la variable pnns_group_1.\".format(len(pnns_groups_1)))\n",
        "print(pnns_groups_1)"
      ]
    },
    {
      "cell_type": "code",
      "execution_count": 39,
      "metadata": {
        "id": "XBNfTlBc3wTm",
        "trusted": true
      },
      "outputs": [
        {
          "data": {
            "text/plain": [
              "['Cereals',\n",
              " 'Chocolate products',\n",
              " 'Dried fruits',\n",
              " 'Soups',\n",
              " 'Plant-based milk substitutes',\n",
              " 'Ice cream',\n",
              " 'Dairy desserts',\n",
              " 'Processed meat',\n",
              " 'Nuts',\n",
              " 'Meat',\n",
              " 'Potatoes',\n",
              " 'Sweets',\n",
              " 'Fish and seafood',\n",
              " 'nuts',\n",
              " 'Unsweetened beverages',\n",
              " 'pastries',\n",
              " 'Offals',\n",
              " 'Sweetened beverages',\n",
              " 'Milk and yogurt',\n",
              " 'Waters and flavored waters',\n",
              " 'legumes',\n",
              " 'vegetables',\n",
              " 'Alcoholic beverages',\n",
              " 'Pizza pies and quiches',\n",
              " 'Fruits',\n",
              " 'Salty and fatty products',\n",
              " 'Bread',\n",
              " 'Cheese',\n",
              " 'Fats',\n",
              " 'Fruit juices',\n",
              " 'Fruit nectars',\n",
              " 'cereals',\n",
              " 'Appetizers',\n",
              " 'unknown',\n",
              " 'One-dish meals',\n",
              " 'Teas and herbal teas and coffees',\n",
              " 'Biscuits and cakes',\n",
              " 'Artificially sweetened beverages',\n",
              " 'Sandwiches',\n",
              " 'Vegetables',\n",
              " 'fruits',\n",
              " 'Breakfast cereals',\n",
              " 'Dressings and sauces',\n",
              " 'Pizza pies and quiche',\n",
              " 'Eggs',\n",
              " 'Legumes']"
            ]
          },
          "execution_count": 39,
          "metadata": {},
          "output_type": "execute_result"
        }
      ],
      "source": [
        "pnns_groups_2"
      ]
    },
    {
      "cell_type": "code",
      "execution_count": 40,
      "metadata": {
        "id": "p3JrKeY-3wTm",
        "trusted": true
      },
      "outputs": [
        {
          "name": "stdout",
          "output_type": "stream",
          "text": [
            "40 catégories sont représentées dans la variable pnns_group_2.\n"
          ]
        }
      ],
      "source": [
        "# Convertir toutes les valeurs dans la colonne 'pnns_groups_2' en minuscules\n",
        "datas[\"pnns_groups_2\"] = datas[\"pnns_groups_2\"].str.lower()  # Convertit tous les mots en minuscules\n",
        "\n",
        "# Remplacer tous les tirets par des espaces dans la colonne 'pnns_groups_2'\n",
        "datas[\"pnns_groups_2\"] = datas[\"pnns_groups_2\"].str.replace('-', ' ')  # Remplace les tirets par des espaces\n",
        "\n",
        "# Remplacer la chaîne 'pizza pies and quiche' par 'pizza pies and quiches' dans la colonne 'pnns_groups_2'\n",
        "datas[\"pnns_groups_2\"] = datas[\"pnns_groups_2\"].replace('pizza pies and quiche','pizza pies and quiches')  # Correction d'un nom de groupe spécifique\n",
        "\n",
        "# Utilisation de la fonction 'split_words' pour séparer les valeurs dans la colonne 'pnns_groups_2'\n",
        "pnns_groups_2 = split_words(df = datas, column = 'pnns_groups_2')  # Sépare les valeurs de la colonne en mots (supposé être une fonction définie ailleurs)\n",
        "\n",
        "# Affichage du nombre de catégories uniques dans la variable 'pnns_groups_2'\n",
        "print(\"{} catégories sont représentées dans la variable pnns_group_2.\".format(len(pnns_groups_2)))  # Affiche le nombre de catégories uniques\n"
      ]
    },
    {
      "cell_type": "code",
      "execution_count": 41,
      "metadata": {
        "id": "Qmuwdai13wTn",
        "trusted": true
      },
      "outputs": [
        {
          "name": "stdout",
          "output_type": "stream",
          "text": [
            "<class 'pandas.core.frame.DataFrame'>\n",
            "Index: 701335 entries, 943812 to 125945\n",
            "Data columns (total 44 columns):\n",
            " #   Column                                   Non-Null Count   Dtype         \n",
            "---  ------                                   --------------   -----         \n",
            " 0   code                                     701335 non-null  object        \n",
            " 1   states_en                                701335 non-null  object        \n",
            " 2   created_datetime                         701335 non-null  datetime64[ns]\n",
            " 3   last_modified_datetime                   701335 non-null  datetime64[ns]\n",
            " 4   url                                      701335 non-null  object        \n",
            " 5   creator                                  701332 non-null  object        \n",
            " 6   pnns_groups_2                            701335 non-null  object        \n",
            " 7   countries_en                             701335 non-null  object        \n",
            " 8   pnns_groups_1                            701335 non-null  object        \n",
            " 9   product_name                             701335 non-null  object        \n",
            " 10  energy_100g                              701335 non-null  float64       \n",
            " 11  proteins_100g                            701335 non-null  float64       \n",
            " 12  fat_100g                                 701335 non-null  float64       \n",
            " 13  carbohydrates_100g                       701335 non-null  float64       \n",
            " 14  sugars_100g                              701335 non-null  float64       \n",
            " 15  salt_100g                                701335 non-null  float64       \n",
            " 16  sodium_100g                              701335 non-null  float64       \n",
            " 17  saturated-fat_100g                       701335 non-null  float64       \n",
            " 18  energy-kcal_100g                         701335 non-null  float64       \n",
            " 19  image_url                                525257 non-null  object        \n",
            " 20  image_small_url                          525257 non-null  object        \n",
            " 21  brands                                   701335 non-null  object        \n",
            " 22  categories_en                            701335 non-null  object        \n",
            " 23  main_category_en                         701335 non-null  object        \n",
            " 24  image_nutrition_small_url                360582 non-null  object        \n",
            " 25  image_nutrition_url                      360582 non-null  object        \n",
            " 26  additives_n                              407259 non-null  float64       \n",
            " 27  ingredients_that_may_be_from_palm_oil_n  407259 non-null  float64       \n",
            " 28  ingredients_from_palm_oil_n              407259 non-null  float64       \n",
            " 29  ingredients_text                         407257 non-null  object        \n",
            " 30  image_ingredients_small_url              362837 non-null  object        \n",
            " 31  image_ingredients_url                    362837 non-null  object        \n",
            " 32  nutriscore_score                         365517 non-null  float64       \n",
            " 33  nutriscore_grade                         365517 non-null  object        \n",
            " 34  nutrition-score-fr_100g                  701335 non-null  float64       \n",
            " 35  nova_group                               351187 non-null  float64       \n",
            " 36  fiber_100g                               701335 non-null  float64       \n",
            " 37  serving_size                             249441 non-null  object        \n",
            " 38  serving_quantity                         245601 non-null  float64       \n",
            " 39  quantity                                 305270 non-null  object        \n",
            " 40  labels_en                                223767 non-null  object        \n",
            " 41  packaging                                204090 non-null  object        \n",
            " 42  polyunsaturated-fat_100g                 701335 non-null  float64       \n",
            " 43  monounsaturated-fat_100g                 701335 non-null  float64       \n",
            "dtypes: datetime64[ns](2), float64(19), object(23)\n",
            "memory usage: 256.9+ MB\n"
          ]
        }
      ],
      "source": [
        "datas.info()"
      ]
    },
    {
      "cell_type": "markdown",
      "metadata": {
        "id": "SYhTlS7I3wTn"
      },
      "source": [
        "### <font color=\"#ea1c60\" id=\"section_5\">1.5. Compléter les valeurs manquantes ou aberrantes</font>\n",
        "\n",
        "Le jeu de données est nettoyé mais comme le montre les informations ci-dessus, il reste un grand nombre de valeurs manquantes qu'il va falloir compléter mais également des outliers à identifier. Les valeurs outliers sont des valeurs aberrantes. Cela signifie des valeurs beaucoup trop elevées par rapport aux autres valeurs. \n",
        "\n",
        "Regardons dans un premier temps une rapide description du Dataset :"
      ]
    },
    {
      "cell_type": "code",
      "execution_count": 42,
      "metadata": {
        "id": "sAdEmUGo3wTn",
        "trusted": true
      },
      "outputs": [
        {
          "data": {
            "text/html": [
              "<div>\n",
              "<style scoped>\n",
              "    .dataframe tbody tr th:only-of-type {\n",
              "        vertical-align: middle;\n",
              "    }\n",
              "\n",
              "    .dataframe tbody tr th {\n",
              "        vertical-align: top;\n",
              "    }\n",
              "\n",
              "    .dataframe thead th {\n",
              "        text-align: right;\n",
              "    }\n",
              "</style>\n",
              "<table border=\"1\" class=\"dataframe\">\n",
              "  <thead>\n",
              "    <tr style=\"text-align: right;\">\n",
              "      <th></th>\n",
              "      <th>created_datetime</th>\n",
              "      <th>last_modified_datetime</th>\n",
              "      <th>energy_100g</th>\n",
              "      <th>proteins_100g</th>\n",
              "      <th>fat_100g</th>\n",
              "      <th>carbohydrates_100g</th>\n",
              "      <th>sugars_100g</th>\n",
              "      <th>salt_100g</th>\n",
              "      <th>sodium_100g</th>\n",
              "      <th>saturated-fat_100g</th>\n",
              "      <th>...</th>\n",
              "      <th>additives_n</th>\n",
              "      <th>ingredients_that_may_be_from_palm_oil_n</th>\n",
              "      <th>ingredients_from_palm_oil_n</th>\n",
              "      <th>nutriscore_score</th>\n",
              "      <th>nutrition-score-fr_100g</th>\n",
              "      <th>nova_group</th>\n",
              "      <th>fiber_100g</th>\n",
              "      <th>serving_quantity</th>\n",
              "      <th>polyunsaturated-fat_100g</th>\n",
              "      <th>monounsaturated-fat_100g</th>\n",
              "    </tr>\n",
              "  </thead>\n",
              "  <tbody>\n",
              "    <tr>\n",
              "      <th>count</th>\n",
              "      <td>701335</td>\n",
              "      <td>701335</td>\n",
              "      <td>7.013350e+05</td>\n",
              "      <td>701335.000000</td>\n",
              "      <td>701335.000000</td>\n",
              "      <td>701335.000000</td>\n",
              "      <td>701335.000000</td>\n",
              "      <td>701335.000000</td>\n",
              "      <td>701335.000000</td>\n",
              "      <td>7.013350e+05</td>\n",
              "      <td>...</td>\n",
              "      <td>407259.000000</td>\n",
              "      <td>407259.000000</td>\n",
              "      <td>407259.000000</td>\n",
              "      <td>365517.000000</td>\n",
              "      <td>701335.000000</td>\n",
              "      <td>351187.000000</td>\n",
              "      <td>701335.000000</td>\n",
              "      <td>2.456010e+05</td>\n",
              "      <td>701335.000000</td>\n",
              "      <td>701335.000000</td>\n",
              "    </tr>\n",
              "    <tr>\n",
              "      <th>mean</th>\n",
              "      <td>2018-05-06 07:01:08.412607232</td>\n",
              "      <td>2020-03-10 03:24:19.557165824</td>\n",
              "      <td>5.186650e+07</td>\n",
              "      <td>7.003321</td>\n",
              "      <td>12.725175</td>\n",
              "      <td>26.075968</td>\n",
              "      <td>11.793578</td>\n",
              "      <td>2.128636</td>\n",
              "      <td>0.851459</td>\n",
              "      <td>1.837638e+01</td>\n",
              "      <td>...</td>\n",
              "      <td>1.858414</td>\n",
              "      <td>0.076499</td>\n",
              "      <td>0.027118</td>\n",
              "      <td>8.986463</td>\n",
              "      <td>4.683504</td>\n",
              "      <td>3.411570</td>\n",
              "      <td>1.182852</td>\n",
              "      <td>2.823816e+05</td>\n",
              "      <td>0.188565</td>\n",
              "      <td>0.326552</td>\n",
              "    </tr>\n",
              "    <tr>\n",
              "      <th>min</th>\n",
              "      <td>2012-01-31 14:43:58</td>\n",
              "      <td>2012-04-08 08:12:35</td>\n",
              "      <td>0.000000e+00</td>\n",
              "      <td>-500.000000</td>\n",
              "      <td>0.000000</td>\n",
              "      <td>0.000000</td>\n",
              "      <td>-1.000000</td>\n",
              "      <td>0.000000</td>\n",
              "      <td>0.000000</td>\n",
              "      <td>0.000000e+00</td>\n",
              "      <td>...</td>\n",
              "      <td>0.000000</td>\n",
              "      <td>0.000000</td>\n",
              "      <td>0.000000</td>\n",
              "      <td>-15.000000</td>\n",
              "      <td>-15.000000</td>\n",
              "      <td>1.000000</td>\n",
              "      <td>-20.000000</td>\n",
              "      <td>0.000000e+00</td>\n",
              "      <td>0.000000</td>\n",
              "      <td>0.000000</td>\n",
              "    </tr>\n",
              "    <tr>\n",
              "      <th>25%</th>\n",
              "      <td>2017-03-09 17:05:40</td>\n",
              "      <td>2020-01-11 12:24:43</td>\n",
              "      <td>1.840000e+02</td>\n",
              "      <td>0.000000</td>\n",
              "      <td>0.000000</td>\n",
              "      <td>0.700000</td>\n",
              "      <td>0.000000</td>\n",
              "      <td>0.000000</td>\n",
              "      <td>0.000000</td>\n",
              "      <td>0.000000e+00</td>\n",
              "      <td>...</td>\n",
              "      <td>0.000000</td>\n",
              "      <td>0.000000</td>\n",
              "      <td>0.000000</td>\n",
              "      <td>1.000000</td>\n",
              "      <td>0.000000</td>\n",
              "      <td>3.000000</td>\n",
              "      <td>0.000000</td>\n",
              "      <td>2.800000e+01</td>\n",
              "      <td>0.000000</td>\n",
              "      <td>0.000000</td>\n",
              "    </tr>\n",
              "    <tr>\n",
              "      <th>50%</th>\n",
              "      <td>2018-04-08 19:41:56</td>\n",
              "      <td>2020-04-22 23:00:18</td>\n",
              "      <td>8.370000e+02</td>\n",
              "      <td>3.810000</td>\n",
              "      <td>3.220000</td>\n",
              "      <td>11.000000</td>\n",
              "      <td>2.600000</td>\n",
              "      <td>0.200000</td>\n",
              "      <td>0.080000</td>\n",
              "      <td>7.000000e-01</td>\n",
              "      <td>...</td>\n",
              "      <td>1.000000</td>\n",
              "      <td>0.000000</td>\n",
              "      <td>0.000000</td>\n",
              "      <td>9.000000</td>\n",
              "      <td>0.000000</td>\n",
              "      <td>4.000000</td>\n",
              "      <td>0.000000</td>\n",
              "      <td>5.000000e+01</td>\n",
              "      <td>0.000000</td>\n",
              "      <td>0.000000</td>\n",
              "    </tr>\n",
              "    <tr>\n",
              "      <th>75%</th>\n",
              "      <td>2019-08-22 19:13:51</td>\n",
              "      <td>2020-11-18 19:15:17</td>\n",
              "      <td>1.577000e+03</td>\n",
              "      <td>9.620000</td>\n",
              "      <td>17.100000</td>\n",
              "      <td>50.000000</td>\n",
              "      <td>14.000000</td>\n",
              "      <td>1.100000</td>\n",
              "      <td>0.440000</td>\n",
              "      <td>5.000000e+00</td>\n",
              "      <td>...</td>\n",
              "      <td>3.000000</td>\n",
              "      <td>0.000000</td>\n",
              "      <td>0.000000</td>\n",
              "      <td>16.000000</td>\n",
              "      <td>10.000000</td>\n",
              "      <td>4.000000</td>\n",
              "      <td>0.500000</td>\n",
              "      <td>1.130000e+02</td>\n",
              "      <td>0.000000</td>\n",
              "      <td>0.000000</td>\n",
              "    </tr>\n",
              "    <tr>\n",
              "      <th>max</th>\n",
              "      <td>2021-03-28 22:57:26</td>\n",
              "      <td>2021-03-29 00:47:29</td>\n",
              "      <td>3.637509e+13</td>\n",
              "      <td>173000.000000</td>\n",
              "      <td>999999.000000</td>\n",
              "      <td>762939.000000</td>\n",
              "      <td>6880.000000</td>\n",
              "      <td>79007.000000</td>\n",
              "      <td>31602.800000</td>\n",
              "      <td>9.999999e+06</td>\n",
              "      <td>...</td>\n",
              "      <td>32.000000</td>\n",
              "      <td>6.000000</td>\n",
              "      <td>3.000000</td>\n",
              "      <td>40.000000</td>\n",
              "      <td>40.000000</td>\n",
              "      <td>4.000000</td>\n",
              "      <td>2020.000000</td>\n",
              "      <td>6.864646e+10</td>\n",
              "      <td>204.000000</td>\n",
              "      <td>459.000000</td>\n",
              "    </tr>\n",
              "    <tr>\n",
              "      <th>std</th>\n",
              "      <td>NaN</td>\n",
              "      <td>NaN</td>\n",
              "      <td>4.343515e+10</td>\n",
              "      <td>206.826764</td>\n",
              "      <td>1199.151743</td>\n",
              "      <td>922.108433</td>\n",
              "      <td>20.824953</td>\n",
              "      <td>148.515570</td>\n",
              "      <td>59.404563</td>\n",
              "      <td>1.194093e+04</td>\n",
              "      <td>...</td>\n",
              "      <td>2.710467</td>\n",
              "      <td>0.323451</td>\n",
              "      <td>0.164560</td>\n",
              "      <td>8.924055</td>\n",
              "      <td>7.852292</td>\n",
              "      <td>0.968298</td>\n",
              "      <td>4.582297</td>\n",
              "      <td>1.385238e+08</td>\n",
              "      <td>2.161367</td>\n",
              "      <td>3.640594</td>\n",
              "    </tr>\n",
              "  </tbody>\n",
              "</table>\n",
              "<p>8 rows × 21 columns</p>\n",
              "</div>"
            ],
            "text/plain": [
              "                    created_datetime         last_modified_datetime  \\\n",
              "count                         701335                         701335   \n",
              "mean   2018-05-06 07:01:08.412607232  2020-03-10 03:24:19.557165824   \n",
              "min              2012-01-31 14:43:58            2012-04-08 08:12:35   \n",
              "25%              2017-03-09 17:05:40            2020-01-11 12:24:43   \n",
              "50%              2018-04-08 19:41:56            2020-04-22 23:00:18   \n",
              "75%              2019-08-22 19:13:51            2020-11-18 19:15:17   \n",
              "max              2021-03-28 22:57:26            2021-03-29 00:47:29   \n",
              "std                              NaN                            NaN   \n",
              "\n",
              "        energy_100g  proteins_100g       fat_100g  carbohydrates_100g  \\\n",
              "count  7.013350e+05  701335.000000  701335.000000       701335.000000   \n",
              "mean   5.186650e+07       7.003321      12.725175           26.075968   \n",
              "min    0.000000e+00    -500.000000       0.000000            0.000000   \n",
              "25%    1.840000e+02       0.000000       0.000000            0.700000   \n",
              "50%    8.370000e+02       3.810000       3.220000           11.000000   \n",
              "75%    1.577000e+03       9.620000      17.100000           50.000000   \n",
              "max    3.637509e+13  173000.000000  999999.000000       762939.000000   \n",
              "std    4.343515e+10     206.826764    1199.151743          922.108433   \n",
              "\n",
              "         sugars_100g      salt_100g    sodium_100g  saturated-fat_100g  ...  \\\n",
              "count  701335.000000  701335.000000  701335.000000        7.013350e+05  ...   \n",
              "mean       11.793578       2.128636       0.851459        1.837638e+01  ...   \n",
              "min        -1.000000       0.000000       0.000000        0.000000e+00  ...   \n",
              "25%         0.000000       0.000000       0.000000        0.000000e+00  ...   \n",
              "50%         2.600000       0.200000       0.080000        7.000000e-01  ...   \n",
              "75%        14.000000       1.100000       0.440000        5.000000e+00  ...   \n",
              "max      6880.000000   79007.000000   31602.800000        9.999999e+06  ...   \n",
              "std        20.824953     148.515570      59.404563        1.194093e+04  ...   \n",
              "\n",
              "         additives_n  ingredients_that_may_be_from_palm_oil_n  \\\n",
              "count  407259.000000                            407259.000000   \n",
              "mean        1.858414                                 0.076499   \n",
              "min         0.000000                                 0.000000   \n",
              "25%         0.000000                                 0.000000   \n",
              "50%         1.000000                                 0.000000   \n",
              "75%         3.000000                                 0.000000   \n",
              "max        32.000000                                 6.000000   \n",
              "std         2.710467                                 0.323451   \n",
              "\n",
              "       ingredients_from_palm_oil_n  nutriscore_score  nutrition-score-fr_100g  \\\n",
              "count                407259.000000     365517.000000            701335.000000   \n",
              "mean                      0.027118          8.986463                 4.683504   \n",
              "min                       0.000000        -15.000000               -15.000000   \n",
              "25%                       0.000000          1.000000                 0.000000   \n",
              "50%                       0.000000          9.000000                 0.000000   \n",
              "75%                       0.000000         16.000000                10.000000   \n",
              "max                       3.000000         40.000000                40.000000   \n",
              "std                       0.164560          8.924055                 7.852292   \n",
              "\n",
              "          nova_group     fiber_100g  serving_quantity  \\\n",
              "count  351187.000000  701335.000000      2.456010e+05   \n",
              "mean        3.411570       1.182852      2.823816e+05   \n",
              "min         1.000000     -20.000000      0.000000e+00   \n",
              "25%         3.000000       0.000000      2.800000e+01   \n",
              "50%         4.000000       0.000000      5.000000e+01   \n",
              "75%         4.000000       0.500000      1.130000e+02   \n",
              "max         4.000000    2020.000000      6.864646e+10   \n",
              "std         0.968298       4.582297      1.385238e+08   \n",
              "\n",
              "       polyunsaturated-fat_100g  monounsaturated-fat_100g  \n",
              "count             701335.000000             701335.000000  \n",
              "mean                   0.188565                  0.326552  \n",
              "min                    0.000000                  0.000000  \n",
              "25%                    0.000000                  0.000000  \n",
              "50%                    0.000000                  0.000000  \n",
              "75%                    0.000000                  0.000000  \n",
              "max                  204.000000                459.000000  \n",
              "std                    2.161367                  3.640594  \n",
              "\n",
              "[8 rows x 21 columns]"
            ]
          },
          "execution_count": 42,
          "metadata": {},
          "output_type": "execute_result"
        }
      ],
      "source": [
        "datas.describe()"
      ]
    },
    {
      "cell_type": "markdown",
      "metadata": {
        "id": "p9j_m4c_3wTn"
      },
      "source": [
        "On remarque déjà que les valeurs minimum et maximum de **certaines variables** (comme les nutriments ou la valeur energetique) **peuvent contenir des valeurs aberrantes**, ce qui impacte également l'écart-type et donc la variance."
      ]
    },
    {
      "cell_type": "code",
      "execution_count": 43,
      "metadata": {
        "id": "ldNd87AS3wTn",
        "trusted": true
      },
      "outputs": [
        {
          "data": {
            "text/html": [
              "<div>\n",
              "<style scoped>\n",
              "    .dataframe tbody tr th:only-of-type {\n",
              "        vertical-align: middle;\n",
              "    }\n",
              "\n",
              "    .dataframe tbody tr th {\n",
              "        vertical-align: top;\n",
              "    }\n",
              "\n",
              "    .dataframe thead th {\n",
              "        text-align: right;\n",
              "    }\n",
              "</style>\n",
              "<table border=\"1\" class=\"dataframe\">\n",
              "  <thead>\n",
              "    <tr style=\"text-align: right;\">\n",
              "      <th></th>\n",
              "      <th>code</th>\n",
              "      <th>states_en</th>\n",
              "      <th>created_datetime</th>\n",
              "      <th>last_modified_datetime</th>\n",
              "      <th>url</th>\n",
              "      <th>creator</th>\n",
              "      <th>pnns_groups_2</th>\n",
              "      <th>countries_en</th>\n",
              "      <th>pnns_groups_1</th>\n",
              "      <th>product_name</th>\n",
              "      <th>...</th>\n",
              "      <th>nutrition-score-fr_100g</th>\n",
              "      <th>nova_group</th>\n",
              "      <th>fiber_100g</th>\n",
              "      <th>serving_size</th>\n",
              "      <th>serving_quantity</th>\n",
              "      <th>quantity</th>\n",
              "      <th>labels_en</th>\n",
              "      <th>packaging</th>\n",
              "      <th>polyunsaturated-fat_100g</th>\n",
              "      <th>monounsaturated-fat_100g</th>\n",
              "    </tr>\n",
              "  </thead>\n",
              "  <tbody>\n",
              "    <tr>\n",
              "      <th>1627028</th>\n",
              "      <td>8693855001005</td>\n",
              "      <td>To be completed,Nutrition facts completed,Ingr...</td>\n",
              "      <td>2020-03-11 19:45:23</td>\n",
              "      <td>2020-03-11 19:52:19</td>\n",
              "      <td>http://world-en.openfoodfacts.org/product/8693...</td>\n",
              "      <td>halal-app-chakib</td>\n",
              "      <td>unknown</td>\n",
              "      <td>Iraq</td>\n",
              "      <td>unknown</td>\n",
              "      <td>realmadrid real</td>\n",
              "      <td>...</td>\n",
              "      <td>0.0</td>\n",
              "      <td>NaN</td>\n",
              "      <td>0.0</td>\n",
              "      <td>200ml</td>\n",
              "      <td>200.0</td>\n",
              "      <td>madrid</td>\n",
              "      <td>Real-madrid</td>\n",
              "      <td>real</td>\n",
              "      <td>0.0</td>\n",
              "      <td>0.0</td>\n",
              "    </tr>\n",
              "  </tbody>\n",
              "</table>\n",
              "<p>1 rows × 44 columns</p>\n",
              "</div>"
            ],
            "text/plain": [
              "                  code                                          states_en  \\\n",
              "1627028  8693855001005  To be completed,Nutrition facts completed,Ingr...   \n",
              "\n",
              "           created_datetime last_modified_datetime  \\\n",
              "1627028 2020-03-11 19:45:23    2020-03-11 19:52:19   \n",
              "\n",
              "                                                       url           creator  \\\n",
              "1627028  http://world-en.openfoodfacts.org/product/8693...  halal-app-chakib   \n",
              "\n",
              "        pnns_groups_2 countries_en pnns_groups_1     product_name  ...  \\\n",
              "1627028       unknown         Iraq       unknown  realmadrid real  ...   \n",
              "\n",
              "         nutrition-score-fr_100g  nova_group  fiber_100g  serving_size  \\\n",
              "1627028                      0.0         NaN         0.0         200ml   \n",
              "\n",
              "         serving_quantity  quantity    labels_en  packaging  \\\n",
              "1627028             200.0    madrid  Real-madrid       real   \n",
              "\n",
              "         polyunsaturated-fat_100g monounsaturated-fat_100g  \n",
              "1627028                       0.0                      0.0  \n",
              "\n",
              "[1 rows x 44 columns]"
            ]
          },
          "execution_count": 43,
          "metadata": {},
          "output_type": "execute_result"
        }
      ],
      "source": [
        "datas[datas['energy_100g'] == datas['energy_100g'].max()]"
      ]
    },
    {
      "cell_type": "markdown",
      "metadata": {
        "id": "Vza3-PU93wTn"
      },
      "source": [
        "Ici, ce produit qui possède la plus grande valeur energétique n'est quasi pas complété. Il manque le nom du produit, les catégories et toutes les valeurs nutritionnelles. Nous allons **supprimer tous les produits qui n'ont ni nom, ni catégorie** et qui ne pourront donc être clairement identifiés."
      ]
    },
    {
      "cell_type": "code",
      "execution_count": 44,
      "metadata": {
        "id": "At3UXQlo3wTn",
        "trusted": true
      },
      "outputs": [],
      "source": [
        "datas_cleaned = datas[~((datas.product_name.isnull())\n",
        "                        & ((datas.pnns_groups_1 == \"unknown\")\n",
        "                           | (datas.main_category_en == \"unknown\")))]"
      ]
    },
    {
      "cell_type": "code",
      "execution_count": 45,
      "metadata": {
        "id": "ah4bgy5C3wTn",
        "trusted": true
      },
      "outputs": [
        {
          "data": {
            "text/plain": [
              "236353"
            ]
          },
          "execution_count": 45,
          "metadata": {},
          "output_type": "execute_result"
        }
      ],
      "source": [
        "datas_cleaned[((datas_cleaned.pnns_groups_1 == \"unknown\") & (datas_cleaned.main_category_en == \"unknown\") &\n",
        "              (datas_cleaned.pnns_groups_2 == \"unknown\") & (datas_cleaned.categories_en == \"unknown\"))].shape[0]"
      ]
    },
    {
      "cell_type": "markdown",
      "metadata": {
        "id": "xijOXGIf3wTn"
      },
      "source": [
        "Il reste tout de même **236353 produits qui ne contiennent aucune indication de catégorie**.\n",
        "\n",
        "Afin de pouvoir calculer des indicateurs corrects, nous allons remplacer par des valeurs nulles tous les max et min aberrants *(0, -1 ou 999999...)* :"
      ]
    },
    {
      "cell_type": "code",
      "execution_count": 46,
      "metadata": {
        "id": "zw04Ze633wTn",
        "trusted": true
      },
      "outputs": [],
      "source": [
        "#On repère les numerical_features\n",
        "numerical_features = list(datas_cleaned.select_dtypes(include=[\"float64\",\"int64\"]).columns)\n",
        "#On supprime les nutriscores qui eux peuvent être négatifs\n",
        "numerical_features.remove('nutriscore_score')\n",
        "numerical_features.remove('nutrition-score-fr_100g')\n",
        "numerical_features.remove('ingredients_that_may_be_from_palm_oil_n')\n",
        "numerical_features.remove('ingredients_from_palm_oil_n')\n",
        "numerical_features.remove('nova_group')"
      ]
    },
    {
      "cell_type": "code",
      "execution_count": 47,
      "metadata": {
        "id": "2LzshC7E3wTo",
        "trusted": true
      },
      "outputs": [],
      "source": [
        "#On supprime les lignes dont toutes les numerical_features sont à 0 ou nulles\n",
        "datas_cleaned = datas_cleaned.loc[~((datas_cleaned[numerical_features]==0) | (datas_cleaned[numerical_features].isnull())).all(axis=1)]"
      ]
    },
    {
      "cell_type": "code",
      "execution_count": 48,
      "metadata": {
        "id": "dYVNFm1V3wTo",
        "trusted": true
      },
      "outputs": [
        {
          "name": "stdout",
          "output_type": "stream",
          "text": [
            "code\n",
            "states_en\n",
            "created_datetime\n",
            "last_modified_datetime\n",
            "url\n",
            "creator\n",
            "pnns_groups_2\n",
            "countries_en\n",
            "pnns_groups_1\n",
            "product_name\n",
            "energy_100g\n",
            "proteins_100g\n",
            "fat_100g\n",
            "carbohydrates_100g\n",
            "sugars_100g\n",
            "salt_100g\n",
            "sodium_100g\n",
            "saturated-fat_100g\n",
            "energy-kcal_100g\n",
            "image_url\n",
            "image_small_url\n",
            "brands\n",
            "categories_en\n",
            "main_category_en\n",
            "image_nutrition_small_url\n",
            "image_nutrition_url\n",
            "additives_n\n",
            "ingredients_that_may_be_from_palm_oil_n\n",
            "ingredients_from_palm_oil_n\n",
            "ingredients_text\n",
            "image_ingredients_small_url\n",
            "image_ingredients_url\n",
            "nutriscore_score\n",
            "nutriscore_grade\n",
            "nutrition-score-fr_100g\n",
            "nova_group\n",
            "fiber_100g\n",
            "serving_size\n",
            "serving_quantity\n",
            "quantity\n",
            "labels_en\n",
            "packaging\n",
            "polyunsaturated-fat_100g\n",
            "monounsaturated-fat_100g\n"
          ]
        }
      ],
      "source": [
        "#On supprime les lignes contenant des valeurs négatives et des max aberrants\n",
        "datas_cleaned = datas_cleaned[~(datas_cleaned[numerical_features] < 0).any(axis=1)]\n",
        "datas_cleaned = datas_cleaned[~(datas_cleaned[numerical_features].isin([999999,9999999])).any(axis=1)]\n",
        "for col in datas_cleaned.columns:\n",
        "    print(col)"
      ]
    },
    {
      "cell_type": "markdown",
      "metadata": {
        "id": "YkxpFNGp3wTo"
      },
      "source": [
        "Les variables suffixées avec `_100g` nous indiquent la quantité de nutriments pour 100 grammes de produit. Les valeurs renseignées ne peuvent donc logiquement pas excéder 100. Nous allons donc **supprimer les lignes dont au moins 1 des variables de nutriments est supérieur au seuil**. Ici, nous fixons le seuil à 100 :"
      ]
    },
    {
      "cell_type": "code",
      "execution_count": 49,
      "metadata": {
        "id": "T4az_hpK3wTo",
        "trusted": true
      },
      "outputs": [],
      "source": [
        "g_per_100g_features = ['proteins_100g','fat_100g','carbohydrates_100g','sugars_100g','salt_100g',\n",
        "                       'sodium_100g','saturated-fat_100g']\n",
        "datas_cleaned = datas_cleaned[~(datas_cleaned[g_per_100g_features] > 100).any(axis=1)]"
      ]
    },
    {
      "cell_type": "markdown",
      "metadata": {
        "id": "gaY2Gax33wTo"
      },
      "source": [
        "D'autre part, les valeurs de `saturated-fat_100g` ne peuvent pas être supérieurs à `fat_100g`, de même pour les valeurs de `sodium_100g` qui ne peuvent pas être supérieurs à `salt_100g`.     \n",
        "Nous allons donc supprimer les lignes qui remplissent ces conditions :"
      ]
    },
    {
      "cell_type": "code",
      "execution_count": 50,
      "metadata": {
        "id": "rZEptE7c3wTo",
        "trusted": true
      },
      "outputs": [],
      "source": [
        "datas_cleaned = datas_cleaned[~((datas_cleaned['saturated-fat_100g'] > datas_cleaned['fat_100g'])\n",
        "                                | (datas_cleaned['sodium_100g'] > datas_cleaned['salt_100g']))]"
      ]
    },
    {
      "cell_type": "markdown",
      "metadata": {
        "id": "dbiM9hTs3wTo"
      },
      "source": [
        "Enfin, les densité d'energie maximales pour 100g sont de 3700 kJ/100g *(source [Wikipedia](https://en.wikipedia.org/wiki/Food_energy))*. Nous allons donc supprimer toutes les lignes dont la variable `energy_100g` est supérieur à 3700 *(ou 900 kcal/100g)*."
      ]
    },
    {
      "cell_type": "code",
      "execution_count": 51,
      "metadata": {
        "id": "93bvZR9_3wTo",
        "trusted": true
      },
      "outputs": [],
      "source": [
        "datas_cleaned = datas_cleaned[~((datas_cleaned['energy_100g'] > 3700)\n",
        "                                | (datas_cleaned['energy-kcal_100g'] > 900))]"
      ]
    },
    {
      "cell_type": "code",
      "execution_count": 52,
      "metadata": {
        "id": "hb44XI6k3wTp",
        "trusted": true
      },
      "outputs": [
        {
          "data": {
            "text/plain": [
              "(601468, 44)"
            ]
          },
          "execution_count": 52,
          "metadata": {},
          "output_type": "execute_result"
        }
      ],
      "source": [
        "datas_cleaned.shape"
      ]
    },
    {
      "cell_type": "code",
      "execution_count": 53,
      "metadata": {
        "id": "EUSfffuP3wTp",
        "trusted": true
      },
      "outputs": [
        {
          "data": {
            "text/html": [
              "<div>\n",
              "<style scoped>\n",
              "    .dataframe tbody tr th:only-of-type {\n",
              "        vertical-align: middle;\n",
              "    }\n",
              "\n",
              "    .dataframe tbody tr th {\n",
              "        vertical-align: top;\n",
              "    }\n",
              "\n",
              "    .dataframe thead th {\n",
              "        text-align: right;\n",
              "    }\n",
              "</style>\n",
              "<table border=\"1\" class=\"dataframe\">\n",
              "  <thead>\n",
              "    <tr style=\"text-align: right;\">\n",
              "      <th></th>\n",
              "      <th>created_datetime</th>\n",
              "      <th>last_modified_datetime</th>\n",
              "      <th>energy_100g</th>\n",
              "      <th>proteins_100g</th>\n",
              "      <th>fat_100g</th>\n",
              "      <th>carbohydrates_100g</th>\n",
              "      <th>sugars_100g</th>\n",
              "      <th>salt_100g</th>\n",
              "      <th>sodium_100g</th>\n",
              "      <th>saturated-fat_100g</th>\n",
              "      <th>...</th>\n",
              "      <th>additives_n</th>\n",
              "      <th>ingredients_that_may_be_from_palm_oil_n</th>\n",
              "      <th>ingredients_from_palm_oil_n</th>\n",
              "      <th>nutriscore_score</th>\n",
              "      <th>nutrition-score-fr_100g</th>\n",
              "      <th>nova_group</th>\n",
              "      <th>fiber_100g</th>\n",
              "      <th>serving_quantity</th>\n",
              "      <th>polyunsaturated-fat_100g</th>\n",
              "      <th>monounsaturated-fat_100g</th>\n",
              "    </tr>\n",
              "  </thead>\n",
              "  <tbody>\n",
              "    <tr>\n",
              "      <th>count</th>\n",
              "      <td>601468</td>\n",
              "      <td>601468</td>\n",
              "      <td>601468.000000</td>\n",
              "      <td>601468.000000</td>\n",
              "      <td>601468.000000</td>\n",
              "      <td>601468.000000</td>\n",
              "      <td>601468.000000</td>\n",
              "      <td>601468.000000</td>\n",
              "      <td>601468.000000</td>\n",
              "      <td>601468.000000</td>\n",
              "      <td>...</td>\n",
              "      <td>384163.000000</td>\n",
              "      <td>384163.000000</td>\n",
              "      <td>384163.000000</td>\n",
              "      <td>361014.000000</td>\n",
              "      <td>601468.000000</td>\n",
              "      <td>336032.000000</td>\n",
              "      <td>601468.000000</td>\n",
              "      <td>2.416940e+05</td>\n",
              "      <td>601468.000000</td>\n",
              "      <td>601468.000000</td>\n",
              "    </tr>\n",
              "    <tr>\n",
              "      <th>mean</th>\n",
              "      <td>2018-03-29 18:40:15.374821120</td>\n",
              "      <td>2020-03-18 19:10:16.536022272</td>\n",
              "      <td>1091.505515</td>\n",
              "      <td>7.781334</td>\n",
              "      <td>12.526635</td>\n",
              "      <td>28.735485</td>\n",
              "      <td>13.618741</td>\n",
              "      <td>1.279896</td>\n",
              "      <td>0.511947</td>\n",
              "      <td>4.594358</td>\n",
              "      <td>...</td>\n",
              "      <td>1.963279</td>\n",
              "      <td>0.080539</td>\n",
              "      <td>0.028545</td>\n",
              "      <td>9.001050</td>\n",
              "      <td>5.402623</td>\n",
              "      <td>3.463390</td>\n",
              "      <td>1.358451</td>\n",
              "      <td>2.869431e+05</td>\n",
              "      <td>0.206519</td>\n",
              "      <td>0.356155</td>\n",
              "    </tr>\n",
              "    <tr>\n",
              "      <th>min</th>\n",
              "      <td>2012-01-31 14:43:58</td>\n",
              "      <td>2012-04-08 08:12:35</td>\n",
              "      <td>0.000000</td>\n",
              "      <td>0.000000</td>\n",
              "      <td>0.000000</td>\n",
              "      <td>0.000000</td>\n",
              "      <td>0.000000</td>\n",
              "      <td>0.000000</td>\n",
              "      <td>0.000000</td>\n",
              "      <td>0.000000</td>\n",
              "      <td>...</td>\n",
              "      <td>0.000000</td>\n",
              "      <td>0.000000</td>\n",
              "      <td>0.000000</td>\n",
              "      <td>-15.000000</td>\n",
              "      <td>-15.000000</td>\n",
              "      <td>1.000000</td>\n",
              "      <td>0.000000</td>\n",
              "      <td>0.000000e+00</td>\n",
              "      <td>0.000000</td>\n",
              "      <td>0.000000</td>\n",
              "    </tr>\n",
              "    <tr>\n",
              "      <th>25%</th>\n",
              "      <td>2017-03-09 16:19:18</td>\n",
              "      <td>2020-01-26 11:04:40</td>\n",
              "      <td>381.000000</td>\n",
              "      <td>1.000000</td>\n",
              "      <td>0.500000</td>\n",
              "      <td>3.900000</td>\n",
              "      <td>0.620000</td>\n",
              "      <td>0.030000</td>\n",
              "      <td>0.012000</td>\n",
              "      <td>0.000000</td>\n",
              "      <td>...</td>\n",
              "      <td>0.000000</td>\n",
              "      <td>0.000000</td>\n",
              "      <td>0.000000</td>\n",
              "      <td>1.000000</td>\n",
              "      <td>0.000000</td>\n",
              "      <td>3.000000</td>\n",
              "      <td>0.000000</td>\n",
              "      <td>2.800000e+01</td>\n",
              "      <td>0.000000</td>\n",
              "      <td>0.000000</td>\n",
              "    </tr>\n",
              "    <tr>\n",
              "      <th>50%</th>\n",
              "      <td>2018-02-15 20:00:18.500000</td>\n",
              "      <td>2020-04-22 23:14:49</td>\n",
              "      <td>1046.000000</td>\n",
              "      <td>5.380000</td>\n",
              "      <td>5.700000</td>\n",
              "      <td>15.800000</td>\n",
              "      <td>3.700000</td>\n",
              "      <td>0.435000</td>\n",
              "      <td>0.174000</td>\n",
              "      <td>1.400000</td>\n",
              "      <td>...</td>\n",
              "      <td>1.000000</td>\n",
              "      <td>0.000000</td>\n",
              "      <td>0.000000</td>\n",
              "      <td>10.000000</td>\n",
              "      <td>0.000000</td>\n",
              "      <td>4.000000</td>\n",
              "      <td>0.000000</td>\n",
              "      <td>5.000000e+01</td>\n",
              "      <td>0.000000</td>\n",
              "      <td>0.000000</td>\n",
              "    </tr>\n",
              "    <tr>\n",
              "      <th>75%</th>\n",
              "      <td>2019-07-09 10:16:35.249999872</td>\n",
              "      <td>2020-11-17 11:49:35.500000</td>\n",
              "      <td>1644.000000</td>\n",
              "      <td>11.000000</td>\n",
              "      <td>20.000000</td>\n",
              "      <td>54.000000</td>\n",
              "      <td>19.000000</td>\n",
              "      <td>1.250000</td>\n",
              "      <td>0.500000</td>\n",
              "      <td>6.200000</td>\n",
              "      <td>...</td>\n",
              "      <td>3.000000</td>\n",
              "      <td>0.000000</td>\n",
              "      <td>0.000000</td>\n",
              "      <td>16.000000</td>\n",
              "      <td>12.000000</td>\n",
              "      <td>4.000000</td>\n",
              "      <td>1.200000</td>\n",
              "      <td>1.130000e+02</td>\n",
              "      <td>0.000000</td>\n",
              "      <td>0.000000</td>\n",
              "    </tr>\n",
              "    <tr>\n",
              "      <th>max</th>\n",
              "      <td>2021-03-28 21:25:08</td>\n",
              "      <td>2021-03-29 00:47:29</td>\n",
              "      <td>3700.000000</td>\n",
              "      <td>100.000000</td>\n",
              "      <td>100.000000</td>\n",
              "      <td>100.000000</td>\n",
              "      <td>100.000000</td>\n",
              "      <td>100.000000</td>\n",
              "      <td>40.000000</td>\n",
              "      <td>100.000000</td>\n",
              "      <td>...</td>\n",
              "      <td>32.000000</td>\n",
              "      <td>6.000000</td>\n",
              "      <td>3.000000</td>\n",
              "      <td>40.000000</td>\n",
              "      <td>40.000000</td>\n",
              "      <td>4.000000</td>\n",
              "      <td>2020.000000</td>\n",
              "      <td>6.864646e+10</td>\n",
              "      <td>98.000000</td>\n",
              "      <td>100.000000</td>\n",
              "    </tr>\n",
              "    <tr>\n",
              "      <th>std</th>\n",
              "      <td>NaN</td>\n",
              "      <td>NaN</td>\n",
              "      <td>779.923254</td>\n",
              "      <td>9.085639</td>\n",
              "      <td>16.346056</td>\n",
              "      <td>28.257281</td>\n",
              "      <td>19.838041</td>\n",
              "      <td>4.993467</td>\n",
              "      <td>1.997378</td>\n",
              "      <td>7.331067</td>\n",
              "      <td>...</td>\n",
              "      <td>2.749324</td>\n",
              "      <td>0.331577</td>\n",
              "      <td>0.168714</td>\n",
              "      <td>8.931174</td>\n",
              "      <td>8.204761</td>\n",
              "      <td>0.925333</td>\n",
              "      <td>4.647789</td>\n",
              "      <td>1.396389e+08</td>\n",
              "      <td>2.180194</td>\n",
              "      <td>3.619101</td>\n",
              "    </tr>\n",
              "  </tbody>\n",
              "</table>\n",
              "<p>8 rows × 21 columns</p>\n",
              "</div>"
            ],
            "text/plain": [
              "                    created_datetime         last_modified_datetime  \\\n",
              "count                         601468                         601468   \n",
              "mean   2018-03-29 18:40:15.374821120  2020-03-18 19:10:16.536022272   \n",
              "min              2012-01-31 14:43:58            2012-04-08 08:12:35   \n",
              "25%              2017-03-09 16:19:18            2020-01-26 11:04:40   \n",
              "50%       2018-02-15 20:00:18.500000            2020-04-22 23:14:49   \n",
              "75%    2019-07-09 10:16:35.249999872     2020-11-17 11:49:35.500000   \n",
              "max              2021-03-28 21:25:08            2021-03-29 00:47:29   \n",
              "std                              NaN                            NaN   \n",
              "\n",
              "         energy_100g  proteins_100g       fat_100g  carbohydrates_100g  \\\n",
              "count  601468.000000  601468.000000  601468.000000       601468.000000   \n",
              "mean     1091.505515       7.781334      12.526635           28.735485   \n",
              "min         0.000000       0.000000       0.000000            0.000000   \n",
              "25%       381.000000       1.000000       0.500000            3.900000   \n",
              "50%      1046.000000       5.380000       5.700000           15.800000   \n",
              "75%      1644.000000      11.000000      20.000000           54.000000   \n",
              "max      3700.000000     100.000000     100.000000          100.000000   \n",
              "std       779.923254       9.085639      16.346056           28.257281   \n",
              "\n",
              "         sugars_100g      salt_100g    sodium_100g  saturated-fat_100g  ...  \\\n",
              "count  601468.000000  601468.000000  601468.000000       601468.000000  ...   \n",
              "mean       13.618741       1.279896       0.511947            4.594358  ...   \n",
              "min         0.000000       0.000000       0.000000            0.000000  ...   \n",
              "25%         0.620000       0.030000       0.012000            0.000000  ...   \n",
              "50%         3.700000       0.435000       0.174000            1.400000  ...   \n",
              "75%        19.000000       1.250000       0.500000            6.200000  ...   \n",
              "max       100.000000     100.000000      40.000000          100.000000  ...   \n",
              "std        19.838041       4.993467       1.997378            7.331067  ...   \n",
              "\n",
              "         additives_n  ingredients_that_may_be_from_palm_oil_n  \\\n",
              "count  384163.000000                            384163.000000   \n",
              "mean        1.963279                                 0.080539   \n",
              "min         0.000000                                 0.000000   \n",
              "25%         0.000000                                 0.000000   \n",
              "50%         1.000000                                 0.000000   \n",
              "75%         3.000000                                 0.000000   \n",
              "max        32.000000                                 6.000000   \n",
              "std         2.749324                                 0.331577   \n",
              "\n",
              "       ingredients_from_palm_oil_n  nutriscore_score  nutrition-score-fr_100g  \\\n",
              "count                384163.000000     361014.000000            601468.000000   \n",
              "mean                      0.028545          9.001050                 5.402623   \n",
              "min                       0.000000        -15.000000               -15.000000   \n",
              "25%                       0.000000          1.000000                 0.000000   \n",
              "50%                       0.000000         10.000000                 0.000000   \n",
              "75%                       0.000000         16.000000                12.000000   \n",
              "max                       3.000000         40.000000                40.000000   \n",
              "std                       0.168714          8.931174                 8.204761   \n",
              "\n",
              "          nova_group     fiber_100g  serving_quantity  \\\n",
              "count  336032.000000  601468.000000      2.416940e+05   \n",
              "mean        3.463390       1.358451      2.869431e+05   \n",
              "min         1.000000       0.000000      0.000000e+00   \n",
              "25%         3.000000       0.000000      2.800000e+01   \n",
              "50%         4.000000       0.000000      5.000000e+01   \n",
              "75%         4.000000       1.200000      1.130000e+02   \n",
              "max         4.000000    2020.000000      6.864646e+10   \n",
              "std         0.925333       4.647789      1.396389e+08   \n",
              "\n",
              "       polyunsaturated-fat_100g  monounsaturated-fat_100g  \n",
              "count             601468.000000             601468.000000  \n",
              "mean                   0.206519                  0.356155  \n",
              "min                    0.000000                  0.000000  \n",
              "25%                    0.000000                  0.000000  \n",
              "50%                    0.000000                  0.000000  \n",
              "75%                    0.000000                  0.000000  \n",
              "max                   98.000000                100.000000  \n",
              "std                    2.180194                  3.619101  \n",
              "\n",
              "[8 rows x 21 columns]"
            ]
          },
          "execution_count": 53,
          "metadata": {},
          "output_type": "execute_result"
        }
      ],
      "source": [
        "datas_cleaned.describe()"
      ]
    },
    {
      "cell_type": "code",
      "execution_count": 54,
      "metadata": {
        "id": "aYhxqO_K3wTr",
        "trusted": true
      },
      "outputs": [
        {
          "data": {
            "text/plain": [
              "packaging                                  430634\n",
              "labels_en                                  403679\n",
              "serving_quantity                           359774\n",
              "serving_size                               356403\n",
              "quantity                                   349131\n",
              "image_ingredients_url                      274607\n",
              "image_ingredients_small_url                274607\n",
              "nova_group                                 265436\n",
              "image_nutrition_url                        262601\n",
              "image_nutrition_small_url                  262601\n",
              "nutriscore_score                           240454\n",
              "nutriscore_grade                           240454\n",
              "ingredients_text                           217306\n",
              "ingredients_from_palm_oil_n                217305\n",
              "additives_n                                217305\n",
              "ingredients_that_may_be_from_palm_oil_n    217305\n",
              "image_small_url                            156958\n",
              "image_url                                  156958\n",
              "creator                                         2\n",
              "product_name                                    0\n",
              "states_en                                       0\n",
              "created_datetime                                0\n",
              "code                                            0\n",
              "pnns_groups_1                                   0\n",
              "countries_en                                    0\n",
              "pnns_groups_2                                   0\n",
              "url                                             0\n",
              "last_modified_datetime                          0\n",
              "proteins_100g                                   0\n",
              "energy_100g                                     0\n",
              "categories_en                                   0\n",
              "brands                                          0\n",
              "salt_100g                                       0\n",
              "sodium_100g                                     0\n",
              "saturated-fat_100g                              0\n",
              "energy-kcal_100g                                0\n",
              "fat_100g                                        0\n",
              "sugars_100g                                     0\n",
              "main_category_en                                0\n",
              "carbohydrates_100g                              0\n",
              "nutrition-score-fr_100g                         0\n",
              "fiber_100g                                      0\n",
              "polyunsaturated-fat_100g                        0\n",
              "monounsaturated-fat_100g                        0\n",
              "dtype: int64"
            ]
          },
          "execution_count": 54,
          "metadata": {},
          "output_type": "execute_result"
        }
      ],
      "source": [
        "datas_cleaned.isnull().sum().sort_values(ascending=False)"
      ]
    },
    {
      "cell_type": "markdown",
      "metadata": {},
      "source": [
        "#### Dorénavant, nous allons appliquer un dernier nettoyage permettant de retirer les colonnes inutiles dans les phases de traitement et d'agrégation des données, lors du chargement du dataset dans l'ETL PySpark."
      ]
    },
    {
      "cell_type": "markdown",
      "metadata": {},
      "source": [
        "### <font color=\"#ea1c60\" id=\"section_5\">2.5. Gestion du cas des labels</font>"
      ]
    },
    {
      "cell_type": "markdown",
      "metadata": {},
      "source": [
        "### Les valeurs présentes dans le champ \"Label\" ne peuvent pas être utilisées en l'état actuel. Nous allons ainsi procéder au nettoyage de celles-ci à partir de régime nutritionnel spécifique. Par exemple, le régime Keto consiste à minimiser la consommation de glucide et à préfer la consommation d'élèments riches en matières grasses (fat). Si un aliment répond à ces critères, alors il sera classé avec le label \"Keto\". Nous réalisons cette opération pour l'ensemble des régimes demandés : Keto, Paleo, Mediterannean et Dash."
      ]
    },
    {
      "cell_type": "code",
      "execution_count": 73,
      "metadata": {},
      "outputs": [
        {
          "name": "stdout",
          "output_type": "stream",
          "text": [
            "         fat_100g  carbohydrates_100g  sodium_100g  \\\n",
            "943812       10.9                73.5      0.68000   \n",
            "621796       15.5                68.0      0.70104   \n",
            "616580        2.0                78.0      0.03600   \n",
            "649775       25.0                56.0      0.15240   \n",
            "1390537       0.0                 0.0      0.03120   \n",
            "\n",
            "                                          ingredients_text    labels  \n",
            "943812   _Lait_ reconstitué en poudre 26% de MG, sirop ...  No label  \n",
            "621796   Farine de blé, huile de tournesol, eau, sel, s...  No label  \n",
            "616580   Sirop de glucose-fructose, purée de fraises 27...  No label  \n",
            "649775   pépites de chocolat* 30 % (pâte de cacao*, suc...  No label  \n",
            "1390537                                                Eau      DASH  \n"
          ]
        }
      ],
      "source": [
        "import pandas as pd\n",
        "import re  # Importer le module des expressions régulières\n",
        "\n",
        "# Fonction pour attribuer les labels en fonction des critères des régimes\n",
        "def assign_labels(row):\n",
        "    labels = []\n",
        "    \n",
        "    # Récupérer les valeurs nécessaires pour chaque ligne, en remplaçant les valeurs manquantes par zéro\n",
        "    fat = row['fat_100g'] if pd.notna(row['fat_100g']) else 0\n",
        "    carbohydrates = row['carbohydrates_100g'] if pd.notna(row['carbohydrates_100g']) else 0\n",
        "    sodium = row['sodium_100g'] if pd.notna(row.get('sodium_100g', None)) else 0\n",
        "    polyunsaturated_fat = row['polyunsaturated-fat_100g'] if pd.notna(row['polyunsaturated-fat_100g']) else 0\n",
        "    saturated_fat = row['saturated-fat_100g'] if pd.notna(row['saturated-fat_100g']) else 0\n",
        "    proteins = row['proteins_100g'] if pd.notna(row['proteins_100g']) else 0\n",
        "    ingredients_text = row['ingredients_text'].lower() if pd.notna(row['ingredients_text']) else \"\"\n",
        "    # labels_tags = row['labels_tags'].lower() if pd.notna(row['labels_tags']) else \"\"\n",
        "    labels_en = row['labels_en'].lower() if pd.notna(row['labels_en']) else \"\"\n",
        "    \n",
        "    # Fonction pour vérifier si un ingrédient interdit est présent dans le texte des ingrédients\n",
        "    def contains_restricted_ingredient(ingredient_list):\n",
        "        # Liste des ingrédients à rechercher\n",
        "        restricted_ingredients = [\"lait\", \"gluten\", \"sirop de glucose\", \"sucre\", \"arôme\", \"colorant\", \"conservateur\", \"huile de palme\", \"maltodextrine\"]\n",
        "        \n",
        "        # Vérifier si un des ingrédients est présent dans le texte\n",
        "        for ingredient in restricted_ingredients:\n",
        "            # Utilisation de regex pour trouver un mot entier dans le texte\n",
        "            if re.search(r'\\b' + re.escape(ingredient) + r'\\b', ingredient_list):  \n",
        "                return True\n",
        "        return False\n",
        "    \n",
        "    # Vérifier si un produit contient des ingrédients interdits pour un régime particulier\n",
        "    if contains_restricted_ingredient(ingredients_text):\n",
        "        return 'No label'\n",
        "    \n",
        "    # Critères pour le régime Keto : plus stricts sur les glucides (moins de 8 g)\n",
        "    if fat > 10 and carbohydrates < 8:\n",
        "        labels.append('Keto')\n",
        "    \n",
        "    # Critères pour le régime DASH : Sodium < 400mg (0.4g) par 100g\n",
        "    if fat < 10 and sodium < 0.4:  # sodium < 0.4g (400mg)\n",
        "        labels.append('DASH')\n",
        "    \n",
        "    # Critères pour le régime Mediterranean\n",
        "    if fat > 10 and carbohydrates > 40 and re.search(r'\\bhuile\\b', ingredients_text):\n",
        "        labels.append('Mediterranean')\n",
        "    \n",
        "    # Critères pour le régime Paleo : moins stricts sur les glucides (jusqu'à 20 g)\n",
        "    if fat > 10 and 8 <= carbohydrates <= 20 and \"lait\" not in ingredients_text and \"gluten\" not in ingredients_text:\n",
        "        labels.append('Paleo')\n",
        "    \n",
        "    # Critères pour le régime Vegan : Vérifier la présence du mot Vegan dans labels_en\n",
        "    if re.search(r'\\bvegan\\b', labels_en):\n",
        "        labels.append('Vegan')\n",
        "    \n",
        "    # Si aucun label n'est attribué, renvoyer 'No label'\n",
        "    return ', '.join(labels) if labels else 'No label'\n",
        "\n",
        "# Appliquer la fonction à chaque ligne du DataFrame\n",
        "datas_cleaned['labels'] = datas_cleaned.apply(assign_labels, axis=1)\n",
        "\n",
        "# Afficher les premières lignes pour vérifier\n",
        "print(datas_cleaned[['fat_100g', 'carbohydrates_100g', 'sodium_100g', 'ingredients_text', 'labels']].head())\n"
      ]
    },
    {
      "cell_type": "markdown",
      "metadata": {},
      "source": [
        "Le traitement pour le régime Vegan est différent car nous avons énormèment d'entrées contenant le mot Vegan. Seulement, le mot vegan est un parmi plusieurs dizaines d'autres sur une seule et même ligne. Nous allons donc effectuer un parsing sur la colonne labels. Si on détecte le mot \"Vegan\" alors nous ne gardons que cela pour cette entrée. \n",
        "\n",
        "Fonctionnellement, la colonne labels_en ne doit être remplie que par : Vegan, Keto, Mediterranean, Dash et Paleo."
      ]
    },
    {
      "cell_type": "markdown",
      "metadata": {},
      "source": [
        "# Nettoyage final de toutes les colonnes inutiles"
      ]
    },
    {
      "cell_type": "markdown",
      "metadata": {},
      "source": [
        "La dernière partie du nettoyage consiste à supprimer les colonnes qui ne nous seront pas utiles. Actuellement, nous avons 601468 lignes et 45 colonnes. "
      ]
    },
    {
      "cell_type": "code",
      "execution_count": 74,
      "metadata": {},
      "outputs": [
        {
          "ename": "KeyError",
          "evalue": "\"['states_en', 'created_datetime', 'last_modified_datetime', 'url', 'creator', 'image_url', 'image_small_url', 'main_category_en', 'image_nutrition_small_url', 'image_nutrition_url', 'additives_n', 'ingredients_that_may_be_from_palm_oil_n', 'ingredients_from_palm_oil_n', 'image_ingredients_small_url', 'image_ingredients_url', 'nutriscore_score', 'nutriscore_grade', 'nutrition-score-fr_100g', 'nova_group', 'serving_size', 'serving_quantity', 'serving_quantity'] not found in axis\"",
          "output_type": "error",
          "traceback": [
            "\u001b[1;31m---------------------------------------------------------------------------\u001b[0m",
            "\u001b[1;31mKeyError\u001b[0m                                  Traceback (most recent call last)",
            "Cell \u001b[1;32mIn[74], line 11\u001b[0m\n\u001b[0;32m      2\u001b[0m colonnes_a_supprimer \u001b[38;5;241m=\u001b[39m [\n\u001b[0;32m      3\u001b[0m     \u001b[38;5;124m'\u001b[39m\u001b[38;5;124mstates_en\u001b[39m\u001b[38;5;124m'\u001b[39m, \u001b[38;5;124m'\u001b[39m\u001b[38;5;124mcreated_datetime\u001b[39m\u001b[38;5;124m'\u001b[39m, \u001b[38;5;124m'\u001b[39m\u001b[38;5;124mlast_modified_datetime\u001b[39m\u001b[38;5;124m'\u001b[39m, \u001b[38;5;124m'\u001b[39m\u001b[38;5;124murl\u001b[39m\u001b[38;5;124m'\u001b[39m, \u001b[38;5;124m'\u001b[39m\u001b[38;5;124mcreator\u001b[39m\u001b[38;5;124m'\u001b[39m, \u001b[38;5;124m'\u001b[39m\u001b[38;5;124mimage_url\u001b[39m\u001b[38;5;124m'\u001b[39m,\n\u001b[0;32m      4\u001b[0m     \u001b[38;5;124m'\u001b[39m\u001b[38;5;124mimage_small_url\u001b[39m\u001b[38;5;124m'\u001b[39m, \u001b[38;5;124m'\u001b[39m\u001b[38;5;124mmain_category_en\u001b[39m\u001b[38;5;124m'\u001b[39m, \u001b[38;5;124m'\u001b[39m\u001b[38;5;124mimage_nutrition_small_url\u001b[39m\u001b[38;5;124m'\u001b[39m, \u001b[38;5;124m'\u001b[39m\u001b[38;5;124mimage_nutrition_url\u001b[39m\u001b[38;5;124m'\u001b[39m, \n\u001b[1;32m   (...)\u001b[0m\n\u001b[0;32m      7\u001b[0m     \u001b[38;5;124m'\u001b[39m\u001b[38;5;124mnutrition-score-fr_100g\u001b[39m\u001b[38;5;124m'\u001b[39m, \u001b[38;5;124m'\u001b[39m\u001b[38;5;124mnova_group\u001b[39m\u001b[38;5;124m'\u001b[39m, \u001b[38;5;124m'\u001b[39m\u001b[38;5;124mserving_size\u001b[39m\u001b[38;5;124m'\u001b[39m, \u001b[38;5;124m'\u001b[39m\u001b[38;5;124mserving_quantity\u001b[39m\u001b[38;5;124m'\u001b[39m, \u001b[38;5;124m'\u001b[39m\u001b[38;5;124mserving_quantity\u001b[39m\u001b[38;5;124m'\u001b[39m\n\u001b[0;32m      8\u001b[0m ]\n\u001b[0;32m     10\u001b[0m \u001b[38;5;66;03m# Supprimer les colonnes spécifiées\u001b[39;00m\n\u001b[1;32m---> 11\u001b[0m datas_cleaned \u001b[38;5;241m=\u001b[39m \u001b[43mdatas_cleaned\u001b[49m\u001b[38;5;241;43m.\u001b[39;49m\u001b[43mdrop\u001b[49m\u001b[43m(\u001b[49m\u001b[43mcolumns\u001b[49m\u001b[38;5;241;43m=\u001b[39;49m\u001b[43mcolonnes_a_supprimer\u001b[49m\u001b[43m)\u001b[49m\n\u001b[0;32m     13\u001b[0m datas_cleaned\u001b[38;5;241m.\u001b[39mshape\n",
            "File \u001b[1;32mc:\\Users\\Calvyn\\AppData\\Local\\Programs\\Python\\Python312\\Lib\\site-packages\\pandas\\core\\frame.py:5581\u001b[0m, in \u001b[0;36mDataFrame.drop\u001b[1;34m(self, labels, axis, index, columns, level, inplace, errors)\u001b[0m\n\u001b[0;32m   5433\u001b[0m \u001b[38;5;28;01mdef\u001b[39;00m\u001b[38;5;250m \u001b[39m\u001b[38;5;21mdrop\u001b[39m(\n\u001b[0;32m   5434\u001b[0m     \u001b[38;5;28mself\u001b[39m,\n\u001b[0;32m   5435\u001b[0m     labels: IndexLabel \u001b[38;5;241m|\u001b[39m \u001b[38;5;28;01mNone\u001b[39;00m \u001b[38;5;241m=\u001b[39m \u001b[38;5;28;01mNone\u001b[39;00m,\n\u001b[1;32m   (...)\u001b[0m\n\u001b[0;32m   5442\u001b[0m     errors: IgnoreRaise \u001b[38;5;241m=\u001b[39m \u001b[38;5;124m\"\u001b[39m\u001b[38;5;124mraise\u001b[39m\u001b[38;5;124m\"\u001b[39m,\n\u001b[0;32m   5443\u001b[0m ) \u001b[38;5;241m-\u001b[39m\u001b[38;5;241m>\u001b[39m DataFrame \u001b[38;5;241m|\u001b[39m \u001b[38;5;28;01mNone\u001b[39;00m:\n\u001b[0;32m   5444\u001b[0m \u001b[38;5;250m    \u001b[39m\u001b[38;5;124;03m\"\"\"\u001b[39;00m\n\u001b[0;32m   5445\u001b[0m \u001b[38;5;124;03m    Drop specified labels from rows or columns.\u001b[39;00m\n\u001b[0;32m   5446\u001b[0m \n\u001b[1;32m   (...)\u001b[0m\n\u001b[0;32m   5579\u001b[0m \u001b[38;5;124;03m            weight  1.0     0.8\u001b[39;00m\n\u001b[0;32m   5580\u001b[0m \u001b[38;5;124;03m    \"\"\"\u001b[39;00m\n\u001b[1;32m-> 5581\u001b[0m     \u001b[38;5;28;01mreturn\u001b[39;00m \u001b[38;5;28;43msuper\u001b[39;49m\u001b[43m(\u001b[49m\u001b[43m)\u001b[49m\u001b[38;5;241;43m.\u001b[39;49m\u001b[43mdrop\u001b[49m\u001b[43m(\u001b[49m\n\u001b[0;32m   5582\u001b[0m \u001b[43m        \u001b[49m\u001b[43mlabels\u001b[49m\u001b[38;5;241;43m=\u001b[39;49m\u001b[43mlabels\u001b[49m\u001b[43m,\u001b[49m\n\u001b[0;32m   5583\u001b[0m \u001b[43m        \u001b[49m\u001b[43maxis\u001b[49m\u001b[38;5;241;43m=\u001b[39;49m\u001b[43maxis\u001b[49m\u001b[43m,\u001b[49m\n\u001b[0;32m   5584\u001b[0m \u001b[43m        \u001b[49m\u001b[43mindex\u001b[49m\u001b[38;5;241;43m=\u001b[39;49m\u001b[43mindex\u001b[49m\u001b[43m,\u001b[49m\n\u001b[0;32m   5585\u001b[0m \u001b[43m        \u001b[49m\u001b[43mcolumns\u001b[49m\u001b[38;5;241;43m=\u001b[39;49m\u001b[43mcolumns\u001b[49m\u001b[43m,\u001b[49m\n\u001b[0;32m   5586\u001b[0m \u001b[43m        \u001b[49m\u001b[43mlevel\u001b[49m\u001b[38;5;241;43m=\u001b[39;49m\u001b[43mlevel\u001b[49m\u001b[43m,\u001b[49m\n\u001b[0;32m   5587\u001b[0m \u001b[43m        \u001b[49m\u001b[43minplace\u001b[49m\u001b[38;5;241;43m=\u001b[39;49m\u001b[43minplace\u001b[49m\u001b[43m,\u001b[49m\n\u001b[0;32m   5588\u001b[0m \u001b[43m        \u001b[49m\u001b[43merrors\u001b[49m\u001b[38;5;241;43m=\u001b[39;49m\u001b[43merrors\u001b[49m\u001b[43m,\u001b[49m\n\u001b[0;32m   5589\u001b[0m \u001b[43m    \u001b[49m\u001b[43m)\u001b[49m\n",
            "File \u001b[1;32mc:\\Users\\Calvyn\\AppData\\Local\\Programs\\Python\\Python312\\Lib\\site-packages\\pandas\\core\\generic.py:4788\u001b[0m, in \u001b[0;36mNDFrame.drop\u001b[1;34m(self, labels, axis, index, columns, level, inplace, errors)\u001b[0m\n\u001b[0;32m   4786\u001b[0m \u001b[38;5;28;01mfor\u001b[39;00m axis, labels \u001b[38;5;129;01min\u001b[39;00m axes\u001b[38;5;241m.\u001b[39mitems():\n\u001b[0;32m   4787\u001b[0m     \u001b[38;5;28;01mif\u001b[39;00m labels \u001b[38;5;129;01mis\u001b[39;00m \u001b[38;5;129;01mnot\u001b[39;00m \u001b[38;5;28;01mNone\u001b[39;00m:\n\u001b[1;32m-> 4788\u001b[0m         obj \u001b[38;5;241m=\u001b[39m \u001b[43mobj\u001b[49m\u001b[38;5;241;43m.\u001b[39;49m\u001b[43m_drop_axis\u001b[49m\u001b[43m(\u001b[49m\u001b[43mlabels\u001b[49m\u001b[43m,\u001b[49m\u001b[43m \u001b[49m\u001b[43maxis\u001b[49m\u001b[43m,\u001b[49m\u001b[43m \u001b[49m\u001b[43mlevel\u001b[49m\u001b[38;5;241;43m=\u001b[39;49m\u001b[43mlevel\u001b[49m\u001b[43m,\u001b[49m\u001b[43m \u001b[49m\u001b[43merrors\u001b[49m\u001b[38;5;241;43m=\u001b[39;49m\u001b[43merrors\u001b[49m\u001b[43m)\u001b[49m\n\u001b[0;32m   4790\u001b[0m \u001b[38;5;28;01mif\u001b[39;00m inplace:\n\u001b[0;32m   4791\u001b[0m     \u001b[38;5;28mself\u001b[39m\u001b[38;5;241m.\u001b[39m_update_inplace(obj)\n",
            "File \u001b[1;32mc:\\Users\\Calvyn\\AppData\\Local\\Programs\\Python\\Python312\\Lib\\site-packages\\pandas\\core\\generic.py:4830\u001b[0m, in \u001b[0;36mNDFrame._drop_axis\u001b[1;34m(self, labels, axis, level, errors, only_slice)\u001b[0m\n\u001b[0;32m   4828\u001b[0m         new_axis \u001b[38;5;241m=\u001b[39m axis\u001b[38;5;241m.\u001b[39mdrop(labels, level\u001b[38;5;241m=\u001b[39mlevel, errors\u001b[38;5;241m=\u001b[39merrors)\n\u001b[0;32m   4829\u001b[0m     \u001b[38;5;28;01melse\u001b[39;00m:\n\u001b[1;32m-> 4830\u001b[0m         new_axis \u001b[38;5;241m=\u001b[39m \u001b[43maxis\u001b[49m\u001b[38;5;241;43m.\u001b[39;49m\u001b[43mdrop\u001b[49m\u001b[43m(\u001b[49m\u001b[43mlabels\u001b[49m\u001b[43m,\u001b[49m\u001b[43m \u001b[49m\u001b[43merrors\u001b[49m\u001b[38;5;241;43m=\u001b[39;49m\u001b[43merrors\u001b[49m\u001b[43m)\u001b[49m\n\u001b[0;32m   4831\u001b[0m     indexer \u001b[38;5;241m=\u001b[39m axis\u001b[38;5;241m.\u001b[39mget_indexer(new_axis)\n\u001b[0;32m   4833\u001b[0m \u001b[38;5;66;03m# Case for non-unique axis\u001b[39;00m\n\u001b[0;32m   4834\u001b[0m \u001b[38;5;28;01melse\u001b[39;00m:\n",
            "File \u001b[1;32mc:\\Users\\Calvyn\\AppData\\Local\\Programs\\Python\\Python312\\Lib\\site-packages\\pandas\\core\\indexes\\base.py:7070\u001b[0m, in \u001b[0;36mIndex.drop\u001b[1;34m(self, labels, errors)\u001b[0m\n\u001b[0;32m   7068\u001b[0m \u001b[38;5;28;01mif\u001b[39;00m mask\u001b[38;5;241m.\u001b[39many():\n\u001b[0;32m   7069\u001b[0m     \u001b[38;5;28;01mif\u001b[39;00m errors \u001b[38;5;241m!=\u001b[39m \u001b[38;5;124m\"\u001b[39m\u001b[38;5;124mignore\u001b[39m\u001b[38;5;124m\"\u001b[39m:\n\u001b[1;32m-> 7070\u001b[0m         \u001b[38;5;28;01mraise\u001b[39;00m \u001b[38;5;167;01mKeyError\u001b[39;00m(\u001b[38;5;124mf\u001b[39m\u001b[38;5;124m\"\u001b[39m\u001b[38;5;132;01m{\u001b[39;00mlabels[mask]\u001b[38;5;241m.\u001b[39mtolist()\u001b[38;5;132;01m}\u001b[39;00m\u001b[38;5;124m not found in axis\u001b[39m\u001b[38;5;124m\"\u001b[39m)\n\u001b[0;32m   7071\u001b[0m     indexer \u001b[38;5;241m=\u001b[39m indexer[\u001b[38;5;241m~\u001b[39mmask]\n\u001b[0;32m   7072\u001b[0m \u001b[38;5;28;01mreturn\u001b[39;00m \u001b[38;5;28mself\u001b[39m\u001b[38;5;241m.\u001b[39mdelete(indexer)\n",
            "\u001b[1;31mKeyError\u001b[0m: \"['states_en', 'created_datetime', 'last_modified_datetime', 'url', 'creator', 'image_url', 'image_small_url', 'main_category_en', 'image_nutrition_small_url', 'image_nutrition_url', 'additives_n', 'ingredients_that_may_be_from_palm_oil_n', 'ingredients_from_palm_oil_n', 'image_ingredients_small_url', 'image_ingredients_url', 'nutriscore_score', 'nutriscore_grade', 'nutrition-score-fr_100g', 'nova_group', 'serving_size', 'serving_quantity', 'serving_quantity'] not found in axis\""
          ]
        }
      ],
      "source": [
        "# Liste des colonnes à supprimer\n",
        "colonnes_a_supprimer = [\n",
        "    'states_en', 'created_datetime', 'last_modified_datetime', 'url', 'creator', 'image_url',\n",
        "    'image_small_url', 'main_category_en', 'image_nutrition_small_url', 'image_nutrition_url', \n",
        "    'additives_n', 'ingredients_that_may_be_from_palm_oil_n', 'ingredients_from_palm_oil_n', \n",
        "    'image_ingredients_small_url', 'image_ingredients_url', 'nutriscore_score', 'nutriscore_grade', \n",
        "    'nutrition-score-fr_100g', 'nova_group', 'serving_size', 'serving_quantity', 'serving_quantity'\n",
        "]\n",
        "\n",
        "# Supprimer les colonnes spécifiées\n",
        "datas_cleaned = datas_cleaned.drop(columns=colonnes_a_supprimer)\n",
        "\n",
        "datas_cleaned.shape"
      ]
    },
    {
      "cell_type": "markdown",
      "metadata": {},
      "source": [
        "Dorénavant, nous n'avons plus que 24 colonnes. "
      ]
    },
    {
      "cell_type": "markdown",
      "metadata": {},
      "source": [
        "### <font color=\"#ea1c60\" id=\"section_5\">2.6. Enregistrement du fichier nettoyé</font>"
      ]
    },
    {
      "cell_type": "markdown",
      "metadata": {
        "id": "JvO9trT33wTs"
      },
      "source": [
        "Les variables sont à présent filtrées et les données nettoyées et complétées. Nous allons sauvegarder le dataset cleaned pour l'utiliser à présent dans nos **analyses exploratoires**."
      ]
    },
    {
      "cell_type": "code",
      "execution_count": 75,
      "metadata": {
        "id": "vXIeYpyQ3wTs",
        "trusted": true
      },
      "outputs": [],
      "source": [
        "datas_cleaned.set_index(\"code\").to_csv(\"cleaned_openfoodfacts3.csv\", sep='\\t')"
      ]
    }
  ],
  "metadata": {
    "colab": {
      "provenance": []
    },
    "kernelspec": {
      "display_name": "Python 3",
      "language": "python",
      "name": "python3"
    },
    "language_info": {
      "codemirror_mode": {
        "name": "ipython",
        "version": 3
      },
      "file_extension": ".py",
      "mimetype": "text/x-python",
      "name": "python",
      "nbconvert_exporter": "python",
      "pygments_lexer": "ipython3",
      "version": "3.12.8"
    }
  },
  "nbformat": 4,
  "nbformat_minor": 0
}
